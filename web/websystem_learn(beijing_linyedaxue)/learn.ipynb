{
 "cells": [
  {
   "cell_type": "markdown",
   "metadata": {},
   "source": [
    "1. 标签注意缩进\n",
    "2. 父元素、子元素...\n",
    "3. HTML DOM（Document Object Model）树\n",
    "4. 《img src=\"logo.jpg\" alt=\"Logo\" />\"，一个标签可能有多个属性，属性先后顺序无关\n"
   ]
  },
  {
   "cell_type": "code",
   "execution_count": null,
   "metadata": {},
   "outputs": [],
   "source": []
  }
 ],
 "metadata": {
  "language_info": {
   "name": "python"
  },
  "orig_nbformat": 4
 },
 "nbformat": 4,
 "nbformat_minor": 2
}
