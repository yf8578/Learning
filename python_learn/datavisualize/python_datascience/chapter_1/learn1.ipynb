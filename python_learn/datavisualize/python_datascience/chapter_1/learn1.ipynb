{
 "cells": [
  {
   "cell_type": "markdown",
   "metadata": {},
   "source": [
    "## 第一章\n",
    "<hr>\n",
    "使用python计算概率"
   ]
  },
  {
   "cell_type": "markdown",
   "metadata": {},
   "source": [
    "### 1.1"
   ]
  },
  {
   "cell_type": "code",
   "execution_count": 31,
   "metadata": {},
   "outputs": [
    {
     "name": "stdout",
     "output_type": "stream",
     "text": [
      "Probility of choosing heads is : 0.5\n"
     ]
    }
   ],
   "source": [
    "# 样本空间分析：一种用于测量结果不确定性的无方程方法\n",
    "#猜硬币\n",
    "sample_space={'Heads','Tails'}\n",
    "probability_heads=1/len(sample_spece)\n",
    "print(f'Probility of choosing heads is : {probability_heads}')\n"
   ]
  },
  {
   "cell_type": "code",
   "execution_count": 30,
   "metadata": {},
   "outputs": [
    {
     "ename": "NameError",
     "evalue": "name 'sample_space' is not defined",
     "output_type": "error",
     "traceback": [
      "\u001b[1;31m---------------------------------------------------------------------------\u001b[0m",
      "\u001b[1;31mNameError\u001b[0m                                 Traceback (most recent call last)",
      "\u001b[1;32md:\\000zyf\\Learning\\python_learn\\datavisualize\\python_datascience\\chapter_1\\learn1.ipynb 单元格 3\u001b[0m line \u001b[0;36m1\n\u001b[1;32m----> <a href='vscode-notebook-cell:/d%3A/000zyf/Learning/python_learn/datavisualize/python_datascience/chapter_1/learn1.ipynb#X12sZmlsZQ%3D%3D?line=0'>1</a>\u001b[0m sample_space\n",
      "\u001b[1;31mNameError\u001b[0m: name 'sample_space' is not defined"
     ]
    }
   ],
   "source": [
    "sample_space"
   ]
  },
  {
   "cell_type": "code",
   "execution_count": 35,
   "metadata": {},
   "outputs": [
    {
     "data": {
      "text/plain": [
       "{'Heads', 'Tails'}"
      ]
     },
     "execution_count": 35,
     "metadata": {},
     "output_type": "execute_result"
    }
   ],
   "source": [
    "def get_matching_event(event_condition,sample_space):\n",
    "    return set([outcome for outcome in sample_space if event_condition(outcome)])\n",
    "\n",
    "get_matching_event(is_heads_or_tails,sample_space)"
   ]
  },
  {
   "cell_type": "code",
   "execution_count": 37,
   "metadata": {},
   "outputs": [
    {
     "data": {
      "text/plain": [
       "True"
      ]
     },
     "execution_count": 37,
     "metadata": {},
     "output_type": "execute_result"
    }
   ],
   "source": [
    "is_heads_or_tails('Heads')"
   ]
  },
  {
   "cell_type": "code",
   "execution_count": 39,
   "metadata": {},
   "outputs": [
    {
     "data": {
      "text/plain": [
       "False"
      ]
     },
     "execution_count": 39,
     "metadata": {},
     "output_type": "execute_result"
    }
   ],
   "source": [
    "is_heads_or_tails(sample_space)"
   ]
  },
  {
   "cell_type": "code",
   "execution_count": 40,
   "metadata": {},
   "outputs": [
    {
     "data": {
      "text/plain": [
       "{'Heads', 'Tails'}"
      ]
     },
     "execution_count": 40,
     "metadata": {},
     "output_type": "execute_result"
    }
   ],
   "source": [
    " get_matching_event(is_heads_or_tails,sample_space)"
   ]
  },
  {
   "cell_type": "code",
   "execution_count": 36,
   "metadata": {},
   "outputs": [
    {
     "name": "stdout",
     "output_type": "stream",
     "text": [
      "Probability of \"is_heads_or_tails\" is 1.00\n",
      "Probability of \"is_heads\" is 0.50\n",
      "Probability of \"is_tails\" is 0.50\n",
      "Probability of \"is_neither\" is 0.00\n"
     ]
    }
   ],
   "source": [
    "#定义事件条件\n",
    "def is_heads_or_tails(outcome):return outcome in {'Heads','Tails'}\n",
    "def is_neither(outcome):return outcome not in {'Heads','Tails'}\n",
    "#定义额外的事件条件\n",
    "def is_heads(outcomes):return outcomes=='Heads'\n",
    "def is_tails(outcomes):return outcomes=='Tails'\n",
    "#定义事件检测函数\n",
    "def get_matching_event(event_condition,sample_space):\n",
    "    return set([outcome for outcome in sample_space if event_condition(outcome)])\n",
    "#使用时间条件检测事件\n",
    "event_conditions=[is_heads_or_tails,is_heads,is_tails,is_neither]\n",
    "#输出四个事件\n",
    "# for event_condition in event_conditions:\n",
    "#     print(f'Event Condition: {event_condition.__name__}')\n",
    "#     event=get_matching_event(event_condition,sample_spece)\n",
    "#     print(f'Event:{event}\\n')\n",
    "def compute_probability(event_condition,sample_spece):\n",
    "    event=get_matching_event(event_condition,sample_spece)\n",
    "    return len(event)/len(sample_spece)\n",
    "\n",
    "for event_condition in event_conditions:\n",
    "    prob=compute_probability(event_condition,sample_space)\n",
    "    name=event_condition.__name__\n",
    "    print(f'Probability of \"{name}\" is {prob:.2f}')    "
   ]
  },
  {
   "cell_type": "code",
   "execution_count": 25,
   "metadata": {},
   "outputs": [],
   "source": [
    "#############分析有偏硬币\n",
    "#表示加权样本空间\n",
    "weighted_sample_space={'Heads':4,'Tails':1}\n",
    "#检查加权样本空间大小\n",
    "sample_space_size=sum(weighted_sample_space.values())\n",
    "assert sample_space_size==5"
   ]
  },
  {
   "cell_type": "code",
   "execution_count": 26,
   "metadata": {},
   "outputs": [],
   "source": [
    "#检查加权事件大小\n",
    "event=get_matching_event(is_heads_or_tails,weighted_sample_space)\n",
    "event_size=sum(weighted_sample_space[outcome] for outcome in event)\n",
    "assert event_size==5"
   ]
  },
  {
   "cell_type": "code",
   "execution_count": 41,
   "metadata": {},
   "outputs": [
    {
     "name": "stdout",
     "output_type": "stream",
     "text": [
      "{'Heads', 'Tails'}\n",
      "Probability of \"is_heads_or_tails\" is 1.00\n",
      "{'Heads'}\n",
      "Probability of \"is_heads\" is 0.80\n",
      "{'Tails'}\n",
      "Probability of \"is_tails\" is 0.20\n",
      "set()\n",
      "Probability of \"is_neither\" is 0.00\n"
     ]
    }
   ],
   "source": [
    "#定义广义事件概率函数\n",
    "def compute_event_probality(event_condition,generic_sample_space):\n",
    "    event=get_matching_event(event_condition,generic_sample_space)\n",
    "    print(event)\n",
    "    if type(generic_sample_space)==type(set()):\n",
    "        return len(event)/len(generic_sample_space)\n",
    "    \n",
    "    event_size=sum(generic_sample_space[outcome] for outcome in event)\n",
    "    return event_size/sum(generic_sample_space.values())\n",
    "\n",
    "#计算加权事件概率\n",
    "for event_condition in event_conditions:\n",
    "    prob=compute_event_probality(event_condition,weighted_sample_space)\n",
    "    name=event_condition.__name__\n",
    "    print(f'Probability of \"{name}\" is {prob:.2f}')"
   ]
  },
  {
   "cell_type": "markdown",
   "metadata": {},
   "source": [
    "### 1.2 计算非平凡概率"
   ]
  }
 ],
 "metadata": {
  "kernelspec": {
   "display_name": "ml",
   "language": "python",
   "name": "python3"
  },
  "language_info": {
   "codemirror_mode": {
    "name": "ipython",
    "version": 3
   },
   "file_extension": ".py",
   "mimetype": "text/x-python",
   "name": "python",
   "nbconvert_exporter": "python",
   "pygments_lexer": "ipython3",
   "version": "3.11.5"
  }
 },
 "nbformat": 4,
 "nbformat_minor": 2
}
