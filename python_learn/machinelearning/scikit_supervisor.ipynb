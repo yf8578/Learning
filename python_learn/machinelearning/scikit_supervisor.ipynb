{
 "cells": [
  {
   "cell_type": "markdown",
   "metadata": {},
   "source": [
    "# 监督学习\n",
    "## 广义线性模型\n",
    "### 普通最小二乘法"
   ]
  },
  {
   "cell_type": "markdown",
   "metadata": {},
   "source": [
    "$\\widehat{y}(w, x) = w_0 + w_1 x_1 + ... + w_p x_p$\n",
    "<br />\n",
    "在整个模块中，我们定义向量$w=(w_1,...,w_p)$为coef_，定义$w_0$为intercept_。"
   ]
  },
  {
   "cell_type": "code",
   "execution_count": 1,
   "metadata": {},
   "outputs": [],
   "source": [
    "#最小普通二乘法\n",
    "#使用第三方糖尿病数据集\n",
    "import matplotlib.pyplot  as plt\n",
    "import numpy as np\n",
    "from sklearn import datasets, linear_model\n",
    "from sklearn.metrics import mean_squared_error, r2_score"
   ]
  },
  {
   "cell_type": "code",
   "execution_count": 30,
   "metadata": {},
   "outputs": [],
   "source": [
    "#加载糖尿病数据集\n",
    "diabetes_X,diabetes_y=datasets.load_diabetes(return_X_y=True)"
   ]
  },
  {
   "cell_type": "code",
   "execution_count": 27,
   "metadata": {},
   "outputs": [],
   "source": [
    "#只使用一个特征\n",
    "diabetes_X=diabetes_X[:,np.newaxis,2]\n",
    "#将数据分为训练集和测试集\n",
    "diabetes_X_train=diabetes_X[:-20]\n",
    "diabetes_X_test=diabetes_X[-20:]\n",
    "#将目标也分为训练集和测试集\n",
    "diabetes_y_train=diabetes_y[:-20]\n",
    "diabetes_y_test=diabetes_y[-20:]"
   ]
  },
  {
   "cell_type": "code",
   "execution_count": 35,
   "metadata": {},
   "outputs": [
    {
     "name": "stdout",
     "output_type": "stream",
     "text": [
      "Training Set - Features Shape: (422, 1)\n",
      "Testing Set - Features Shape: (20, 1)\n",
      "Training Set - Labels Shape: (422,)\n",
      "Testing Set - Labels Shape: (20,)\n"
     ]
    }
   ],
   "source": [
    "print(\"Training Set - Features Shape:\", diabetes_X_train.shape)\n",
    "print(\"Testing Set - Features Shape:\", diabetes_X_test.shape)\n",
    "print(\"Training Set - Labels Shape:\", diabetes_y_train.shape)\n",
    "print(\"Testing Set - Labels Shape:\", diabetes_y_test.shape)"
   ]
  }
 ],
 "metadata": {
  "kernelspec": {
   "display_name": "ml",
   "language": "python",
   "name": "python3"
  },
  "language_info": {
   "codemirror_mode": {
    "name": "ipython",
    "version": 3
   },
   "file_extension": ".py",
   "mimetype": "text/x-python",
   "name": "python",
   "nbconvert_exporter": "python",
   "pygments_lexer": "ipython3",
   "version": "3.11.5"
  }
 },
 "nbformat": 4,
 "nbformat_minor": 2
}
