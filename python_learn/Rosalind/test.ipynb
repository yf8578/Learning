{
 "cells": [
  {
   "cell_type": "code",
   "execution_count": 7,
   "metadata": {},
   "outputs": [
    {
     "name": "stdout",
     "output_type": "stream",
     "text": [
      "A:['GCU', 'GCC', 'GCA', 'GCG']\n",
      "C:['UGU', 'UGC']\n"
     ]
    }
   ],
   "source": [
    "RNA_CODEX = {\n",
    "    'A': ['GCU', 'GCC', 'GCA', 'GCG'],\n",
    "    'C': ['UGU', 'UGC']\n",
    "}\n",
    "\n",
    "for aa, codons in RNA_CODEX.items():\n",
    "    # print(f\"Amino Acid: {aa}, Codons: {codons}\")\n",
    "    print(f'{aa}:{codons}')"
   ]
  }
 ],
 "metadata": {
  "kernelspec": {
   "display_name": "bioinfo_py",
   "language": "python",
   "name": "python3"
  },
  "language_info": {
   "codemirror_mode": {
    "name": "ipython",
    "version": 3
   },
   "file_extension": ".py",
   "mimetype": "text/x-python",
   "name": "python",
   "nbconvert_exporter": "python",
   "pygments_lexer": "ipython3",
   "version": "3.13.0"
  }
 },
 "nbformat": 4,
 "nbformat_minor": 2
}
