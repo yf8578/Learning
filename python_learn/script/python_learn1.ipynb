{
 "cells": [
  {
   "cell_type": "markdown",
   "metadata": {},
   "source": [
    "# PYTHON \n",
    "87—"
   ]
  },
  {
   "cell_type": "markdown",
   "metadata": {},
   "source": [
    "### 函数的创建和调用\n",
    "1. 复用代码\n",
    "2. 隐藏实现细节\n",
    "3. 提高可维护性\n",
    "4. 提高可读性，便于调试\n",
    "\n",
    "#### 函数的返回值\n",
    "1. 如果函数没有返回值【数据执行完毕之后，不需要给调用出提供数据】 return可以省略\n",
    "2. 函数的返回值，如果是一个，直接返回类型\n",
    "3. 函数的返回值，如果是多个，返回的是元组\n",
    "\n",
    "函数在定义时，是否需要返回值，视情况而定"
   ]
  },
  {
   "cell_type": "code",
   "execution_count": null,
   "metadata": {
    "vscode": {
     "languageId": "plaintext"
    }
   },
   "outputs": [],
   "source": []
  }
 ],
 "metadata": {
  "language_info": {
   "name": "python"
  },
  "orig_nbformat": 4
 },
 "nbformat": 4,
 "nbformat_minor": 2
}
