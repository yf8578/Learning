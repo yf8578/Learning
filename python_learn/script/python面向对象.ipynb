{
 "cells": [
  {
   "cell_type": "markdown",
   "metadata": {},
   "source": [
    "# PYTHON学习\n",
    "（b站视频106-120）"
   ]
  },
  {
   "cell_type": "markdown",
   "metadata": {},
   "source": [
    "## **面向对象技术简介**\n",
    "- **类(Class)**: 用来描述具有相同的属性和方法的对象的集合。它定义了该集合中每个对象所共有的属性和方法。对象是类的实例。\n",
    "- 类变量：类变量在整个实例化的对象中是公用的。类变量定义在类中且在函数体之外。类变量通常不作为实例变量使用。\n",
    "- 数据成员：类变量或者实例变量, 用于处理类及其实例对象的相关的数据。\n",
    "- 方法重写：如果从父类继承的方法不能满足子类的需求，可以对其进行改写，这个过程叫方法的覆盖（override），也称为方法的重写。\n",
    "- 局部变量：定义在方法中的变量，只作用于当前实例的类。\n",
    "- 实例变量：在类的声明中，属性是用变量来表示的。这种变量就称为实例变量，是在类声明的内部但是在类的其他成员方法之外声明的。\n",
    "- 继承：即一个派生类（derived class）继承基类（base class）的字段和方法。继承也允许把一个派生类的对象作为一个基类对象对待。例如，有这样一个- 设计：一个Dog类型的对象派生自Animal类，这是模拟\"是一个（is-a）\"关系（例图，Dog是一个Animal）。\n",
    "- 实例化：创建一个类的实例，类的具体对象。\n",
    "- 方法：类中定义的函数。\n",
    "- 对象：通过类定义的数据结构实例。对象包括两个数据成员（类变量和实例变量）和方法。"
   ]
  },
  {
   "cell_type": "markdown",
   "metadata": {},
   "source": [
    "### 类的创建\n",
    "1. 创建类的语法\n",
    "2. 类的组成\n",
    "- 类属性\n",
    "- 实例方法\n",
    "- 类方法\n",
    "- 静态方法"
   ]
  },
  {
   "cell_type": "code",
   "execution_count": 7,
   "metadata": {},
   "outputs": [
    {
     "name": "stdout",
     "output_type": "stream",
     "text": [
      "2636265342576\n",
      "<class 'type'>\n",
      "<class '__main__.Student'>\n"
     ]
    }
   ],
   "source": [
    "#learn 1\n",
    "class Student: # 类名首字母大写,可以由一个或多个单词组成，\n",
    "    pass\n",
    "    # native_pace = \"吉林\" # 直接写在类里的变量，称为类属性，没想好可用pass占位\n",
    "    #python中一切皆对象，Student是对象吗？内存有开空间吗？\n",
    "print(id(Student)) #2636265342576\n",
    "print(type(Student)) #<class 'type'>\n",
    "print(Student) #<class '__main__.Student'>"
   ]
  },
  {
   "cell_type": "code",
   "execution_count": null,
   "metadata": {},
   "outputs": [],
   "source": [
    "#learn 2\n",
    "class Student: # 类名首字母大写,可以由一个或多个单词组成，\n",
    "    native_pace = \"吉林\" # 直接写在类里的变量，称为类属性，没想好可用pass占位\n",
    "    def __init__(self,name,age): #初始化方法，self不是关键字，可以用任意一个普通变量代替\n",
    "        self.name = name #self.name称为实体属性，进行了一个赋值操作，将局部变量的值赋给实体属性\n",
    "        self.age = age\n",
    "    #实例方法\n",
    "    def eat(self):\n",
    "        print(\"学生在吃饭\")\n",
    "        #在类之外定义的叫做函数，类之内的叫做方法\n",
    "    #静态方法\n",
    "    @staticmethod\n",
    "    def method():#静态方法之中，括号里不允许写self\n",
    "        print(\"我使用了staticmethod进行修饰，所以我是静态方法\")\n",
    "    #类方法\n",
    "    @classmethod\n",
    "    def cm(cls):#要求传一个参数，参数名约定俗成cls\n",
    "        print(\"我是一个类方法，因为我使用了classmethod进行修饰\")\n",
    "        "
   ]
  },
  {
   "cell_type": "markdown",
   "metadata": {},
   "source": [
    "### 对象的创建\n",
    "对象的创建又称为类的实例化，对象是类的实例化，对象是类的实例化，对象是类的实例化，重要的事情说三遍\n",
    "语法：对象名 = 类名()\n"
   ]
  },
  {
   "cell_type": "code",
   "execution_count": 10,
   "metadata": {},
   "outputs": [
    {
     "name": "stdout",
     "output_type": "stream",
     "text": [
      "2636300722736\n",
      "<class '__main__.Student'>\n",
      "<__main__.Student object at 0x00000265CFC4A230>\n",
      "------------------\n",
      "2636265372336\n",
      "<class 'type'>\n",
      "<class '__main__.Student'>\n"
     ]
    }
   ],
   "source": [
    "#learn 3\n",
    "class Student: # 类名首字母大写,可以由一个或多个单词组成，\n",
    "    native_pace = \"吉林\" # 直接写在类里的变量，称为类属性，没想好可用pass占位\n",
    "    def __init__(self,name,age): #初始化方法，self不是关键字，可以用任意一个普通变量代替\n",
    "        self.name = name #self.name称为实体属性，进行了一个赋值操作，将局部变量的值赋给实体属性\n",
    "        self.age = age\n",
    "    #实例方法\n",
    "    def eat(self):\n",
    "        print(\"学生在吃饭\")\n",
    "        #在类之外定义的叫做函数，类之内的叫做方法\n",
    "    #静态方法\n",
    "    @staticmethod\n",
    "    def method():#静态方法之中，括号里不允许写self\n",
    "        print(\"我使用了staticmethod进行修饰，所以我是静态方法\")\n",
    "    #类方法\n",
    "    @classmethod\n",
    "    def cm(cls):#要求传一个参数，参数名约定俗成cls\n",
    "        print(\"我是一个类方法，因为我使用了classmethod进行修饰\")\n",
    "def drink():#在类之外定义的叫做函数\n",
    "    print(\"喝水\")\n",
    "    \n",
    "#创建Student类的对象,Student类对象.stu1实例对象\n",
    "stu1 = Student(\"张三\",20)\n",
    "print(id(stu1)) #2636298723360\n",
    "print(type(stu1)) #<class '__main__.Student'>\n",
    "print(stu1) #<__main__.Student object at 0x00000265CFA62020>\n",
    "print('------------------')\n",
    "print(id(Student))\n",
    "print(type(Student))\n",
    "print(Student)"
   ]
  },
  {
   "cell_type": "code",
   "execution_count": 15,
   "metadata": {},
   "outputs": [
    {
     "name": "stdout",
     "output_type": "stream",
     "text": [
      "学生在吃饭\n",
      "张三\n",
      "20\n",
      "------------------\n",
      "学生在吃饭\n"
     ]
    }
   ],
   "source": [
    "#learn 4\n",
    "class Student: # 类名首字母大写,可以由一个或多个单词组成，\n",
    "    native_pace = \"吉林\" # 直接写在类里的变量，称为类属性，没想好可用pass占位\n",
    "    def __init__(self,name,age): #初始化方法，self不是关键字，可以用任意一个普通变量代替\n",
    "        self.name = name #self.name称为实体属性，进行了一个赋值操作，将局部变量的值赋给实体属性\n",
    "        self.age = age\n",
    "    #实例方法\n",
    "    def eat(self):\n",
    "        print(\"学生在吃饭\")\n",
    "        #在类之外定义的叫做函数，类之内的叫做方法\n",
    "    #静态方法\n",
    "    @staticmethod\n",
    "    def method():#静态方法之中，括号里不允许写self\n",
    "        print(\"我使用了staticmethod进行修饰，所以我是静态方法\")\n",
    "    #类方法\n",
    "    @classmethod\n",
    "    def cm(cls):#要求传一个参数，参数名约定俗成cls\n",
    "        print(\"我是一个类方法，因为我使用了classmethod进行修饰\")\n",
    "def drink():#在类之外定义的叫做函数\n",
    "    print(\"喝水\")\n",
    "    \n",
    "#创建Student类的对象,Student类对象.stu1实例对象\n",
    "stu1 = Student(\"张三\",20)\n",
    "stu1.eat() #学生在吃饭        #对象名.方法名()，调用方法\n",
    "print(stu1.name) #张三\n",
    "print(stu1.age) #20\n",
    "\n",
    "print('------------------')\n",
    "\n",
    "Student.eat(stu1) #与stu1.eat()等价，都是调用Student类中的eat方法   #类名.方法名(类的对象），实际上就是实例方法定义的self"
   ]
  },
  {
   "cell_type": "markdown",
   "metadata": {},
   "source": [
    "### 类属性、类方法、静态方法\n",
    "类属性：类中方法外的变量成为类属性，被该类的所有对象所共享\n",
    "类方法：使用@classmethod修饰的方法，使用类名直接访问的方法\n",
    "静态方法：使用@staticmethod修饰的方法，使用类名直接访问的方法\n",
    "```python\n",
    "print(Student.native_place) #访问类属性\n",
    "Student.cm() #调用类方法\n",
    "Student.sm() #调用静态方法\n",
    "```"
   ]
  },
  {
   "cell_type": "code",
   "execution_count": 20,
   "metadata": {},
   "outputs": [
    {
     "name": "stdout",
     "output_type": "stream",
     "text": [
      "吉林\n",
      "吉林\n",
      "吉林\n",
      "天津\n",
      "天津\n",
      "----------类方法的使用--------\n",
      "我是一个类方法，因为我使用了classmethod进行修饰\n",
      "----------静态方法的使用--------\n",
      "我使用了staticmethod进行修饰，所以我是静态方法\n"
     ]
    }
   ],
   "source": [
    "#learn 5\n",
    "class Student: # 类名首字母大写,可以由一个或多个单词组成，\n",
    "    native_pace = \"吉林\" # 直接写在类里的变量，称为类属性，没想好可用pass占位\n",
    "    def __init__(self,name,age): #初始化方法，self不是关键字，可以用任意一个普通变量代替\n",
    "        self.name = name #self.name称为实体属性，进行了一个赋值操作，将局部变量的值赋给实体属性\n",
    "        self.age = age\n",
    "    #实例方法\n",
    "    def eat(self):\n",
    "        print(\"学生在吃饭\")\n",
    "        #在类之外定义的叫做函数，类之内的叫做方法\n",
    "    #静态方法\n",
    "    @staticmethod\n",
    "    def method():#静态方法之中，括号里不允许写self\n",
    "        print(\"我使用了staticmethod进行修饰，所以我是静态方法\")\n",
    "    #类方法\n",
    "    @classmethod\n",
    "    def cm(cls):#要求传一个参数，参数名约定俗成cls\n",
    "        print(\"我是一个类方法，因为我使用了classmethod进行修饰\")\n",
    "def drink():#在类之外定义的叫做函数\n",
    "    print(\"喝水\")\n",
    "    \n",
    "    \n",
    "#类属性的使用方法\n",
    "print(Student.native_pace) #吉林\n",
    "stu1 = Student(\"张三\",20)\n",
    "stu2 = Student(\"李四\",30)\n",
    "print(stu1.native_pace) #吉林\n",
    "print(stu2.native_pace) #吉林\n",
    "Student.native_pace = \"天津\"\n",
    "print(stu1.native_pace) #天津\n",
    "print(stu2.native_pace) #天津\n",
    "\n",
    "print('----------类方法的使用--------')\n",
    "Student.cm() #我是一个类方法，因为我使用了classmethod进行修饰；之前括号中写到的cls不需要传入\n",
    "\n",
    "print('----------静态方法的使用--------')\n",
    "Student.method() #我使用了staticmethod进行修饰，所以我是静态方法"
   ]
  },
  {
   "cell_type": "markdown",
   "metadata": {},
   "source": [
    "### 动态绑定属性和方法\n",
    "python是动态语言，允许在程序运行时给对象绑定新的属性和方法\n",
    "```python\n"
   ]
  },
  {
   "cell_type": "code",
   "execution_count": 25,
   "metadata": {},
   "outputs": [
    {
     "name": "stdout",
     "output_type": "stream",
     "text": [
      "2636280562688\n",
      "2636280567104\n",
      "------为stu2动态绑定性别属性------------\n",
      "张三 20\n",
      "李四 30 女\n",
      "-----------------\n",
      "张三在吃饭\n",
      "李四在吃饭\n",
      "定义在类之外的，称为函数\n"
     ]
    }
   ],
   "source": [
    "# learn 6\n",
    "class Student:\n",
    "    def __init__(self,name,age):\n",
    "        self.name = name\n",
    "        self.age = age\n",
    "    def eat(self):\n",
    "        print(self.name+\"在吃饭\")\n",
    "        \n",
    "stu1 = Student(\"张三\",20)\n",
    "stu2 = Student(\"李四\",30)\n",
    "print(id(stu1))\n",
    "print(id(stu2))\n",
    "print('------为stu2动态绑定性别属性------------')\n",
    "stu2.gender = \"女\"\n",
    "print(stu1.name,stu1.age)\n",
    "print(stu2.name,stu2.age,stu2.gender)\n",
    "\n",
    "\n",
    "print('-------为stu1动态绑定方法----------')\n",
    "stu1.eat()\n",
    "stu2.eat()\n",
    "\n",
    "def show():\n",
    "    print(\"定义在类之外的，称为函数\")\n",
    "    \n",
    "stu1.show = show\n",
    "stu1.show()    "
   ]
  },
  {
   "cell_type": "markdown",
   "metadata": {},
   "source": [
    "### 封装、继承、多态\n",
    "封装：提高程序的安全性\n",
    "将数据（属性）和行为（方法）包装到类对象中。在方法内部对属性进行操作，在类对象的外部调用方法。这样，无需关心方法内部的具体实现细节，从而隔离了复杂度。\n",
    "在python中没有专门的修饰符用于属性的私有，如果该属性不希望再类对象外部被访问，前边使用两个下划线__修饰，将属性进行私有化。\n",
    "\n",
    "继承：提高代码的复用性\n",
    "\n",
    "多态：提高程序的可扩展性和可维护性\n",
    "\n",
    "封装"
   ]
  },
  {
   "cell_type": "code",
   "execution_count": 28,
   "metadata": {},
   "outputs": [
    {
     "name": "stdout",
     "output_type": "stream",
     "text": [
      "汽车已启动\n",
      "宝马\n"
     ]
    }
   ],
   "source": [
    "#learn 7\n",
    "class Car:\n",
    "    def __init__(self, brand):\n",
    "        self.brand = brand\n",
    "    def start(self):\n",
    "        print(\"汽车已启动\")\n",
    "        \n",
    "car= Car(\"宝马\")\n",
    "car.start()\n",
    "print(car.brand)"
   ]
  },
  {
   "cell_type": "code",
   "execution_count": 7,
   "metadata": {},
   "outputs": [
    {
     "name": "stdout",
     "output_type": "stream",
     "text": [
      "张三 20\n",
      "kdhas\n",
      "张三\n",
      "['_Student__age', '__class__', '__delattr__', '__dict__', '__dir__', '__doc__', '__eq__', '__format__', '__ge__', '__getattribute__', '__gt__', '__hash__', '__init__', '__init_subclass__', '__le__', '__lt__', '__module__', '__ne__', '__new__', '__reduce__', '__reduce_ex__', '__repr__', '__setattr__', '__sizeof__', '__str__', '__subclasshook__', '__weakref__', 'name', 'show']\n",
      "20\n"
     ]
    }
   ],
   "source": [
    "class Student:\n",
    "    def __init__(self,name,age):\n",
    "        self.name = name\n",
    "        self.__age = age #年龄不希望在类的外部被使用，所以加了两个下划线\n",
    "    def show(self):\n",
    "        '''kdhas'''\n",
    "        print(self.name,self.__age)\n",
    "        \n",
    "stu = Student(\"张三\",20)\n",
    "stu.show()\n",
    "print(stu.show.__doc__)\n",
    "#在类的外部使用name与age\n",
    "print(stu.name)\n",
    "# print(stu.__age) #AttributeError: 'Student' object has no attribute '__age'\n",
    "print(dir(stu)) #查看对象中所有的属性\n",
    "print(stu._Student__age) #20#在类的外部可以通过_类名__属性名访问到私有属性\n",
    "#看程序员自觉性"
   ]
  },
  {
   "cell_type": "markdown",
   "metadata": {},
   "source": [
    "继承\n",
    "```python\n",
    "class 子类类名(父类类名):\n",
    "    pass\n",
    "```\n",
    "如果一个类没有继承任何类，则默认继承object类，object类是所有类的父类，object类是所有类的父类，object类是所有类的父类，重要的事情说三遍\n",
    "\n",
    "python支持多继承\n",
    "\n",
    "定义子类时，必须在其构造函数中调用父类的构造函数"
   ]
  },
  {
   "cell_type": "code",
   "execution_count": 34,
   "metadata": {},
   "outputs": [
    {
     "name": "stdout",
     "output_type": "stream",
     "text": [
      "张三 20\n",
      "李四 30\n"
     ]
    }
   ],
   "source": [
    "class Person(object):#Person继承object类\n",
    "    def __init__(self,name,age):\n",
    "        self.name = name\n",
    "        self.__age = age\n",
    "    def info(self):\n",
    "        print(self.name,self.__age)\n",
    "        \n",
    "class Student(Person):\n",
    "    def __init__(self,name,age,score):\n",
    "        super().__init__(name,age) #调用父类的__init__方法\n",
    "        self.score = score\n",
    "\n",
    "class Teacher(Person):\n",
    "    def __init__(self,name,age,teacherofyear):\n",
    "        super().__init__(name,age)\n",
    "        self.teacherofyear = teacherofyear\n",
    "\n",
    "        \n",
    "        \n",
    "stu = Student(\"张三\",20,100)\n",
    "teacher = Teacher(\"李四\",30,10)\n",
    "\n",
    "stu.info()\n",
    "teacher.info()"
   ]
  },
  {
   "cell_type": "markdown",
   "metadata": {},
   "source": [
    "### 方法重写\n",
    "如果子类对继承自父类的某个属性或方法不满意可以在子类中对其进行重新编写。\n",
    "\n",
    "子类重写后的方法中可以通过super().xxx()来调用父类中被重写的方法"
   ]
  },
  {
   "cell_type": "code",
   "execution_count": 1,
   "metadata": {},
   "outputs": [
    {
     "name": "stdout",
     "output_type": "stream",
     "text": [
      "xingming:张三,nianling:20\n",
      "成绩:100\n"
     ]
    }
   ],
   "source": [
    "class Person(object):\n",
    "    def __init__(self,name,age):\n",
    "        self.name = name\n",
    "        self.age = age\n",
    "    def info(self):\n",
    "        print('xingming:{0},nianling:{1}'.format(self.name,self.age))\n",
    "#定义子类\n",
    "class Student(Person):\n",
    "    def __init__(self,name,age,score):\n",
    "        super().__init__(name,age)\n",
    "        self.score = score\n",
    "    def info(self):\n",
    "        super().info()\n",
    "        print(\"成绩:{0}\".format(self.score))\n",
    "        \n",
    "#ceshi\n",
    "stu = Student(\"张三\",20,100)\n",
    "stu.info()"
   ]
  },
  {
   "cell_type": "markdown",
   "metadata": {},
   "source": [
    "### object类\n",
    "oject类是python中所有类的父类，因此object类中有一些所有类都具备的方法。\n",
    "\n",
    "内置函数dir()可以查看一个类或对象所有属性和方法\n",
    "\n",
    "object有一个__str__()方法，用于返回一个对于“对象的描述”，对应于内置函数str（）经常用于print（）方法，帮我们查看对象信息，所以我们经常会对__str__()进行重写\n"
   ]
  },
  {
   "cell_type": "code",
   "execution_count": 6,
   "metadata": {},
   "outputs": [
    {
     "name": "stdout",
     "output_type": "stream",
     "text": [
      "姓名:张三,年龄:20\n",
      "<class '__main__.Student'>\n"
     ]
    }
   ],
   "source": [
    "class Student:\n",
    "    def __init__(self,name,age):\n",
    "        self.name = name\n",
    "        self.age = age\n",
    "    def __str__(self):\n",
    "        return \"姓名:{0},年龄:{1}\".format(self.name,self.age)\n",
    "\n",
    "stu=Student(\"张三\",20)\n",
    "print(stu) ##默认调用__str__方法\n",
    "print(type(stu))"
   ]
  },
  {
   "cell_type": "markdown",
   "metadata": {},
   "source": [
    "### 多态\n",
    "“具有多种形态”，指的是：即使不知道一个变量所引用的对象到底是什么类型，仍然可以通过这个变量调用方法，在运行过程中根据变量所引用对象类型，动态决定调用哪个对象中的方法。\n",
    "\n",
    "#### 静态语言和动态语言关于多态的区别（python是动态语言）\n",
    "静态语言实现多态的三个必要条件\n",
    "继承\n",
    "方法重写\n",
    "父类引用只想子类对象\n",
    "\n",
    "动态语言的多态崇尚“鸭子类型”，当看到一只鸟走起来像鸭子，游泳起来像鸭子，叫起来也像鸭子，那么这只鸟就可以被称为鸭子。\n",
    "\n",
    "在鸭子类型中，不需要关心对象是什么类型，到底是不是鸭子，只关心对象的行为。"
   ]
  },
  {
   "cell_type": "code",
   "execution_count": 9,
   "metadata": {},
   "outputs": [
    {
     "name": "stdout",
     "output_type": "stream",
     "text": [
      "狗吃肉\n",
      "猫吃鱼\n",
      "动物会吃\n",
      "----------------\n",
      "人吃五谷杂粮\n"
     ]
    }
   ],
   "source": [
    "class Animal(object):\n",
    "    def eat(self):\n",
    "        print(\"动物会吃\")\n",
    "class Dog(Animal):\n",
    "    def eat(self):\n",
    "        print(\"狗吃肉\")\n",
    "class Cat(Animal):\n",
    "    def eat(self):\n",
    "        print(\"猫吃鱼\")\n",
    "        \n",
    "\n",
    "class Person(object):\n",
    "    def eat(self):\n",
    "        print(\"人吃五谷杂粮\")\n",
    "\n",
    "#定义一个函数     \n",
    "def fun(obj):\n",
    "    obj.eat()\n",
    "    \n",
    "#开始调用函数\n",
    "fun(Dog())\n",
    "fun(Cat())\n",
    "fun(Animal())\n",
    "print('----------------')\n",
    "fun(Person())\n",
    "\n",
    "# 猫、狗是动物的子类；但人不是。因为fun函数中有eat方法，所以人可以和猫、狗、动物一样进行输出"
   ]
  },
  {
   "cell_type": "markdown",
   "metadata": {},
   "source": [
    "### 特殊属性和方法\n",
    "| |名称|描述|\n",
    "|---|---|---|\n",
    "|特殊属性| __dict__|用于查看类或对象中的所有属性\n",
    "|特殊属性| __doc__|用于查看类或对象的文档信息\n",
    "|特殊属性| __name__|用于查看类的名称\n",
    "|特殊属性| __bases__|用于查看类的所有父类\n",
    "|特殊方法| __init__|构造方法，创建对象时自动调用\n",
    "|特殊方法| __del__|析构方法，当对象被销毁时自动调用\n",
    "|特殊方法| __call__|对象后面加括号，触发执行\n",
    "|特殊方法| __str__|返回对象的描述信息，print函数输出使用\n",
    "|特殊方法| __getitem__|获取指定索引对应的值，相当于self[key]\n",
    "|特殊方法| __setitem__|设置指定索引对应的值，相当于self[key]=value\n",
    "|特殊方法| __delitem__|删除指定索引对应的值，相当于del self[key]\n",
    "|特殊方法| __iter__|将对象转换为可迭代对象，使用for循环遍历对象中的值\n",
    "|特殊方法| __len__|返回对象中元素的个数，使用len(obj)调用\n",
    "|特殊方法| __add__|定义对象相加的行为，使用+号进行运算\n",
    "|特殊方法| __sub__|定义对象相减的行为，使用-号进行运算\n",
    "|特殊方法| __mul__|定义对象相乘的行为，使用*号进行运算\n",
    "|特殊方法| __truediv__|定义对象相除的行为，使用/号进行运算\n",
    "|特殊方法| __floordiv__|定义对象相整除的行为，使用//号进行运算\n",
    "|特殊方法| __mod__|定义对象相求余的行为，使用%号进行运算\n",
    "|特殊方法| __pow__|定义对象相乘方的行为，使用**号进行运算\n",
    "|特殊方法| __lt__|定义对象小于的行为，使用<号进行比较\n",
    "|特殊方法| __le__|定义对象小于等于的行为，使用<=号进行比较\n",
    "|特殊方法| __gt__|定义对象大于的行为，使用>号进行比较\n",
    "|特殊方法| __ge__|定义对象大于等于的行为，使用>=号进行比较\n",
    "|特殊方法| __eq__|定义对象等于的行为，使用==号进行比较\n",
    "|特殊方法| __ne__|定义对象不等于的行为，使用!=号进行比较\n",
    "|特殊方法| __new__|创建对象时自动调用，单例模式时常用\n",
    "|特殊方法| __init__|创建对象时自动调用，用于设置对象属性的初始值\n"
   ]
  },
  {
   "cell_type": "code",
   "execution_count": 20,
   "metadata": {},
   "outputs": [
    {
     "name": "stdout",
     "output_type": "stream",
     "text": [
      "{'name': '张三', 'age': 20}\n",
      "{'__module__': '__main__', '__init__': <function C.__init__ at 0x000001F933D6C310>, '__doc__': None}\n",
      "<class '__main__.C'>\n",
      "(<class '__main__.A'>, <class '__main__.B'>)\n",
      "<class '__main__.A'>\n",
      "(<class '__main__.C'>, <class '__main__.A'>, <class '__main__.B'>, <class 'object'>)\n",
      "[<class '__main__.C'>, <class '__main__.D'>]\n"
     ]
    }
   ],
   "source": [
    "class A:\n",
    "    pass\n",
    "class B:\n",
    "    pass\n",
    "class C(A,B):\n",
    "    def __init__(self,name,age):\n",
    "        self.name = name\n",
    "        self.age = age\n",
    "class D(A):\n",
    "    pass\n",
    "#创建C类的对象\n",
    "x = C(\"张三\",20) #x是C类的一个实例对象\n",
    "print(x.__dict__) #查看对象中的所有属性\n",
    "print(C.__dict__) #查看类中的所有属性\n",
    "print(x.__class__) #输出对象所属的类型\n",
    "print(C.__bases__)#C类所有父类\n",
    "print(C.__base__) #输出C类的第一个父类\n",
    "print(C.__mro__) #输出C类的层次结构\n",
    "print(A.__subclasses__()) #查看A类的所有子类\n",
    "\n"
   ]
  },
  {
   "cell_type": "code",
   "execution_count": 37,
   "metadata": {},
   "outputs": [
    {
     "name": "stdout",
     "output_type": "stream",
     "text": [
      "120\n",
      "120\n",
      "张三30\n",
      "张三30\n",
      "5\n",
      "5\n",
      "2\n"
     ]
    }
   ],
   "source": [
    "a=20\n",
    "b=100\n",
    "c=a+b\n",
    "\n",
    "d=a.__add__(b) #a调用__add__方法，b作为参数传入\n",
    "print(c) #两个整数类型相加操作\n",
    "print(d) #两个整数类型相加操作\n",
    "\n",
    "class Student:\n",
    "    def __init__(self,name,age):\n",
    "        self.name = name\n",
    "        self.age = age\n",
    "    def __add__(self,other):\n",
    "        return self.name + other.age\n",
    "    def __len__(self):\n",
    "        return len(self.name)\n",
    "stu1=Student(\"张三\",'20')\n",
    "stu2=Student(\"李四\",'30')\n",
    "s=stu1+stu2 #实现了两个对象的加法运算（因为在Student类中，编写__add__()特殊的方法）\n",
    "s1=stu1.__add__(stu2)\n",
    "print(s)\n",
    "print(s1)\n",
    "\n",
    "\n",
    "##__len__()方法\n",
    "list1 = [1,2,3,4,5]\n",
    "print(len(list1)) #5\n",
    "print(list1.__len__()) #5\n",
    "print(len(stu1))\n"
   ]
  },
  {
   "cell_type": "code",
   "execution_count": 3,
   "metadata": {},
   "outputs": [
    {
     "name": "stdout",
     "output_type": "stream",
     "text": [
      "object这个类对象的id为：140714875238272\n",
      "Person这个类对象的id为：2088155049152\n",
      "__new__被调用执行了,cls的id值为2088155049152\n",
      "创建对象的id为：2088153472576\n",
      "__init__方法被调用,self的id为2088153472576\n",
      "p1这个Person类的实例对象的id为：2088153472576\n",
      "None\n"
     ]
    }
   ],
   "source": [
    "class Person:\n",
    "    \n",
    "    def __new__(cls, *args, **kwargs):#用于创建对象\n",
    "       \n",
    "        print('__new__被调用执行了,cls的id值为{0}'.format(id(cls)))\n",
    "        obj=super().__new__(cls)\n",
    "        print(\"创建对象的id为：{0}\".format(id(obj)))\n",
    "        return obj\n",
    "    \n",
    "    def __init__(self,name,age):\n",
    "        print(\"__init__方法被调用,self的id为{0}\".format(id(self)))\n",
    "        self.name = name\n",
    "        self.age = age\n",
    "print(\"object这个类对象的id为：{0}\".format(id(object)))\n",
    "print(\"Person这个类对象的id为：{0}\".format(id(Person)))\n",
    "\n",
    "#创建Person类的实例对象\n",
    "p1 = Person(\"张三\",20)\n",
    "print(\"p1这个Person类的实例对象的id为：{0}\".format(id(p1)))\n",
    "#person传给cls，后面调用方法，创建对象obj，obj给init方法的self\n"
   ]
  }
 ],
 "metadata": {
  "kernelspec": {
   "display_name": "Python 3",
   "language": "python",
   "name": "python3"
  },
  "language_info": {
   "codemirror_mode": {
    "name": "ipython",
    "version": 3
   },
   "file_extension": ".py",
   "mimetype": "text/x-python",
   "name": "python",
   "nbconvert_exporter": "python",
   "pygments_lexer": "ipython3",
   "version": "3.10.6"
  },
  "orig_nbformat": 4
 },
 "nbformat": 4,
 "nbformat_minor": 2
}
