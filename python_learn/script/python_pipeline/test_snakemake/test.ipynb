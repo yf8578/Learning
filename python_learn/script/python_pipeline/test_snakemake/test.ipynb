{
 "cells": [
  {
   "cell_type": "code",
   "execution_count": 3,
   "metadata": {},
   "outputs": [],
   "source": [
    "import pandas as pd\n"
   ]
  },
  {
   "cell_type": "code",
   "execution_count": 4,
   "metadata": {},
   "outputs": [],
   "source": [
    "samples=pd.read_csv(r\"D:\\000zyf\\Learning\\python_learn\\script\\python_pipeline\\test_snakemake\\config\\units.csv\",sep=\",\").set_index(\"sample_name\",drop=False).sort_index()"
   ]
  },
  {
   "cell_type": "code",
   "execution_count": 5,
   "metadata": {},
   "outputs": [
    {
     "data": {
      "text/plain": [
       "sample_name\n",
       "fangzhen100      fangzhen100\n",
       "fangzhen17        fangzhen17\n",
       "fangzhen30        fangzhen30\n",
       "fangzhen50        fangzhen50\n",
       "fangzhen50ad    fangzhen50ad\n",
       "fangzhen80        fangzhen80\n",
       "Name: sample_name, dtype: object"
      ]
     },
     "execution_count": 5,
     "metadata": {},
     "output_type": "execute_result"
    }
   ],
   "source": [
    "samples.sample_name"
   ]
  },
  {
   "cell_type": "code",
   "execution_count": 6,
   "metadata": {},
   "outputs": [
    {
     "data": {
      "text/plain": [
       "['/jdfssz1/ST_HEALTH/P20Z10200N0041/zhangyifan1/fangzhen/newdata/merge/100/0403fangzhen.100.r1.fq',\n",
       " '/jdfssz1/ST_HEALTH/P20Z10200N0041/zhangyifan1/fangzhen/newdata/merge/17/0403fangzhen.17.r1.fq',\n",
       " '/jdfssz1/ST_HEALTH/P20Z10200N0041/zhangyifan1/fangzhen/newdata/merge/30/0403fangzhen.30.r1.fq',\n",
       " '/jdfssz1/ST_HEALTH/P20Z10200N0041/zhangyifan1/fangzhen/newdata/merge/50/0403fangzhen.50.r1.fq',\n",
       " '/jdfssz1/ST_HEALTH/P20Z10200N0041/zhangyifan1/fangzhen/newdata/merge/50ad_poly/0403fangzhen.50add.r1.fq',\n",
       " '/jdfssz1/ST_HEALTH/P20Z10200N0041/zhangyifan1/fangzhen/newdata/merge/80/0403fangzhen.80.r1.fq']"
      ]
     },
     "execution_count": 6,
     "metadata": {},
     "output_type": "execute_result"
    }
   ],
   "source": [
    "list(samples[\"path1\"])"
   ]
  },
  {
   "cell_type": "code",
   "execution_count": 7,
   "metadata": {},
   "outputs": [
    {
     "data": {
      "text/html": [
       "<div>\n",
       "<style scoped>\n",
       "    .dataframe tbody tr th:only-of-type {\n",
       "        vertical-align: middle;\n",
       "    }\n",
       "\n",
       "    .dataframe tbody tr th {\n",
       "        vertical-align: top;\n",
       "    }\n",
       "\n",
       "    .dataframe thead th {\n",
       "        text-align: right;\n",
       "    }\n",
       "</style>\n",
       "<table border=\"1\" class=\"dataframe\">\n",
       "  <thead>\n",
       "    <tr style=\"text-align: right;\">\n",
       "      <th></th>\n",
       "      <th>sample_name</th>\n",
       "      <th>path1</th>\n",
       "      <th>path2</th>\n",
       "    </tr>\n",
       "    <tr>\n",
       "      <th>sample_name</th>\n",
       "      <th></th>\n",
       "      <th></th>\n",
       "      <th></th>\n",
       "    </tr>\n",
       "  </thead>\n",
       "  <tbody>\n",
       "    <tr>\n",
       "      <th>fangzhen100</th>\n",
       "      <td>fangzhen100</td>\n",
       "      <td>/jdfssz1/ST_HEALTH/P20Z10200N0041/zhangyifan1/...</td>\n",
       "      <td>/jdfssz1/ST_HEALTH/P20Z10200N0041/zhangyifan1/...</td>\n",
       "    </tr>\n",
       "    <tr>\n",
       "      <th>fangzhen17</th>\n",
       "      <td>fangzhen17</td>\n",
       "      <td>/jdfssz1/ST_HEALTH/P20Z10200N0041/zhangyifan1/...</td>\n",
       "      <td>/jdfssz1/ST_HEALTH/P20Z10200N0041/zhangyifan1/...</td>\n",
       "    </tr>\n",
       "    <tr>\n",
       "      <th>fangzhen30</th>\n",
       "      <td>fangzhen30</td>\n",
       "      <td>/jdfssz1/ST_HEALTH/P20Z10200N0041/zhangyifan1/...</td>\n",
       "      <td>/jdfssz1/ST_HEALTH/P20Z10200N0041/zhangyifan1/...</td>\n",
       "    </tr>\n",
       "    <tr>\n",
       "      <th>fangzhen50</th>\n",
       "      <td>fangzhen50</td>\n",
       "      <td>/jdfssz1/ST_HEALTH/P20Z10200N0041/zhangyifan1/...</td>\n",
       "      <td>/jdfssz1/ST_HEALTH/P20Z10200N0041/zhangyifan1/...</td>\n",
       "    </tr>\n",
       "    <tr>\n",
       "      <th>fangzhen50ad</th>\n",
       "      <td>fangzhen50ad</td>\n",
       "      <td>/jdfssz1/ST_HEALTH/P20Z10200N0041/zhangyifan1/...</td>\n",
       "      <td>/jdfssz1/ST_HEALTH/P20Z10200N0041/zhangyifan1/...</td>\n",
       "    </tr>\n",
       "    <tr>\n",
       "      <th>fangzhen80</th>\n",
       "      <td>fangzhen80</td>\n",
       "      <td>/jdfssz1/ST_HEALTH/P20Z10200N0041/zhangyifan1/...</td>\n",
       "      <td>/jdfssz1/ST_HEALTH/P20Z10200N0041/zhangyifan1/...</td>\n",
       "    </tr>\n",
       "  </tbody>\n",
       "</table>\n",
       "</div>"
      ],
      "text/plain": [
       "               sample_name                                              path1  \\\n",
       "sample_name                                                                     \n",
       "fangzhen100    fangzhen100  /jdfssz1/ST_HEALTH/P20Z10200N0041/zhangyifan1/...   \n",
       "fangzhen17      fangzhen17  /jdfssz1/ST_HEALTH/P20Z10200N0041/zhangyifan1/...   \n",
       "fangzhen30      fangzhen30  /jdfssz1/ST_HEALTH/P20Z10200N0041/zhangyifan1/...   \n",
       "fangzhen50      fangzhen50  /jdfssz1/ST_HEALTH/P20Z10200N0041/zhangyifan1/...   \n",
       "fangzhen50ad  fangzhen50ad  /jdfssz1/ST_HEALTH/P20Z10200N0041/zhangyifan1/...   \n",
       "fangzhen80      fangzhen80  /jdfssz1/ST_HEALTH/P20Z10200N0041/zhangyifan1/...   \n",
       "\n",
       "                                                          path2  \n",
       "sample_name                                                      \n",
       "fangzhen100   /jdfssz1/ST_HEALTH/P20Z10200N0041/zhangyifan1/...  \n",
       "fangzhen17    /jdfssz1/ST_HEALTH/P20Z10200N0041/zhangyifan1/...  \n",
       "fangzhen30    /jdfssz1/ST_HEALTH/P20Z10200N0041/zhangyifan1/...  \n",
       "fangzhen50    /jdfssz1/ST_HEALTH/P20Z10200N0041/zhangyifan1/...  \n",
       "fangzhen50ad  /jdfssz1/ST_HEALTH/P20Z10200N0041/zhangyifan1/...  \n",
       "fangzhen80    /jdfssz1/ST_HEALTH/P20Z10200N0041/zhangyifan1/...  "
      ]
     },
     "execution_count": 7,
     "metadata": {},
     "output_type": "execute_result"
    }
   ],
   "source": [
    "samples"
   ]
  },
  {
   "cell_type": "code",
   "execution_count": 72,
   "metadata": {},
   "outputs": [],
   "source": [
    "def get_fastp_input(samples):\n",
    "    fastq1 = samples.loc[samples.sample_name, \"path1\"]\n",
    "    fastq2 = samples.loc[samples.sample_name, \"path2\"]\n",
    "    fastp_input=list(zip(fastq1,fastq2))\n",
    "    print(fastp_input)\n",
    "    return fastp_input\n",
    "\n",
    "\n",
    "    \n"
   ]
  },
  {
   "cell_type": "code",
   "execution_count": 8,
   "metadata": {},
   "outputs": [],
   "source": [
    "def get_fastp_input(samples):\n",
    "    fastp_input = []\n",
    "    for idx, row in samples.iterrows():\n",
    "        fastq1 = row[\"path1\"]\n",
    "        fastq2 = row[\"path2\"]\n",
    "        fastp_input.append((fastq1, fastq2))\n",
    "    return fastp_input"
   ]
  },
  {
   "cell_type": "code",
   "execution_count": 9,
   "metadata": {},
   "outputs": [
    {
     "data": {
      "text/plain": [
       "[('/jdfssz1/ST_HEALTH/P20Z10200N0041/zhangyifan1/fangzhen/newdata/merge/100/0403fangzhen.100.r1.fq',\n",
       "  '/jdfssz1/ST_HEALTH/P20Z10200N0041/zhangyifan1/fangzhen/newdata/merge/100/0403fangzhen.100.r2.fq'),\n",
       " ('/jdfssz1/ST_HEALTH/P20Z10200N0041/zhangyifan1/fangzhen/newdata/merge/17/0403fangzhen.17.r1.fq',\n",
       "  '/jdfssz1/ST_HEALTH/P20Z10200N0041/zhangyifan1/fangzhen/newdata/merge/17/0403fangzhen.17.r2.fq'),\n",
       " ('/jdfssz1/ST_HEALTH/P20Z10200N0041/zhangyifan1/fangzhen/newdata/merge/30/0403fangzhen.30.r1.fq',\n",
       "  '/jdfssz1/ST_HEALTH/P20Z10200N0041/zhangyifan1/fangzhen/newdata/merge/30/0403fangzhen.30.r2.fq'),\n",
       " ('/jdfssz1/ST_HEALTH/P20Z10200N0041/zhangyifan1/fangzhen/newdata/merge/50/0403fangzhen.50.r1.fq',\n",
       "  '/jdfssz1/ST_HEALTH/P20Z10200N0041/zhangyifan1/fangzhen/newdata/merge/50/0403fangzhen.50.r2.fq'),\n",
       " ('/jdfssz1/ST_HEALTH/P20Z10200N0041/zhangyifan1/fangzhen/newdata/merge/50ad_poly/0403fangzhen.50add.r1.fq',\n",
       "  '/jdfssz1/ST_HEALTH/P20Z10200N0041/zhangyifan1/fangzhen/newdata/merge/50ad_poly/0403fangzhen.50add.r2.fq'),\n",
       " ('/jdfssz1/ST_HEALTH/P20Z10200N0041/zhangyifan1/fangzhen/newdata/merge/80/0403fangzhen.80.r1.fq',\n",
       "  '/jdfssz1/ST_HEALTH/P20Z10200N0041/zhangyifan1/fangzhen/newdata/merge/80/0403fangzhen.80.r2.fq')]"
      ]
     },
     "execution_count": 9,
     "metadata": {},
     "output_type": "execute_result"
    }
   ],
   "source": [
    "get_fastp_input(samples)"
   ]
  },
  {
   "cell_type": "code",
   "execution_count": 10,
   "metadata": {},
   "outputs": [
    {
     "data": {
      "text/plain": [
       "'s002'"
      ]
     },
     "execution_count": 10,
     "metadata": {},
     "output_type": "execute_result"
    }
   ],
   "source": [
    "# do this in your python interpreter...\n",
    "\n",
    "# create a generic object class (called Foo here)\n",
    "class Foo(object):\n",
    "    pass\n",
    "\n",
    "# make a variable, wildcards, which is an object of that class\n",
    "wildcards = Foo()\n",
    "\n",
    "# now, if you want to test specific values for different wildcards you can do like:\n",
    "wildcards.sample = \"s002\"\n",
    "\n",
    "# print that value:\n",
    "wildcards.sample"
   ]
  },
  {
   "cell_type": "code",
   "execution_count": 18,
   "metadata": {},
   "outputs": [],
   "source": [
    "def fq1_from_sample(wildcards):\n",
    "    samples.loc[wildcards.sample, \"path1\"]\n",
    "#   return samples.loc[wildcards.sample, \"path1\"]"
   ]
  },
  {
   "cell_type": "code",
   "execution_count": 19,
   "metadata": {},
   "outputs": [
    {
     "data": {
      "text/plain": [
       "<function __main__.fq1_from_sample(wildcards)>"
      ]
     },
     "execution_count": 19,
     "metadata": {},
     "output_type": "execute_result"
    }
   ],
   "source": [
    "fq1_from_sample"
   ]
  },
  {
   "cell_type": "code",
   "execution_count": 20,
   "metadata": {},
   "outputs": [],
   "source": [
    "SAMPLES = list(samples[\"sample_name\"])"
   ]
  },
  {
   "cell_type": "code",
   "execution_count": 23,
   "metadata": {},
   "outputs": [
    {
     "ename": "NameError",
     "evalue": "name 'expand' is not defined",
     "output_type": "error",
     "traceback": [
      "\u001b[1;31m---------------------------------------------------------------------------\u001b[0m",
      "\u001b[1;31mNameError\u001b[0m                                 Traceback (most recent call last)",
      "\u001b[1;32md:\\000zyf\\Learning\\python_learn\\script\\python_pipeline\\test_snakemake\\test.ipynb 单元格 13\u001b[0m line \u001b[0;36m1\n\u001b[1;32m----> <a href='vscode-notebook-cell:/d%3A/000zyf/Learning/python_learn/script/python_pipeline/test_snakemake/test.ipynb#X16sZmlsZQ%3D%3D?line=0'>1</a>\u001b[0m \u001b[39mprint\u001b[39m(expand(\u001b[39m\"\u001b[39m\u001b[39mresults/\u001b[39m\u001b[39m{sample}\u001b[39;00m\u001b[39m_R1.fastq.gz\u001b[39m\u001b[39m\"\u001b[39m, sample\u001b[39m=\u001b[39mSAMPLES))\n",
      "\u001b[1;31mNameError\u001b[0m: name 'expand' is not defined"
     ]
    }
   ],
   "source": [
    "print(expand(\"results/{sample}_R1.fastq.gz\", sample=SAMPLES))"
   ]
  },
  {
   "cell_type": "code",
   "execution_count": 1,
   "metadata": {},
   "outputs": [],
   "source": [
    "def recur(n: int) -> int:\n",
    "    \"\"\"递归\"\"\"\n",
    "    # 终止条件\n",
    "    if n == 1:\n",
    "        return 1\n",
    "    # 递：递归调用\n",
    "    res = recur(n - 1)\n",
    "    # 归：返回结果\n",
    "    return n + res\n"
   ]
  },
  {
   "cell_type": "code",
   "execution_count": 2,
   "metadata": {},
   "outputs": [
    {
     "data": {
      "text/plain": [
       "3"
      ]
     },
     "execution_count": 2,
     "metadata": {},
     "output_type": "execute_result"
    }
   ],
   "source": [
    "recur(2)"
   ]
  },
  {
   "cell_type": "code",
   "execution_count": 3,
   "metadata": {},
   "outputs": [],
   "source": [
    "def constant(n: int) -> int:\n",
    "    \"\"\"常数阶\"\"\"\n",
    "    count = 0\n",
    "    size = 100000\n",
    "    for _ in range(size):\n",
    "        count += 1\n",
    "    return count\n"
   ]
  }
 ],
 "metadata": {
  "kernelspec": {
   "display_name": "ml",
   "language": "python",
   "name": "python3"
  },
  "language_info": {
   "codemirror_mode": {
    "name": "ipython",
    "version": 3
   },
   "file_extension": ".py",
   "mimetype": "text/x-python",
   "name": "python",
   "nbconvert_exporter": "python",
   "pygments_lexer": "ipython3",
   "version": "3.11.5"
  }
 },
 "nbformat": 4,
 "nbformat_minor": 2
}
