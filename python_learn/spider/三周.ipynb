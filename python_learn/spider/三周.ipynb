{
 "cells": [
  {
   "cell_type": "markdown",
   "metadata": {},
   "source": [
    "### zheng则表达式\n",
    "regular expression regex RE\n",
    "语法：\n",
    "\n",
    "正则表达式是由字符和操作符构成的\n",
    "|操作符|说明|实例|\n",
    "|--|--|--|\n",
    "|.|表示任何单个字符|\n",
    "|[   ]|字符集，对单个字符给出取值范围|[abc]表示a、b、c|"
   ]
  },
  {
   "cell_type": "code",
   "execution_count": null,
   "metadata": {},
   "outputs": [],
   "source": []
  }
 ],
 "metadata": {
  "language_info": {
   "name": "python"
  },
  "orig_nbformat": 4
 },
 "nbformat": 4,
 "nbformat_minor": 2
}
