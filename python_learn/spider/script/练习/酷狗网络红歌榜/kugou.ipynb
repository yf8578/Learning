{
 "cells": [
  {
   "cell_type": "markdown",
   "metadata": {},
   "source": [
    "# 抓取酷狗网络红歌排行榜\n",
    "<br />\n",
    "网址：https://www.kugou.com/yy/rank/home/1-23784.html?from=rank\n",
    "从该榜单中获取排名，歌手，歌曲名，时长四个信息"
   ]
  },
  {
   "cell_type": "code",
   "execution_count": 2,
   "metadata": {},
   "outputs": [],
   "source": [
    "#import libs\n",
    "from bs4 import BeautifulSoup\n",
    "import requests\n",
    "import json"
   ]
  },
  {
   "cell_type": "code",
   "execution_count": 138,
   "metadata": {},
   "outputs": [],
   "source": [
    "headers = {'User-Agent':'Mozilla/5.0 (Windows NT 10.0; Win64; x64) AppleWebKit/537.36(KHTML, like Gecko) Chrome/63.0.3239.132 Safari/537.36'}\n",
    "#get html\n",
    "def GetHtmlText(url):\n",
    "    try:\n",
    "        r=requests.get(url,headers=headers,timeout=30)\n",
    "        r.raise_for_status()\n",
    "        r.encoding=r.apparent_encoding\n",
    "        return r.text\n",
    "    except:\n",
    "        return 'Error'\n",
    "    \n",
    "def GetSongListInfo(html):\n",
    "    songslist=[]\n",
    "    soup=BeautifulSoup(html,'lxml')\n",
    "    \n",
    "    #提取名次\n",
    "    ranks=soup.select('span.pc_temp_num')\n",
    "    #提取歌曲名和歌手\n",
    "    titles=soup.select('div.pc_temp_songlist > ul > li > a')\n",
    "    #提取歌曲时长\n",
    "    times=soup.select('span.pc_temp_time')\n",
    "    \n",
    "    for ranks,titles,times in zip(ranks,titles,times):\n",
    "        rank=ranks.get_text().strip()\n",
    "        title=titles.get_text().split('-')[1].strip()\n",
    "        singer=titles.get_text().split('-')[0].strip()\n",
    "        time=times.get_text().strip()\n",
    "        songslist.append([rank,title,singer,time])\n",
    "    return songslist\n",
    "\n",
    "def SaveFile(songslist):\n",
    "    with open('kugou.txt','a',encoding='utf-8') as f:\n",
    "        for song in songslist:\n",
    "            f.write(json.dumps(song,ensure_ascii=False)+'\\n')\n"
   ]
  },
  {
   "cell_type": "code",
   "execution_count": null,
   "metadata": {},
   "outputs": [],
   "source": [
    "def main():\n",
    "    url='https://www.kugou.com/yy/rank/home/1-23784.html?from=rank'\n",
    "    html=GetHtmlText(url)\n",
    "    # print(html)\n",
    "    songslist=GetSongListInfo(html)\n",
    "    # SaveFile(songslist)\n",
    "    \n",
    "if __name__=='__main__':\n",
    "    main()"
   ]
  }
 ],
 "metadata": {
  "kernelspec": {
   "display_name": "spider",
   "language": "python",
   "name": "python3"
  },
  "language_info": {
   "codemirror_mode": {
    "name": "ipython",
    "version": 3
   },
   "file_extension": ".py",
   "mimetype": "text/x-python",
   "name": "python",
   "nbconvert_exporter": "python",
   "pygments_lexer": "ipython3",
   "version": "3.11.4"
  }
 },
 "nbformat": 4,
 "nbformat_minor": 2
}
