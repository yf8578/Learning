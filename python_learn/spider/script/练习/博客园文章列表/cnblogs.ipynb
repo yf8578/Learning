{
 "cells": [
  {
   "cell_type": "markdown",
   "metadata": {},
   "source": [
    "# 抓取博客文章列表\n",
    "抓取博客园文章列表，网址:www.cnblogs.com"
   ]
  },
  {
   "cell_type": "code",
   "execution_count": 3,
   "metadata": {},
   "outputs": [],
   "source": [
    "# import libs\n",
    "import requests\n",
    "from bs4 import BeautifulSoup\n",
    "import csv\n",
    "import time"
   ]
  },
  {
   "cell_type": "code",
   "execution_count": 27,
   "metadata": {},
   "outputs": [],
   "source": [
    "def getHTMLText(url):\n",
    "    try:\n",
    "        headers = {'User-Agent': 'Mozilla/5.0 (Windows NT 10.0; Win64; x64) AppleWebKit/537.36 (KHTML, like Gecko) Chrome/116.0.0.0 Safari/537.36'}\n",
    "        r = requests.get(url, headers=headers,timeout=30)\n",
    "        r.raise_for_status() # 如果状态不是200，引发HTTPError异常\n",
    "        # print(r.status_code)# 查看状态码\n",
    "        r.encoding = r.apparent_encoding\n",
    "        # print('success')\n",
    "        return r.text\n",
    "    except:\n",
    "        # print('error')# 异常处理\n",
    "        return \"产生异常\"\n",
    "\n",
    "def getBlogList(htmlStr):\n",
    "    #获取标题和url\n",
    "    soup = BeautifulSoup(htmlStr, 'html.parser')\n",
    "    BlogList=soup.find_all('a',class_='post-item-title')\n",
    "    result=[]\n",
    "    for blog in BlogList:\n",
    "        d={}\n",
    "        d['title']=blog.text\n",
    "        d['url']=blog['href']\n",
    "        result.append(d)\n",
    "    return result\n",
    "\n",
    "def SaveToCSV(blogList):\n",
    "    #保存到csv文件\n",
    "    with open('cnblogs.csv', 'a+', newline='', encoding='utf-8-sig') as csvfile:\n",
    "        fieldnames = ['title', 'url']\n",
    "        writer = csv.DictWriter(csvfile, fieldnames=fieldnames)\n",
    "        writer.writeheader()\n",
    "        for blog in blogList:\n",
    "            writer.writerow(blog)"
   ]
  },
  {
   "cell_type": "code",
   "execution_count": 28,
   "metadata": {},
   "outputs": [],
   "source": [
    "def main():\n",
    "        url =f'https://www.cnblogs.com/'\n",
    "        html=getHTMLText(url)\n",
    "        BlogInfo=getBlogList(html)\n",
    "        SaveToCSV(BlogInfo)\n",
    "        # print(url)\n",
    "        \n",
    "if __name__ == '__main__':\n",
    "    main()"
   ]
  }
 ],
 "metadata": {
  "kernelspec": {
   "display_name": "spider",
   "language": "python",
   "name": "python3"
  },
  "language_info": {
   "codemirror_mode": {
    "name": "ipython",
    "version": 3
   },
   "file_extension": ".py",
   "mimetype": "text/x-python",
   "name": "python",
   "nbconvert_exporter": "python",
   "pygments_lexer": "ipython3",
   "version": "3.11.4"
  }
 },
 "nbformat": 4,
 "nbformat_minor": 2
}
