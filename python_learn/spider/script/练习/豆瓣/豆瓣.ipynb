{
 "cells": [
  {
   "cell_type": "markdown",
   "metadata": {},
   "source": [
    "## 爬取前250部电影"
   ]
  },
  {
   "cell_type": "code",
   "execution_count": 1,
   "metadata": {},
   "outputs": [],
   "source": [
    "# import libs\n",
    "import requests\n",
    "from bs4 import BeautifulSoup\n",
    "import csv\n",
    "import time"
   ]
  },
  {
   "cell_type": "code",
   "execution_count": 2,
   "metadata": {},
   "outputs": [
    {
     "name": "stdout",
     "output_type": "stream",
     "text": [
      "Bryois-2022-Nat. Neurosci\n"
     ]
    }
   ],
   "source": [
    "from bs4 import BeautifulSoup\n",
    "\n",
    "# 假设html_content是你从网页中获取的HTML内容\n",
    "html_content = '<a target=\"_blank\" href=\"https://doi.org/10.1038/s41593-022-01128-z\" style=\"text-decoration: none; color: rgb(70, 120, 195); height: 25px;\">Bryois-2022-Nat. Neurosci</a>'\n",
    "\n",
    "# 使用BeautifulSoup解析HTML\n",
    "soup = BeautifulSoup(html_content, 'html.parser')\n",
    "\n",
    "# 查找所有的<a>标签\n",
    "a_tags = soup.find_all('a')\n",
    "\n",
    "# 遍历所有的<a>标签并打印它们的文本内容\n",
    "for tag in a_tags:\n",
    "    print(tag.get_text())"
   ]
  },
  {
   "cell_type": "code",
   "execution_count": 74,
   "metadata": {},
   "outputs": [],
   "source": [
    "#爬取前250部电影的名称、评分、导演、链接\n",
    "def getHTMLText(url):\n",
    "    try:\n",
    "        headers = {'User-Agent': 'Mozilla/5.0 (Windows NT 10.0; Win64; x64) AppleWebKit/537.36 (KHTML, like Gecko) Chrome/116.0.0.0 Safari/537.36'}\n",
    "        r = requests.get(url, headers=headers,timeout=30)\n",
    "        r.raise_for_status() # 如果状态不是200，引发HTTPError异常\n",
    "        # print(r.status_code)# 查看状态码\n",
    "        r.encoding = r.apparent_encoding\n",
    "        # print('success')\n",
    "        return r.text\n",
    "    except:\n",
    "        print('error')# 异常处理\n",
    "        return \"产生异常\"\n",
    "    \n",
    "def getMovieList(html):\n",
    "    soup=BeautifulSoup(html,'html.parser')\n",
    "    Movies=soup.find_all('div',class_='item')\n",
    "    movielist=[]\n",
    "    for movie in Movies:\n",
    "        key={}\n",
    "        #提取电影名称\n",
    "        key['movieName']=movie.find('span',class_='title').string\n",
    "        #提取电影评分\n",
    "        key['rating_num']=movie.find('span',class_='rating_num').string\n",
    "        #获取链接\n",
    "        key['link'] = movie.find('a')['href']\n",
    "\n",
    "# ###有些信息不全，不够完美，因此在这就不提取了\n",
    "        movie_info = movie.find('div', class_='bd').find('p', class_='')\n",
    "#         # print(movie_info.get_text())\n",
    "#         # 提取导演和主演\n",
    "        director_and_actors = movie_info.get_text().split('...')[0]\n",
    "#         # print(director_and_actors)\n",
    "        key['director'] = director_and_actors.split('导演: ')[1].split('主')[0].strip()\n",
    "# #删除key['director']中的空格\n",
    "#         key['director'] = re.sub('\\s','',key['director'])\n",
    "\n",
    "        movielist.append(key)\n",
    "        \n",
    "    return movielist\n",
    "\n",
    "def save_to_csv(movielist):\n",
    "    with open('DouBanMovieT250.csv','a+',encoding='UTF-8',newline='') as fp:\n",
    "        writer = csv.writer(fp)\n",
    "        for key in movielist:\n",
    "            writer.writerow([key['movieName'],key['rating_num'],key['director'],key['link']])\n",
    "\n",
    "def main():\n",
    "    movielist=[]\n",
    "    for page in range(0,226,25):\n",
    "        time.sleep(2)\n",
    "    #url不要写死，便于分页抓取数据\n",
    "        url =f'https://movie.douban.com/top250?start={page}&filter='\n",
    "        html=getHTMLText(url)\n",
    "        movielist=getMovieList(html)\n",
    "        save_to_csv(movielist)\n",
    "        # print(html)\n",
    "        # print(url)\n",
    "        \n",
    "if __name__ == '__main__':\n",
    "    main()"
   ]
  },
  {
   "cell_type": "code",
   "execution_count": null,
   "metadata": {},
   "outputs": [],
   "source": [
    "#根据电影链接爬取电影的详细信息——还未完成\n",
    "def getHTMLText(url):\n",
    "    try:\n",
    "        headers = {'User-Agent': 'Mozilla/5.0 (Windows NT 10.0; Win64; x64) AppleWebKit/537.36 (KHTML, like Gecko) Chrome/58.0.3029.110 Safari/537.3'}\n",
    "        r = requests.get(url, headers=headers,timeout=30)\n",
    "        r.raise_for_status() # 如果状态不是200，引发HTTPError异常\n",
    "        # print(r.status_code)# 查看状态码\n",
    "        r.encoding = r.apparent_encoding\n",
    "        # print('success')\n",
    "        return r.text\n",
    "    except:\n",
    "        print('error')# 异常处理\n",
    "        return \"产生异常\"\n",
    "    \n",
    "    \n",
    "def getMovieList(html):\n",
    "    soup=BeautifulSoup(html,'html.parser')\n",
    "    return ''\n",
    "\n",
    "\n",
    "def main():\n",
    "    return ''\n",
    "\n",
    "\n",
    "if __name__ == '__main__':\n",
    "    main()\n"
   ]
  },
  {
   "cell_type": "code",
   "execution_count": 2,
   "metadata": {},
   "outputs": [
    {
     "name": "stdout",
     "output_type": "stream",
     "text": [
      "苹果不够了\n",
      "剩余苹果： 1\n"
     ]
    }
   ],
   "source": [
    "apples=100\n",
    "while apples>=1:\n",
    "    if apples<9:\n",
    "        print('苹果不够了')\n",
    "        print('剩余苹果：',apples)\n",
    "        break\n",
    "    apples-=9"
   ]
  },
  {
   "cell_type": "code",
   "execution_count": 4,
   "metadata": {},
   "outputs": [],
   "source": [
    "def test():\n",
    "    print('test')"
   ]
  },
  {
   "cell_type": "code",
   "execution_count": 6,
   "metadata": {},
   "outputs": [
    {
     "data": {
      "text/plain": [
       "<function __main__.test()>"
      ]
     },
     "execution_count": 6,
     "metadata": {},
     "output_type": "execute_result"
    }
   ],
   "source": [
    "test"
   ]
  },
  {
   "cell_type": "code",
   "execution_count": 19,
   "metadata": {},
   "outputs": [],
   "source": [
    "def outer():               #定义外层函数\n",
    "    a=1\n",
    "    print('我是外层函数')\n",
    "    def inner():            #定义内层函数\n",
    "        a=10\n",
    "        print('我是内层函数')\n",
    "        print('内层函数打印',a)\n",
    "    # return inner        #执行内层函数\n"
   ]
  },
  {
   "cell_type": "code",
   "execution_count": 20,
   "metadata": {},
   "outputs": [
    {
     "name": "stdout",
     "output_type": "stream",
     "text": [
      "我是外层函数\n"
     ]
    }
   ],
   "source": [
    "outer()"
   ]
  },
  {
   "cell_type": "code",
   "execution_count": 22,
   "metadata": {},
   "outputs": [
    {
     "name": "stdout",
     "output_type": "stream",
     "text": [
      "这个函数没有返回值\n"
     ]
    }
   ],
   "source": [
    "def my_function():\n",
    "    print(\"这个函数没有返回值\")\n",
    "\n",
    "# 调用函数\n",
    "result = my_function()\n"
   ]
  },
  {
   "cell_type": "code",
   "execution_count": 24,
   "metadata": {},
   "outputs": [
    {
     "data": {
      "text/plain": [
       "NoneType"
      ]
     },
     "execution_count": 24,
     "metadata": {},
     "output_type": "execute_result"
    }
   ],
   "source": [
    "type(result)"
   ]
  },
  {
   "cell_type": "code",
   "execution_count": 25,
   "metadata": {},
   "outputs": [
    {
     "ename": "TypeError",
     "evalue": "unsupported operand type(s) for +: 'NoneType' and 'int'",
     "output_type": "error",
     "traceback": [
      "\u001b[1;31m---------------------------------------------------------------------------\u001b[0m",
      "\u001b[1;31mTypeError\u001b[0m                                 Traceback (most recent call last)",
      "\u001b[1;32md:\\000zyf\\Learning\\python_learn\\spider\\script\\练习\\豆瓣\\豆瓣.ipynb 单元格 12\u001b[0m line \u001b[0;36m1\n\u001b[1;32m----> <a href='vscode-notebook-cell:/d%3A/000zyf/Learning/python_learn/spider/script/%E7%BB%83%E4%B9%A0/%E8%B1%86%E7%93%A3/%E8%B1%86%E7%93%A3.ipynb#X15sZmlsZQ%3D%3D?line=0'>1</a>\u001b[0m \u001b[39mprint\u001b[39m(result\u001b[39m+\u001b[39;49m\u001b[39m1\u001b[39;49m)\n",
      "\u001b[1;31mTypeError\u001b[0m: unsupported operand type(s) for +: 'NoneType' and 'int'"
     ]
    }
   ],
   "source": [
    "print(result+1)"
   ]
  },
  {
   "cell_type": "code",
   "execution_count": 27,
   "metadata": {},
   "outputs": [],
   "source": [
    "def my_function(x,y):\n",
    "    # print(\"这个函数没有返回值\")\n",
    "    x+y\n",
    "my_function(1,2)"
   ]
  },
  {
   "cell_type": "code",
   "execution_count": 2,
   "metadata": {},
   "outputs": [
    {
     "data": {
      "text/plain": [
       "True"
      ]
     },
     "execution_count": 2,
     "metadata": {},
     "output_type": "execute_result"
    }
   ],
   "source": [
    "'a'<'banana'"
   ]
  },
  {
   "cell_type": "code",
   "execution_count": 72,
   "metadata": {},
   "outputs": [
    {
     "ename": "ValueError",
     "evalue": "Format specifier missing precision",
     "output_type": "error",
     "traceback": [
      "\u001b[1;31m---------------------------------------------------------------------------\u001b[0m",
      "\u001b[1;31mValueError\u001b[0m                                Traceback (most recent call last)",
      "\u001b[1;32md:\\000zyf\\Learning\\python_learn\\spider\\script\\练习\\豆瓣\\豆瓣.ipynb 单元格 15\u001b[0m line \u001b[0;36m4\n\u001b[0;32m      <a href='vscode-notebook-cell:/d%3A/000zyf/Learning/python_learn/spider/script/%E7%BB%83%E4%B9%A0/%E8%B1%86%E7%93%A3/%E8%B1%86%E7%93%A3.ipynb#X20sZmlsZQ%3D%3D?line=0'>1</a>\u001b[0m a\u001b[39m=\u001b[39m\u001b[39m'\u001b[39m\u001b[39mA\u001b[39m\u001b[39m'\u001b[39m\n\u001b[0;32m      <a href='vscode-notebook-cell:/d%3A/000zyf/Learning/python_learn/spider/script/%E7%BB%83%E4%B9%A0/%E8%B1%86%E7%93%A3/%E8%B1%86%E7%93%A3.ipynb#X20sZmlsZQ%3D%3D?line=1'>2</a>\u001b[0m \u001b[39m# print('%+10d'%a)\u001b[39;00m\n\u001b[0;32m      <a href='vscode-notebook-cell:/d%3A/000zyf/Learning/python_learn/spider/script/%E7%BB%83%E4%B9%A0/%E8%B1%86%E7%93%A3/%E8%B1%86%E7%93%A3.ipynb#X20sZmlsZQ%3D%3D?line=2'>3</a>\u001b[0m \u001b[39m# print('%010d'%a)\u001b[39;00m\n\u001b[1;32m----> <a href='vscode-notebook-cell:/d%3A/000zyf/Learning/python_learn/spider/script/%E7%BB%83%E4%B9%A0/%E8%B1%86%E7%93%A3/%E8%B1%86%E7%93%A3.ipynb#X20sZmlsZQ%3D%3D?line=3'>4</a>\u001b[0m \u001b[39mprint\u001b[39m(\u001b[39m'\u001b[39;49m\u001b[39merwerwerwe\u001b[39;49m\u001b[39m{\u001b[39;49m\u001b[39m:*^30.c}\u001b[39;49m\u001b[39m'\u001b[39;49m\u001b[39m.\u001b[39;49mformat(a))\n",
      "\u001b[1;31mValueError\u001b[0m: Format specifier missing precision"
     ]
    }
   ],
   "source": [
    "a='A'\n",
    "# print('%+10d'%a)\n",
    "# print('%010d'%a)\n",
    "print('erwerwerwe{:*^30.c}'.format(a))"
   ]
  },
  {
   "cell_type": "code",
   "execution_count": 38,
   "metadata": {},
   "outputs": [
    {
     "name": "stdout",
     "output_type": "stream",
     "text": [
      "a\n",
      "b\n",
      "c\n"
     ]
    }
   ],
   "source": [
    "print('a\\nb\\n\\\n",
    "c')"
   ]
  },
  {
   "cell_type": "code",
   "execution_count": 43,
   "metadata": {},
   "outputs": [
    {
     "data": {
      "text/plain": [
       "2"
      ]
     },
     "execution_count": 43,
     "metadata": {},
     "output_type": "execute_result"
    }
   ],
   "source": [
    "a='asdf'\n",
    "a.find('d')"
   ]
  },
  {
   "cell_type": "code",
   "execution_count": 69,
   "metadata": {},
   "outputs": [
    {
     "data": {
      "text/plain": [
       "['1234563452']"
      ]
     },
     "execution_count": 69,
     "metadata": {},
     "output_type": "execute_result"
    }
   ],
   "source": [
    "a='1234563452'\n",
    "a.split(',')"
   ]
  },
  {
   "cell_type": "code",
   "execution_count": 70,
   "metadata": {},
   "outputs": [
    {
     "data": {
      "text/plain": [
       "'00000000000000000000000000000000000000001234563452'"
      ]
     },
     "execution_count": 70,
     "metadata": {},
     "output_type": "execute_result"
    }
   ],
   "source": [
    "a.zfill(50)"
   ]
  },
  {
   "cell_type": "code",
   "execution_count": 71,
   "metadata": {},
   "outputs": [
    {
     "data": {
      "text/plain": [
       "'1234563452'"
      ]
     },
     "execution_count": 71,
     "metadata": {},
     "output_type": "execute_result"
    }
   ],
   "source": [
    "a.format(':*^30.c')"
   ]
  },
  {
   "cell_type": "code",
   "execution_count": 73,
   "metadata": {},
   "outputs": [
    {
     "name": "stdout",
     "output_type": "stream",
     "text": [
      "erwerwerwe**************A***************\n"
     ]
    }
   ],
   "source": [
    "a = 'A'\n",
    "print('erwerwerwe{:*^30}'.format(a))\n"
   ]
  },
  {
   "cell_type": "code",
   "execution_count": 82,
   "metadata": {},
   "outputs": [],
   "source": [
    "import datetime\n"
   ]
  },
  {
   "cell_type": "code",
   "execution_count": 92,
   "metadata": {},
   "outputs": [
    {
     "name": "stdout",
     "output_type": "stream",
     "text": [
      "2\n",
      "2000\n",
      "2000-09-27\n",
      "2000-09-27 27  271 3\n"
     ]
    }
   ],
   "source": [
    "dtBirth=datetime.date(2000,9,27)\n",
    "print(dtBirth.weekday())\n",
    "print(dtBirth.year)\n",
    "print(dtBirth.strftime('%Y-%m-%d'))\n",
    "print(dtBirth.strftime('%Y-%m-%d %d  %j %w'))"
   ]
  },
  {
   "cell_type": "code",
   "execution_count": 95,
   "metadata": {},
   "outputs": [
    {
     "data": {
      "text/plain": [
       "'2023-11-28 19:35:37'"
      ]
     },
     "execution_count": 95,
     "metadata": {},
     "output_type": "execute_result"
    }
   ],
   "source": [
    "datetime.datetime.now().strftime('%Y-%m-%d %H:%M:%S')"
   ]
  },
  {
   "cell_type": "code",
   "execution_count": 97,
   "metadata": {},
   "outputs": [
    {
     "name": "stdout",
     "output_type": "stream",
     "text": [
      "acvdgacvdgacvdgacvdgacvdg\n"
     ]
    }
   ],
   "source": [
    "s1='acvdg'\n",
    "s2='acvdg'\n",
    "print(s1+s2*4)"
   ]
  },
  {
   "cell_type": "code",
   "execution_count": 130,
   "metadata": {},
   "outputs": [
    {
     "name": "stdout",
     "output_type": "stream",
     "text": [
      "(0, 3)\n"
     ]
    }
   ],
   "source": [
    "import re\n",
    "result=re.search(r'\\b[a-z]{3}\\b','''abc   \n",
    "                abandon is hhh''',re.I|re.M)\n",
    "print(result.span())"
   ]
  },
  {
   "cell_type": "code",
   "execution_count": 149,
   "metadata": {},
   "outputs": [
    {
     "name": "stdout",
     "output_type": "stream",
     "text": [
      "hgfedcba\n",
      "jihgfedcba\n",
      "h\n",
      "hij\n",
      "abcdefg\n",
      "ji\n"
     ]
    }
   ],
   "source": [
    "str1 = 'abcdefghij'\n",
    "print(str1[-3::-1])\n",
    "print(str1[::-1])\n",
    "print(str1[-3:-4:-1])\n",
    "print(str1[-3:])\n",
    "print(str1[:-3:])\n",
    "print(str1[:-3:-1])"
   ]
  },
  {
   "cell_type": "code",
   "execution_count": 181,
   "metadata": {},
   "outputs": [
    {
     "name": "stdout",
     "output_type": "stream",
     "text": [
      "-7\n",
      "['A', 'a', 'b', 'a', 'b', 5, 6, 7, 8, 9, 1, 'a']\n",
      "10\n"
     ]
    }
   ],
   "source": [
    "list1=[0,1,2,3,4,5,6,7,8,9,1]\n",
    "list2=['a','b']\n",
    "list1.extend(list2)\n",
    "list1[0:5]=list2*2\n",
    "list1.insert(0,'A')\n",
    "print(-list1[7])\n",
    "# list1.pop()\n",
    "list1.pop(-1)\n",
    "# print(list1)\n",
    "print(list1)\n",
    "print(list1.index(1))"
   ]
  },
  {
   "cell_type": "code",
   "execution_count": 174,
   "metadata": {},
   "outputs": [
    {
     "name": "stdout",
     "output_type": "stream",
     "text": [
      "a\n",
      "['a', 'book', 'is', 'This']\n"
     ]
    }
   ],
   "source": [
    "a='This is a book'.split()\n",
    "print(a[2])\n",
    "b=sorted(a,key=lambda x:x.lower())\n",
    "print(b)"
   ]
  },
  {
   "cell_type": "code",
   "execution_count": 182,
   "metadata": {},
   "outputs": [
    {
     "name": "stdout",
     "output_type": "stream",
     "text": [
      "[2, 3, 4]\n"
     ]
    }
   ],
   "source": [
    "l1=[1,2,3,4]\n",
    "l2=[1,2,5,6]\n",
    "for i in l1:\n",
    "    if i in l2:\n",
    "        l1.remove(i)\n",
    "print(l1)"
   ]
  },
  {
   "cell_type": "code",
   "execution_count": 183,
   "metadata": {},
   "outputs": [
    {
     "name": "stdout",
     "output_type": "stream",
     "text": [
      "1\n"
     ]
    }
   ],
   "source": [
    "dict1={'a':1,'b':2,'c':3}\n",
    "print(dict1['a'])"
   ]
  },
  {
   "cell_type": "code",
   "execution_count": 197,
   "metadata": {},
   "outputs": [],
   "source": [
    "set1=set(list1)\n",
    "set2={}"
   ]
  },
  {
   "cell_type": "code",
   "execution_count": 199,
   "metadata": {},
   "outputs": [
    {
     "name": "stdout",
     "output_type": "stream",
     "text": [
      "<class 'set'>\n",
      "{1, 5, 6, 7, 'a', 8, 9, 'A', 'b'}\n",
      "<class 'dict'>\n"
     ]
    }
   ],
   "source": [
    "print(type(set1))\n",
    "print(set1)\n",
    "print(type(set2))"
   ]
  },
  {
   "cell_type": "code",
   "execution_count": 203,
   "metadata": {},
   "outputs": [
    {
     "name": "stdout",
     "output_type": "stream",
     "text": [
      "{'q', 'l', 'w', 'o', 'h'}\n"
     ]
    }
   ],
   "source": [
    "hh1=set('helllo')\n",
    "hh2=set('qwe')\n",
    "print(hh1^hh2)"
   ]
  },
  {
   "cell_type": "code",
   "execution_count": 217,
   "metadata": {},
   "outputs": [
    {
     "data": {
      "text/plain": [
       "[64, 64, 64, 64, 64]"
      ]
     },
     "execution_count": 217,
     "metadata": {},
     "output_type": "execute_result"
    }
   ],
   "source": [
    "y=8\n",
    "[y**2 for x in range(5)]"
   ]
  },
  {
   "cell_type": "code",
   "execution_count": null,
   "metadata": {},
   "outputs": [],
   "source": [
    "listtuidao=[]"
   ]
  },
  {
   "cell_type": "code",
   "execution_count": 222,
   "metadata": {},
   "outputs": [
    {
     "name": "stdout",
     "output_type": "stream",
     "text": [
      "3156713541184\n",
      "3156713541184\n",
      "3156713720128\n",
      "[1, 2, 3, 3]\n",
      "[1, 2, 3]\n"
     ]
    }
   ],
   "source": [
    "b=a=[1,2]\n",
    "a+=[3]\n",
    "print(id(a))\n",
    "print(id(b))\n",
    "a=a+[3]\n",
    "print(id(a))\n",
    "print(a)\n",
    "print(b)"
   ]
  },
  {
   "cell_type": "code",
   "execution_count": 223,
   "metadata": {},
   "outputs": [
    {
     "name": "stdout",
     "output_type": "stream",
     "text": [
      "[1, 2, 3, [5, 6]]\n",
      "[1, 2, 3, [5, 6], 5, 6]\n",
      "[5, 100, 6]\n",
      "[1, 2, 3, [5, 100, 6], 5, 6]\n"
     ]
    }
   ],
   "source": [
    "a,b=[1,2,3],[5,6]\n",
    "a.append(b)\n",
    "print(a)\n",
    "a.extend(b)\n",
    "print(a)\n",
    "b.insert(1,100)\n",
    "print(b)\n",
    "print(a)"
   ]
  },
  {
   "cell_type": "code",
   "execution_count": 228,
   "metadata": {},
   "outputs": [
    {
     "ename": "TypeError",
     "evalue": "'int' object is not iterable",
     "output_type": "error",
     "traceback": [
      "\u001b[1;31m---------------------------------------------------------------------------\u001b[0m",
      "\u001b[1;31mTypeError\u001b[0m                                 Traceback (most recent call last)",
      "\u001b[1;32md:\\000zyf\\Learning\\python_learn\\spider\\script\\练习\\豆瓣\\豆瓣.ipynb 单元格 39\u001b[0m line \u001b[0;36m1\n\u001b[1;32m----> <a href='vscode-notebook-cell:/d%3A/000zyf/Learning/python_learn/spider/script/%E7%BB%83%E4%B9%A0/%E8%B1%86%E7%93%A3/%E8%B1%86%E7%93%A3.ipynb#Y100sZmlsZQ%3D%3D?line=0'>1</a>\u001b[0m \u001b[39mmax\u001b[39;49m(\u001b[39m-\u001b[39;49m\u001b[39m3\u001b[39;49m)\n",
      "\u001b[1;31mTypeError\u001b[0m: 'int' object is not iterable"
     ]
    }
   ],
   "source": [
    "max(-3)"
   ]
  },
  {
   "cell_type": "code",
   "execution_count": 232,
   "metadata": {},
   "outputs": [],
   "source": [
    "t = (1,[2,3],4,5)\n",
    "t = (\"a\",2,3)"
   ]
  },
  {
   "cell_type": "code",
   "execution_count": 237,
   "metadata": {},
   "outputs": [
    {
     "name": "stdout",
     "output_type": "stream",
     "text": [
      "<class 'int'>\n"
     ]
    }
   ],
   "source": [
    "t= (1)\n",
    "print(type(t))"
   ]
  },
  {
   "cell_type": "code",
   "execution_count": 247,
   "metadata": {},
   "outputs": [],
   "source": [
    "import os\n",
    "import shutil"
   ]
  },
  {
   "cell_type": "code",
   "execution_count": 252,
   "metadata": {},
   "outputs": [
    {
     "data": {
      "text/plain": [
       "'D:\\\\000zyf\\\\Learning\\\\python_learn\\\\spider\\\\script\\\\练习\\\\豆瓣\\\\D.csv'"
      ]
     },
     "execution_count": 252,
     "metadata": {},
     "output_type": "execute_result"
    }
   ],
   "source": [
    "shutil.move(r'D:\\000zyf\\Learning\\python_learn\\spider\\script\\练习\\豆瓣\\DouBanMovieT250_copy.csv',r'D:\\000zyf\\Learning\\python_learn\\spider\\script\\练习\\豆瓣\\D.csv')"
   ]
  },
  {
   "cell_type": "code",
   "execution_count": 246,
   "metadata": {},
   "outputs": [
    {
     "data": {
      "text/plain": [
       "('D:',\n",
       " '\\\\000zyf\\\\Learning\\\\python_learn\\\\spider\\\\script\\\\练习\\\\豆瓣\\\\DouBanMovieT250.csv')"
      ]
     },
     "execution_count": 246,
     "metadata": {},
     "output_type": "execute_result"
    }
   ],
   "source": [
    "os.path.splitdrive(r'D:\\000zyf\\Learning\\python_learn\\spider\\script\\练习\\豆瓣\\DouBanMovieT250.csv')"
   ]
  },
  {
   "cell_type": "code",
   "execution_count": 254,
   "metadata": {},
   "outputs": [
    {
     "data": {
      "text/plain": [
       "'d:\\\\000zyf\\\\Learning\\\\python_learn\\\\spider\\\\script\\\\练习\\\\豆瓣'"
      ]
     },
     "execution_count": 254,
     "metadata": {},
     "output_type": "execute_result"
    }
   ],
   "source": [
    "os.listdir(path='.')\n",
    "os.getcwd()\n"
   ]
  },
  {
   "cell_type": "code",
   "execution_count": 262,
   "metadata": {},
   "outputs": [
    {
     "name": "stdout",
     "output_type": "stream",
     "text": [
      "250\n"
     ]
    }
   ],
   "source": [
    "f1=open('DouBanMovieT250.csv','r')\n",
    "cNames=f1.read().splitlines() #.split('\\n')\n",
    "\n",
    "print(len(cNames))\n",
    "# for i in range(0,len(cNames)):\n",
    "#     print(cNames[i].strip('\\n').split(','))"
   ]
  },
  {
   "cell_type": "code",
   "execution_count": 256,
   "metadata": {},
   "outputs": [
    {
     "name": "stdout",
     "output_type": "stream",
     "text": [
      "D:\\000zyf\\Learning\\python_learn\\spider\\script\\练习\\豆瓣\n",
      "[]\n",
      "['D.csv', 'douban250.py', 'DouBanMovieT250.csv', 'test.jpg', 'test.py', '豆瓣.ipynb']\n"
     ]
    }
   ],
   "source": [
    "for root,dirs,files in os.walk(r'D:\\000zyf\\Learning\\python_learn\\spider\\script\\练习\\豆瓣'):\n",
    "    print(root)\n",
    "    print(dirs)\n",
    "    print(files)    "
   ]
  },
  {
   "cell_type": "code",
   "execution_count": 265,
   "metadata": {},
   "outputs": [
    {
     "name": "stdout",
     "output_type": "stream",
     "text": [
      "<__main__.Person object at 0x000002DEFACD6610>\n",
      "0\n",
      "\n",
      "Person(Jack, 25)\n",
      "25\n"
     ]
    }
   ],
   "source": [
    "\n",
    "#对象的创建和应用\n",
    "class Person(object):\n",
    "    \"\"\"Class to represent a person\n",
    "    \"\"\"\n",
    "    def __init__(self): #类的构造函数，用来初始化对象\n",
    "        self.name=''\n",
    "        self.age=0\n",
    "    def display(self):  #类中定义的成员函数\n",
    "        print(\"Person(%s, %d)\" % (self.name, self.age))\n",
    "\n",
    "if __name__=='__main__':\n",
    "    p=Person()   #创建对象\n",
    "    print(p)\n",
    "    print(p.age) #引用对象的属性\n",
    "    print(p.name)\n",
    "    p.age=25\n",
    "    p.name='Jack'\n",
    "    p.display()  #引用对象的方法\n",
    "    print(p.age)"
   ]
  },
  {
   "cell_type": "code",
   "execution_count": 267,
   "metadata": {},
   "outputs": [
    {
     "name": "stdout",
     "output_type": "stream",
     "text": [
      "0\n",
      "red\n"
     ]
    },
    {
     "ename": "TypeError",
     "evalue": "'str' object is not callable",
     "output_type": "error",
     "traceback": [
      "\u001b[1;31m---------------------------------------------------------------------------\u001b[0m",
      "\u001b[1;31mTypeError\u001b[0m                                 Traceback (most recent call last)",
      "\u001b[1;32md:\\000zyf\\Learning\\python_learn\\spider\\script\\练习\\豆瓣\\豆瓣.ipynb 单元格 49\u001b[0m line \u001b[0;36m1\n\u001b[0;32m     <a href='vscode-notebook-cell:/d%3A/000zyf/Learning/python_learn/spider/script/%E7%BB%83%E4%B9%A0/%E8%B1%86%E7%93%A3/%E8%B1%86%E7%93%A3.ipynb#Y116sZmlsZQ%3D%3D?line=11'>12</a>\u001b[0m \u001b[39mprint\u001b[39m(apple\u001b[39m.\u001b[39mcolor)    \u001b[39m#输出apple对象的颜色\u001b[39;00m\n\u001b[0;32m     <a href='vscode-notebook-cell:/d%3A/000zyf/Learning/python_learn/spider/script/%E7%BB%83%E4%B9%A0/%E8%B1%86%E7%93%A3/%E8%B1%86%E7%93%A3.ipynb#Y116sZmlsZQ%3D%3D?line=12'>13</a>\u001b[0m Fruit\u001b[39m.\u001b[39mprice\u001b[39m=\u001b[39mFruit\u001b[39m.\u001b[39mprice\u001b[39m+\u001b[39m\u001b[39m10\u001b[39m  \u001b[39m#将类变量加10\u001b[39;00m\n\u001b[1;32m---> <a href='vscode-notebook-cell:/d%3A/000zyf/Learning/python_learn/spider/script/%E7%BB%83%E4%B9%A0/%E8%B1%86%E7%93%A3/%E8%B1%86%E7%93%A3.ipynb#Y116sZmlsZQ%3D%3D?line=13'>14</a>\u001b[0m \u001b[39mprint\u001b[39m(\u001b[39m\"\u001b[39m\u001b[39mapple\u001b[39m\u001b[39m'\u001b[39m\u001b[39ms price:\u001b[39m\u001b[39m\"\u001b[39m \u001b[39m+\u001b[39m \u001b[39mstr\u001b[39;49m(apple\u001b[39m.\u001b[39;49mprice)) \u001b[39m#输出apple对象的price\u001b[39;00m\n\u001b[0;32m     <a href='vscode-notebook-cell:/d%3A/000zyf/Learning/python_learn/spider/script/%E7%BB%83%E4%B9%A0/%E8%B1%86%E7%93%A3/%E8%B1%86%E7%93%A3.ipynb#Y116sZmlsZQ%3D%3D?line=14'>15</a>\u001b[0m banana\u001b[39m=\u001b[39mFruit()\n\u001b[0;32m     <a href='vscode-notebook-cell:/d%3A/000zyf/Learning/python_learn/spider/script/%E7%BB%83%E4%B9%A0/%E8%B1%86%E7%93%A3/%E8%B1%86%E7%93%A3.ipynb#Y116sZmlsZQ%3D%3D?line=15'>16</a>\u001b[0m banana\u001b[39m.\u001b[39mcolor \u001b[39m=\u001b[39m\u001b[39m'\u001b[39m\u001b[39myellow\u001b[39m\u001b[39m'\u001b[39m\n",
      "\u001b[1;31mTypeError\u001b[0m: 'str' object is not callable"
     ]
    }
   ],
   "source": [
    "\n",
    "#实例变量和类变量\n",
    "class Fruit(object):\n",
    "    price=0   #类变量\n",
    "\n",
    "    def __init__(self):\n",
    "        self.color='red'  #实例变量\n",
    "        zone='China'      #局部变量\n",
    "\n",
    "if __name__=='__main__':\n",
    "    print(Fruit.price)    #使用类名调用类变量\n",
    "    apple=Fruit()         #定义对象apple\n",
    "    print(apple.color)    #输出apple对象的颜色\n",
    "    Fruit.price=Fruit.price+10  #将类变量加10\n",
    "    print(\"apple's price:\" + str(apple.price)) #输出apple对象的price\n",
    "    banana=Fruit()\n",
    "    banana.color ='yellow'\n",
    "    print(banana.color )\n",
    "    print(apple.color) \n",
    "    print(\"banana's price:\" + str(banana.price)) #输出banana对象的price\n",
    "\n",
    "    \n",
    "    #演示Python类变量与C++静态变量之区别\n",
    "    print(Fruit.price, apple.price, banana.price)\n",
    "    apple.price+=10\n",
    "    print(Fruit.price, apple.price, banana.price)\n",
    "    banana.price+=20\n",
    "    print(Fruit.price, apple.price, banana.price)\n",
    "    Fruit.price+=30\n",
    "    print(Fruit.price, apple.price, banana.price)"
   ]
  },
  {
   "cell_type": "code",
   "execution_count": 268,
   "metadata": {},
   "outputs": [
    {
     "name": "stdout",
     "output_type": "stream",
     "text": [
      "Initial value in obj1: 5\n",
      "Initial value in obj2: 5\n",
      "Value in obj1 after change: 10\n",
      "Value in obj2 after change: 10\n"
     ]
    }
   ],
   "source": [
    "class MyClass:\n",
    "    class_variable = 5  # 类变量\n",
    "\n",
    "# 创建 MyClass 的一个实例\n",
    "obj1 = MyClass()\n",
    "print(f\"Initial value in obj1: {obj1.class_variable}\")  # 输出初始类变量的值\n",
    "\n",
    "# 创建另一个 MyClass 的实例\n",
    "obj2 = MyClass()\n",
    "print(f\"Initial value in obj2: {obj2.class_variable}\")  # 输出初始类变量的值\n",
    "\n",
    "# 通过类本身更改类变量\n",
    "MyClass.class_variable = 10\n",
    "\n",
    "# 再次检查两个实例中的类变量值\n",
    "print(f\"Value in obj1 after change: {obj1.class_variable}\")  # 输出更改后的类变量的值\n",
    "print(f\"Value in obj2 after change: {obj2.class_variable}\")  # 输出更改后的类变量的值\n"
   ]
  },
  {
   "cell_type": "code",
   "execution_count": 273,
   "metadata": {},
   "outputs": [
    {
     "name": "stdout",
     "output_type": "stream",
     "text": [
      "1\n",
      "姓名为李晓明的对象被创建！\n",
      "姓名为李晓明的对象被销毁！\n",
      "2\n",
      "姓名为马红的对象被创建！\n",
      "3\n",
      "4\n",
      "5\n",
      "姓名为张刚的对象被创建！\n",
      "姓名为张刚的对象被销毁！\n",
      "6\n",
      "姓名为马红的对象被销毁！\n",
      "7\n",
      "8\n",
      "姓名为刘建的对象被创建！\n",
      "姓名为刘建的对象被销毁！\n"
     ]
    }
   ],
   "source": [
    "class Student: #定义Student类\n",
    "    def __init__(self,name): #定义构造方法\n",
    "        self.name=name\n",
    "        print('姓名为%s的对象被创建！'%self.name)\n",
    "    def __del__(self): #定义析构方法\n",
    "        print('姓名为%s的对象被销毁！'%self.name)\n",
    "        \n",
    "def func(name):\n",
    "    stu=Student(name) #创建Student类对象stu\n",
    "\n",
    "if __name__=='__main__':\n",
    "    print('1')\n",
    "    stu1=Student('李晓明')\n",
    "    print('2')\n",
    "    stu2=Student('马红')   #创建Student类对象stu2\n",
    "    print('3')\n",
    "    stu3=stu2\n",
    "    print('4')\n",
    "    del stu2    \n",
    "    print('5')#使用del删除stu2对象\n",
    "    func('张刚')\n",
    "    print('6')#调用func函数\n",
    "    del stu3  \n",
    "    print('7')\n",
    "    #使用del删除stu3对象\n",
    "    print('8')\n",
    "    stu4=Student('刘建')   #创建Student类对象stu4\n"
   ]
  },
  {
   "cell_type": "code",
   "execution_count": 277,
   "metadata": {},
   "outputs": [
    {
     "name": "stdout",
     "output_type": "stream",
     "text": [
      "3156712081504\n",
      "3156719773024\n",
      "(1, 2, 3, 4, 5, 6)\n"
     ]
    }
   ],
   "source": [
    "t=(1,2,3,4)\n",
    "print(id(t))\n",
    "t1=(5,6)\n",
    "t+=t1\n",
    "print(id(t))\n",
    "print(t)"
   ]
  },
  {
   "cell_type": "code",
   "execution_count": 320,
   "metadata": {},
   "outputs": [],
   "source": [
    "class A(object):\n",
    "    def __init__(self):\n",
    "        self.a = 1\n",
    "    def x(self):\n",
    "        print (\"A.x\")\n",
    "    def y(self):\n",
    "        print (\"A.y\")\n",
    "    def z(self):\n",
    "        print (\"A.z\")\n",
    "        \n",
    "class B(A):\n",
    "    def __init__(self):\n",
    "        # A.__init__(self)\n",
    "        self.a = 2\n",
    "        self.b = 3\n",
    "    def y(self):\n",
    "        print (\"B.y\")\n",
    "    def z(self):\n",
    "        print (\"B.z\")\n",
    "        \n",
    "class C(object):\n",
    "    def __init__(self):\n",
    "        self.a = 4\n",
    "        self.c = 5\n",
    "    def y(self):\n",
    "        print (\"C.y\")\n",
    "    def z(self):\n",
    "        print (\"C.z\")\n",
    "        \n",
    "class D(B,C):\n",
    "    def __init__(self):\n",
    "        C.__init__(self)\n",
    "        B.__init__(self)\n",
    "        self.d = 6\n",
    "    def z(self):\n",
    "        self.haha = 7\n",
    "        print (\"D.z\")\n",
    "        \n",
    "    \n"
   ]
  },
  {
   "cell_type": "code",
   "execution_count": 321,
   "metadata": {},
   "outputs": [],
   "source": [
    "obj=D()\n",
    "obj.t=12"
   ]
  },
  {
   "cell_type": "code",
   "execution_count": 322,
   "metadata": {},
   "outputs": [
    {
     "name": "stdout",
     "output_type": "stream",
     "text": [
      "D.z\n"
     ]
    }
   ],
   "source": [
    "obj.z()"
   ]
  },
  {
   "cell_type": "code",
   "execution_count": 323,
   "metadata": {},
   "outputs": [
    {
     "data": {
      "text/plain": [
       "7"
      ]
     },
     "execution_count": 323,
     "metadata": {},
     "output_type": "execute_result"
    }
   ],
   "source": [
    "obj.haha"
   ]
  },
  {
   "cell_type": "code",
   "execution_count": 324,
   "metadata": {},
   "outputs": [
    {
     "name": "stdout",
     "output_type": "stream",
     "text": [
      "2\n",
      "5\n",
      "12\n"
     ]
    }
   ],
   "source": [
    "print(obj.a)\n",
    "print(obj.c)\n",
    "print(obj.t)"
   ]
  },
  {
   "cell_type": "code",
   "execution_count": 307,
   "metadata": {},
   "outputs": [
    {
     "name": "stdout",
     "output_type": "stream",
     "text": [
      "Initialized in another method\n"
     ]
    }
   ],
   "source": [
    "class MyClass:\n",
    "    def __init__(self):\n",
    "        self.attribute_in_init = \"Initialized in __init__\"\n",
    "\n",
    "    def add_attribute(self):\n",
    "        self.attribute_in_other_method = \"Initialized in another method\"\n",
    "\n",
    "obj1 = MyClass()\n",
    "obj1.add_attribute()\n",
    "print(obj1.attribute_in_other_method)  # 输出: Initialized in another method\n"
   ]
  }
 ],
 "metadata": {
  "kernelspec": {
   "display_name": "pachong",
   "language": "python",
   "name": "python3"
  },
  "language_info": {
   "codemirror_mode": {
    "name": "ipython",
    "version": 3
   },
   "file_extension": ".py",
   "mimetype": "text/x-python",
   "name": "python",
   "nbconvert_exporter": "python",
   "pygments_lexer": "ipython3",
   "version": "3.11.4"
  },
  "orig_nbformat": 4
 },
 "nbformat": 4,
 "nbformat_minor": 2
}
