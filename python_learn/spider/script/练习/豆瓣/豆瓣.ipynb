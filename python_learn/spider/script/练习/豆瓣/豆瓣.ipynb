{
 "cells": [
  {
   "cell_type": "markdown",
   "metadata": {},
   "source": [
    "## 爬取前250部电影"
   ]
  },
  {
   "cell_type": "code",
   "execution_count": null,
   "metadata": {},
   "outputs": [],
   "source": [
    "# import libs\n",
    "import requests\n",
    "from bs4 import BeautifulSoup\n",
    "import csv\n",
    "import time"
   ]
  },
  {
   "cell_type": "code",
   "execution_count": 74,
   "metadata": {},
   "outputs": [],
   "source": [
    "#爬取前250部电影的名称、评分、导演、链接\n",
    "def getHTMLText(url):\n",
    "    try:\n",
    "        headers = {'User-Agent': 'Mozilla/5.0 (Windows NT 10.0; Win64; x64) AppleWebKit/537.36 (KHTML, like Gecko) Chrome/116.0.0.0 Safari/537.36'}\n",
    "        r = requests.get(url, headers=headers,timeout=30)\n",
    "        r.raise_for_status() # 如果状态不是200，引发HTTPError异常\n",
    "        # print(r.status_code)# 查看状态码\n",
    "        r.encoding = r.apparent_encoding\n",
    "        # print('success')\n",
    "        return r.text\n",
    "    except:\n",
    "        print('error')# 异常处理\n",
    "        return \"产生异常\"\n",
    "    \n",
    "def getMovieList(html):\n",
    "    soup=BeautifulSoup(html,'html.parser')\n",
    "    Movies=soup.find_all('div',class_='item')\n",
    "    movielist=[]\n",
    "    for movie in Movies:\n",
    "        key={}\n",
    "        #提取电影名称\n",
    "        key['movieName']=movie.find('span',class_='title').string\n",
    "        #提取电影评分\n",
    "        key['rating_num']=movie.find('span',class_='rating_num').string\n",
    "        #获取链接\n",
    "        key['link'] = movie.find('a')['href']\n",
    "\n",
    "# ###有些信息不全，不够完美，因此在这就不提取了\n",
    "        movie_info = movie.find('div', class_='bd').find('p', class_='')\n",
    "#         # print(movie_info.get_text())\n",
    "#         # 提取导演和主演\n",
    "        director_and_actors = movie_info.get_text().split('...')[0]\n",
    "#         # print(director_and_actors)\n",
    "        key['director'] = director_and_actors.split('导演: ')[1].split('主')[0].strip()\n",
    "# #删除key['director']中的空格\n",
    "#         key['director'] = re.sub('\\s','',key['director'])\n",
    "\n",
    "        movielist.append(key)\n",
    "        \n",
    "    return movielist\n",
    "\n",
    "def save_to_csv(movielist):\n",
    "    with open('DouBanMovieT250.csv','a+',encoding='UTF-8',newline='') as fp:\n",
    "        writer = csv.writer(fp)\n",
    "        for key in movielist:\n",
    "            writer.writerow([key['movieName'],key['rating_num'],key['director'],key['link']])\n",
    "\n",
    "def main():\n",
    "    movielist=[]\n",
    "    for page in range(0,226,25):\n",
    "        time.sleep(2)\n",
    "    #url不要写死，便于分页抓取数据\n",
    "        url =f'https://movie.douban.com/top250?start={page}&filter='\n",
    "        html=getHTMLText(url)\n",
    "        movielist=getMovieList(html)\n",
    "        save_to_csv(movielist)\n",
    "        # print(html)\n",
    "        # print(url)\n",
    "        \n",
    "if __name__ == '__main__':\n",
    "    main()"
   ]
  },
  {
   "cell_type": "code",
   "execution_count": null,
   "metadata": {},
   "outputs": [],
   "source": [
    "#根据电影链接爬取电影的详细信息——还未完成\n",
    "def getHTMLText(url):\n",
    "    try:\n",
    "        headers = {'User-Agent': 'Mozilla/5.0 (Windows NT 10.0; Win64; x64) AppleWebKit/537.36 (KHTML, like Gecko) Chrome/58.0.3029.110 Safari/537.3'}\n",
    "        r = requests.get(url, headers=headers,timeout=30)\n",
    "        r.raise_for_status() # 如果状态不是200，引发HTTPError异常\n",
    "        # print(r.status_code)# 查看状态码\n",
    "        r.encoding = r.apparent_encoding\n",
    "        # print('success')\n",
    "        return r.text\n",
    "    except:\n",
    "        print('error')# 异常处理\n",
    "        return \"产生异常\"\n",
    "    \n",
    "    \n",
    "def getMovieList(html):\n",
    "    soup=BeautifulSoup(html,'html.parser')\n",
    "    return ''\n",
    "\n",
    "\n",
    "def main():\n",
    "    return ''\n",
    "\n",
    "\n",
    "if __name__ == '__main__':\n",
    "    main()\n"
   ]
  }
 ],
 "metadata": {
  "kernelspec": {
   "display_name": "pachong",
   "language": "python",
   "name": "python3"
  },
  "language_info": {
   "codemirror_mode": {
    "name": "ipython",
    "version": 3
   },
   "file_extension": ".py",
   "mimetype": "text/x-python",
   "name": "python",
   "nbconvert_exporter": "python",
   "pygments_lexer": "ipython3",
   "version": "3.11.4"
  },
  "orig_nbformat": 4
 },
 "nbformat": 4,
 "nbformat_minor": 2
}
