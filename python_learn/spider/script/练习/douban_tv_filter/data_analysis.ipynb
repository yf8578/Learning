{
 "cells": [
  {
   "cell_type": "code",
   "execution_count": 1,
   "metadata": {
    "vscode": {
     "languageId": "r"
    }
   },
   "outputs": [
    {
     "name": "stderr",
     "output_type": "stream",
     "text": [
      "Warning message:\n",
      "\"package 'ggplot2' was built under R version 4.3.2\"\n",
      "── \u001b[1mAttaching core tidyverse packages\u001b[22m ──────────────────────── tidyverse 2.0.0 ──\n",
      "\u001b[32m✔\u001b[39m \u001b[34mdplyr    \u001b[39m 1.1.2     \u001b[32m✔\u001b[39m \u001b[34mreadr    \u001b[39m 2.1.4\n",
      "\u001b[32m✔\u001b[39m \u001b[34mforcats  \u001b[39m 1.0.0     \u001b[32m✔\u001b[39m \u001b[34mstringr  \u001b[39m 1.5.0\n",
      "\u001b[32m✔\u001b[39m \u001b[34mggplot2  \u001b[39m 3.4.4     \u001b[32m✔\u001b[39m \u001b[34mtibble   \u001b[39m 3.2.1\n",
      "\u001b[32m✔\u001b[39m \u001b[34mlubridate\u001b[39m 1.9.2     \u001b[32m✔\u001b[39m \u001b[34mtidyr    \u001b[39m 1.3.0\n",
      "\u001b[32m✔\u001b[39m \u001b[34mpurrr    \u001b[39m 1.0.1     \n",
      "── \u001b[1mConflicts\u001b[22m ────────────────────────────────────────── tidyverse_conflicts() ──\n",
      "\u001b[31m✖\u001b[39m \u001b[34mdplyr\u001b[39m::\u001b[32mfilter()\u001b[39m masks \u001b[34mstats\u001b[39m::filter()\n",
      "\u001b[31m✖\u001b[39m \u001b[34mdplyr\u001b[39m::\u001b[32mlag()\u001b[39m    masks \u001b[34mstats\u001b[39m::lag()\n",
      "\u001b[36mℹ\u001b[39m Use the conflicted package (\u001b[3m\u001b[34m<http://conflicted.r-lib.org/>\u001b[39m\u001b[23m) to force all conflicts to become errors\n"
     ]
    }
   ],
   "source": [
    "#导入数据\n",
    "library(tidyverse)\n",
    "library(cluster)\n",
    "library(ggplot2)\n",
    "tv_data <- read.csv(\"D:\\\\000zyf\\\\Learning\\\\python_learn\\\\spider\\\\script\\\\练习\\\\douban_tv_filter\\\\DoubanTv.csv\", col.names = c(\"ID\", \"Title\", \"Value\", \"Info\", \"Year\", \"Pic_url\"), header = F, sep = \",\")\n",
    "tv_data<-tv_data%>%select(-Pic_url)"
   ]
  },
  {
   "cell_type": "code",
   "execution_count": 2,
   "metadata": {
    "vscode": {
     "languageId": "r"
    }
   },
   "outputs": [],
   "source": [
    "tags<-c(\"喜剧\",\"爱情\",\"悬疑\", \"动画\",\"武侠\",\"古装\",\"家庭\",\"犯罪\",\"科幻\",\"恐怖\",\"历史\",\"战争\",\"动作\",\"冒险\",\"传记\",\"剧情\",\"奇幻\",\"惊悚\",\"灾难\",\"歌舞\",\"音乐\")"
   ]
  },
  {
   "cell_type": "code",
   "execution_count": 3,
   "metadata": {
    "vscode": {
     "languageId": "r"
    }
   },
   "outputs": [
    {
     "name": "stderr",
     "output_type": "stream",
     "text": [
      "Warning message:\n",
      "\"\u001b[1m\u001b[22mExpected 5 pieces. Missing pieces filled with `NA` in 1 rows [1].\"\n"
     ]
    },
    {
     "data": {
      "text/html": [
       "<table class=\"dataframe\">\n",
       "<caption>A data.frame: 1 × 9</caption>\n",
       "<thead>\n",
       "\t<tr><th scope=col>ID</th><th scope=col>Title</th><th scope=col>Value</th><th scope=col>Year1</th><th scope=col>Area</th><th scope=col>Type</th><th scope=col>Director</th><th scope=col>Actor</th><th scope=col>Year</th></tr>\n",
       "\t<tr><th scope=col>&lt;int&gt;</th><th scope=col>&lt;chr&gt;</th><th scope=col>&lt;dbl&gt;</th><th scope=col>&lt;chr&gt;</th><th scope=col>&lt;chr&gt;</th><th scope=col>&lt;chr&gt;</th><th scope=col>&lt;chr&gt;</th><th scope=col>&lt;chr&gt;</th><th scope=col>&lt;int&gt;</th></tr>\n",
       "</thead>\n",
       "<tbody>\n",
       "\t<tr><td>36369442</td><td>快乐的大人</td><td>9.2</td><td>2023 / 中国大陆 / 沈月 王敬轩</td><td>NA</td><td>NA</td><td>NA</td><td>NA</td><td>2023</td></tr>\n",
       "</tbody>\n",
       "</table>\n"
      ],
      "text/latex": [
       "A data.frame: 1 × 9\n",
       "\\begin{tabular}{lllllllll}\n",
       " ID & Title & Value & Year1 & Area & Type & Director & Actor & Year\\\\\n",
       " <int> & <chr> & <dbl> & <chr> & <chr> & <chr> & <chr> & <chr> & <int>\\\\\n",
       "\\hline\n",
       "\t 36369442 & 快乐的大人 & 9.2 & 2023 / 中国大陆 / 沈月 王敬轩 & NA & NA & NA & NA & 2023\\\\\n",
       "\\end{tabular}\n"
      ],
      "text/markdown": [
       "\n",
       "A data.frame: 1 × 9\n",
       "\n",
       "| ID &lt;int&gt; | Title &lt;chr&gt; | Value &lt;dbl&gt; | Year1 &lt;chr&gt; | Area &lt;chr&gt; | Type &lt;chr&gt; | Director &lt;chr&gt; | Actor &lt;chr&gt; | Year &lt;int&gt; |\n",
       "|---|---|---|---|---|---|---|---|---|\n",
       "| 36369442 | 快乐的大人 | 9.2 | 2023 / 中国大陆 / 沈月 王敬轩 | NA | NA | NA | NA | 2023 |\n",
       "\n"
      ],
      "text/plain": [
       "  ID       Title      Value Year1                         Area Type Director\n",
       "1 36369442 快乐的大人 9.2   2023 / 中国大陆 / 沈月 王敬轩 NA   NA   NA      \n",
       "  Actor Year\n",
       "1 NA    2023"
      ]
     },
     "metadata": {},
     "output_type": "display_data"
    }
   ],
   "source": [
    "tv_data %>%  filter(ID=='36369442') %>% separate(Info, c(\"Year1\", \"Area\", \"Type\", \"Director\", \"Actor\"),sep = c(' \\\\ / '))"
   ]
  },
  {
   "cell_type": "code",
   "execution_count": 4,
   "metadata": {
    "vscode": {
     "languageId": "r"
    }
   },
   "outputs": [
    {
     "name": "stderr",
     "output_type": "stream",
     "text": [
      "Warning message:\n",
      "\"\u001b[1m\u001b[22mExpected 5 pieces. Missing pieces filled with `NA` in 20 rows [107, 131, 143,\n",
      "146, 191, 211, 263, 288, 339, 359, 362, 379, 401, 403, 409, 461, 465, 475, 482,\n",
      "486].\"\n"
     ]
    },
    {
     "data": {
      "text/html": [
       "<table class=\"dataframe\">\n",
       "<caption>A rowwise_df: 20 × 5</caption>\n",
       "<thead>\n",
       "\t<tr><th scope=col>Year1</th><th scope=col>Area</th><th scope=col>Type</th><th scope=col>Director</th><th scope=col>Actor</th></tr>\n",
       "\t<tr><th scope=col>&lt;chr&gt;</th><th scope=col>&lt;chr&gt;</th><th scope=col>&lt;chr&gt;</th><th scope=col>&lt;chr&gt;</th><th scope=col>&lt;chr&gt;</th></tr>\n",
       "</thead>\n",
       "<tbody>\n",
       "\t<tr><td>2023 </td><td> 中国大陆 </td><td> 纪录片         </td><td> 肖姝                                                                                        </td><td>NA</td></tr>\n",
       "\t<tr><td>2023 </td><td> 中国大陆 </td><td> 真人秀         </td><td> 陈少熙 何浩楠                                                                               </td><td>NA</td></tr>\n",
       "\t<tr><td>2022 </td><td> 中国大陆 </td><td> 音乐 真人秀    </td><td> 陈楚生 苏醒                                                                                 </td><td>NA</td></tr>\n",
       "\t<tr><td>2023 </td><td> 中国大陆 </td><td> 动画 短片 奇幻 </td><td> 陈廖宇 於水 胡睿 杨木 刘毛宁 陈莲华 周小琳 潘斌 顾杨 刘旷 徐宁                              </td><td>NA</td></tr>\n",
       "\t<tr><td>2023 </td><td> 中国大陆 </td><td> 运动 真人秀    </td><td> 李晨 张伟丽                                                                                 </td><td>NA</td></tr>\n",
       "\t<tr><td>2023 </td><td> 中国大陆 </td><td> 喜剧 真人秀    </td><td> 郎昊辰 张九林                                                                               </td><td>NA</td></tr>\n",
       "\t<tr><td>2021 </td><td> 中国大陆 </td><td> 真人秀         </td><td> 马东 黄渤                                                                                   </td><td>NA</td></tr>\n",
       "\t<tr><td>2019 </td><td> 中国大陆 </td><td> 真人秀         </td><td> 迪丽热巴 郑恺                                                                               </td><td>NA</td></tr>\n",
       "\t<tr><td>2023 </td><td> 中国大陆 </td><td> 王运辉         </td><td>NA                                                                                           </td><td>NA</td></tr>\n",
       "\t<tr><td>2023 </td><td> 中国大陆 </td><td> 纪录片         </td><td> 廖莎                                                                                        </td><td>NA</td></tr>\n",
       "\t<tr><td>2023 </td><td> 中国大陆 </td><td> 真人秀         </td><td> 周一围 朱丹                                                                                 </td><td>NA</td></tr>\n",
       "\t<tr><td>2023 </td><td> 中国大陆 </td><td> 真人秀         </td><td> 黄晓明 陈铭                                                                                 </td><td>NA</td></tr>\n",
       "\t<tr><td>2019 </td><td> 中国大陆 </td><td> 纪录片         </td><td> 肖姝                                                                                        </td><td>NA</td></tr>\n",
       "\t<tr><td>2017 </td><td> 中国大陆 </td><td> 真人秀         </td><td> 邓超 李晨                                                                                   </td><td>NA</td></tr>\n",
       "\t<tr><td>2022 </td><td> 中国大陆 </td><td> 纪录片         </td><td> 肖姝                                                                                        </td><td>NA</td></tr>\n",
       "\t<tr><td>2023 </td><td> 中国大陆 </td><td> 大左 杨迪      </td><td>NA                                                                                           </td><td>NA</td></tr>\n",
       "\t<tr><td>2023 </td><td> 中国大陆 </td><td> 剧情 动画      </td><td> 张勃 谢丹 王家国 毕维 白猫 理光瀚 师哲 梁卓宏 高子涵 王钰丰 陈飞 易宝星辰 袁原 保罗·威廉姆斯</td><td>NA</td></tr>\n",
       "\t<tr><td>2022 </td><td> 中国大陆 </td><td> 真人秀         </td><td> 陈楚生 陆虎                                                                                 </td><td>NA</td></tr>\n",
       "\t<tr><td>2023 </td><td> 中国大陆 </td><td> 沈月 王敬轩    </td><td>NA                                                                                           </td><td>NA</td></tr>\n",
       "\t<tr><td>2020 </td><td> 中国大陆 </td><td> 纪录片         </td><td> 肖姝                                                                                        </td><td>NA</td></tr>\n",
       "</tbody>\n",
       "</table>\n"
      ],
      "text/latex": [
       "A rowwise\\_df: 20 × 5\n",
       "\\begin{tabular}{lllll}\n",
       " Year1 & Area & Type & Director & Actor\\\\\n",
       " <chr> & <chr> & <chr> & <chr> & <chr>\\\\\n",
       "\\hline\n",
       "\t 2023  &  中国大陆  &  纪录片          &  肖姝                                                                                         & NA\\\\\n",
       "\t 2023  &  中国大陆  &  真人秀          &  陈少熙 何浩楠                                                                                & NA\\\\\n",
       "\t 2022  &  中国大陆  &  音乐 真人秀     &  陈楚生 苏醒                                                                                  & NA\\\\\n",
       "\t 2023  &  中国大陆  &  动画 短片 奇幻  &  陈廖宇 於水 胡睿 杨木 刘毛宁 陈莲华 周小琳 潘斌 顾杨 刘旷 徐宁                               & NA\\\\\n",
       "\t 2023  &  中国大陆  &  运动 真人秀     &  李晨 张伟丽                                                                                  & NA\\\\\n",
       "\t 2023  &  中国大陆  &  喜剧 真人秀     &  郎昊辰 张九林                                                                                & NA\\\\\n",
       "\t 2021  &  中国大陆  &  真人秀          &  马东 黄渤                                                                                    & NA\\\\\n",
       "\t 2019  &  中国大陆  &  真人秀          &  迪丽热巴 郑恺                                                                                & NA\\\\\n",
       "\t 2023  &  中国大陆  &  王运辉          & NA                                                                                            & NA\\\\\n",
       "\t 2023  &  中国大陆  &  纪录片          &  廖莎                                                                                         & NA\\\\\n",
       "\t 2023  &  中国大陆  &  真人秀          &  周一围 朱丹                                                                                  & NA\\\\\n",
       "\t 2023  &  中国大陆  &  真人秀          &  黄晓明 陈铭                                                                                  & NA\\\\\n",
       "\t 2019  &  中国大陆  &  纪录片          &  肖姝                                                                                         & NA\\\\\n",
       "\t 2017  &  中国大陆  &  真人秀          &  邓超 李晨                                                                                    & NA\\\\\n",
       "\t 2022  &  中国大陆  &  纪录片          &  肖姝                                                                                         & NA\\\\\n",
       "\t 2023  &  中国大陆  &  大左 杨迪       & NA                                                                                            & NA\\\\\n",
       "\t 2023  &  中国大陆  &  剧情 动画       &  张勃 谢丹 王家国 毕维 白猫 理光瀚 师哲 梁卓宏 高子涵 王钰丰 陈飞 易宝星辰 袁原 保罗·威廉姆斯 & NA\\\\\n",
       "\t 2022  &  中国大陆  &  真人秀          &  陈楚生 陆虎                                                                                  & NA\\\\\n",
       "\t 2023  &  中国大陆  &  沈月 王敬轩     & NA                                                                                            & NA\\\\\n",
       "\t 2020  &  中国大陆  &  纪录片          &  肖姝                                                                                         & NA\\\\\n",
       "\\end{tabular}\n"
      ],
      "text/markdown": [
       "\n",
       "A rowwise_df: 20 × 5\n",
       "\n",
       "| Year1 &lt;chr&gt; | Area &lt;chr&gt; | Type &lt;chr&gt; | Director &lt;chr&gt; | Actor &lt;chr&gt; |\n",
       "|---|---|---|---|---|\n",
       "| 2023  |  中国大陆  |  纪录片          |  肖姝                                                                                         | NA |\n",
       "| 2023  |  中国大陆  |  真人秀          |  陈少熙 何浩楠                                                                                | NA |\n",
       "| 2022  |  中国大陆  |  音乐 真人秀     |  陈楚生 苏醒                                                                                  | NA |\n",
       "| 2023  |  中国大陆  |  动画 短片 奇幻  |  陈廖宇 於水 胡睿 杨木 刘毛宁 陈莲华 周小琳 潘斌 顾杨 刘旷 徐宁                               | NA |\n",
       "| 2023  |  中国大陆  |  运动 真人秀     |  李晨 张伟丽                                                                                  | NA |\n",
       "| 2023  |  中国大陆  |  喜剧 真人秀     |  郎昊辰 张九林                                                                                | NA |\n",
       "| 2021  |  中国大陆  |  真人秀          |  马东 黄渤                                                                                    | NA |\n",
       "| 2019  |  中国大陆  |  真人秀          |  迪丽热巴 郑恺                                                                                | NA |\n",
       "| 2023  |  中国大陆  |  王运辉          | NA                                                                                            | NA |\n",
       "| 2023  |  中国大陆  |  纪录片          |  廖莎                                                                                         | NA |\n",
       "| 2023  |  中国大陆  |  真人秀          |  周一围 朱丹                                                                                  | NA |\n",
       "| 2023  |  中国大陆  |  真人秀          |  黄晓明 陈铭                                                                                  | NA |\n",
       "| 2019  |  中国大陆  |  纪录片          |  肖姝                                                                                         | NA |\n",
       "| 2017  |  中国大陆  |  真人秀          |  邓超 李晨                                                                                    | NA |\n",
       "| 2022  |  中国大陆  |  纪录片          |  肖姝                                                                                         | NA |\n",
       "| 2023  |  中国大陆  |  大左 杨迪       | NA                                                                                            | NA |\n",
       "| 2023  |  中国大陆  |  剧情 动画       |  张勃 谢丹 王家国 毕维 白猫 理光瀚 师哲 梁卓宏 高子涵 王钰丰 陈飞 易宝星辰 袁原 保罗·威廉姆斯 | NA |\n",
       "| 2022  |  中国大陆  |  真人秀          |  陈楚生 陆虎                                                                                  | NA |\n",
       "| 2023  |  中国大陆  |  沈月 王敬轩     | NA                                                                                            | NA |\n",
       "| 2020  |  中国大陆  |  纪录片          |  肖姝                                                                                         | NA |\n",
       "\n"
      ],
      "text/plain": [
       "   Year1 Area       Type            \n",
       "1  2023   中国大陆   纪录片         \n",
       "2  2023   中国大陆   真人秀         \n",
       "3  2022   中国大陆   音乐 真人秀    \n",
       "4  2023   中国大陆   动画 短片 奇幻 \n",
       "5  2023   中国大陆   运动 真人秀    \n",
       "6  2023   中国大陆   喜剧 真人秀    \n",
       "7  2021   中国大陆   真人秀         \n",
       "8  2019   中国大陆   真人秀         \n",
       "9  2023   中国大陆   王运辉         \n",
       "10 2023   中国大陆   纪录片         \n",
       "11 2023   中国大陆   真人秀         \n",
       "12 2023   中国大陆   真人秀         \n",
       "13 2019   中国大陆   纪录片         \n",
       "14 2017   中国大陆   真人秀         \n",
       "15 2022   中国大陆   纪录片         \n",
       "16 2023   中国大陆   大左 杨迪      \n",
       "17 2023   中国大陆   剧情 动画      \n",
       "18 2022   中国大陆   真人秀         \n",
       "19 2023   中国大陆   沈月 王敬轩    \n",
       "20 2020   中国大陆   纪录片         \n",
       "   Director                                                                                     \n",
       "1   肖姝                                                                                        \n",
       "2   陈少熙 何浩楠                                                                               \n",
       "3   陈楚生 苏醒                                                                                 \n",
       "4   陈廖宇 於水 胡睿 杨木 刘毛宁 陈莲华 周小琳 潘斌 顾杨 刘旷 徐宁                              \n",
       "5   李晨 张伟丽                                                                                 \n",
       "6   郎昊辰 张九林                                                                               \n",
       "7   马东 黄渤                                                                                   \n",
       "8   迪丽热巴 郑恺                                                                               \n",
       "9  NA                                                                                           \n",
       "10  廖莎                                                                                        \n",
       "11  周一围 朱丹                                                                                 \n",
       "12  黄晓明 陈铭                                                                                 \n",
       "13  肖姝                                                                                        \n",
       "14  邓超 李晨                                                                                   \n",
       "15  肖姝                                                                                        \n",
       "16 NA                                                                                           \n",
       "17  张勃 谢丹 王家国 毕维 白猫 理光瀚 师哲 梁卓宏 高子涵 王钰丰 陈飞 易宝星辰 袁原 保罗·威廉姆斯\n",
       "18  陈楚生 陆虎                                                                                 \n",
       "19 NA                                                                                           \n",
       "20  肖姝                                                                                        \n",
       "   Actor\n",
       "1  NA   \n",
       "2  NA   \n",
       "3  NA   \n",
       "4  NA   \n",
       "5  NA   \n",
       "6  NA   \n",
       "7  NA   \n",
       "8  NA   \n",
       "9  NA   \n",
       "10 NA   \n",
       "11 NA   \n",
       "12 NA   \n",
       "13 NA   \n",
       "14 NA   \n",
       "15 NA   \n",
       "16 NA   \n",
       "17 NA   \n",
       "18 NA   \n",
       "19 NA   \n",
       "20 NA   "
      ]
     },
     "metadata": {},
     "output_type": "display_data"
    }
   ],
   "source": [
    "#数据里面有NA值，我们这里将其过滤掉\n",
    "tv_data %>% select(Info) %>% separate(Info, c(\"Year1\", \"Area\", \"Type\", \"Director\", \"Actor\"),sep = '/') %>% rowwise() %>% filter(any(map_lgl(c_across(everything()), is.na)))"
   ]
  },
  {
   "cell_type": "code",
   "execution_count": 5,
   "metadata": {
    "vscode": {
     "languageId": "r"
    }
   },
   "outputs": [
    {
     "name": "stderr",
     "output_type": "stream",
     "text": [
      "Warning message:\n",
      "\"\u001b[1m\u001b[22mExpected 5 pieces. Missing pieces filled with `NA` in 20 rows [107, 131, 143,\n",
      "146, 191, 211, 263, 288, 339, 359, 362, 379, 401, 403, 409, 461, 465, 475, 482,\n",
      "486].\"\n"
     ]
    },
    {
     "data": {
      "text/html": [
       "<style>\n",
       ".list-inline {list-style: none; margin:0; padding: 0}\n",
       ".list-inline>li {display: inline-block}\n",
       ".list-inline>li:not(:last-child)::after {content: \"\\00b7\"; padding: 0 .5ex}\n",
       "</style>\n",
       "<ol class=list-inline><li>457</li><li>8</li></ol>\n"
      ],
      "text/latex": [
       "\\begin{enumerate*}\n",
       "\\item 457\n",
       "\\item 8\n",
       "\\end{enumerate*}\n"
      ],
      "text/markdown": [
       "1. 457\n",
       "2. 8\n",
       "\n",
       "\n"
      ],
      "text/plain": [
       "[1] 457   8"
      ]
     },
     "metadata": {},
     "output_type": "display_data"
    }
   ],
   "source": [
    "tv_data_filter<-tv_data %>% separate(Info, c(\"Year1\", \"Area\", \"Type\", \"Director\", \"Actor\"),sep = '/') %>% na.omit() %>% select(-Year1) %>% filter(Value!=0)\n",
    "tv_data_filter %>% dim()"
   ]
  },
  {
   "cell_type": "code",
   "execution_count": 6,
   "metadata": {
    "vscode": {
     "languageId": "r"
    }
   },
   "outputs": [
    {
     "data": {
      "text/html": [
       "<style>\n",
       ".list-inline {list-style: none; margin:0; padding: 0}\n",
       ".list-inline>li {display: inline-block}\n",
       ".list-inline>li:not(:last-child)::after {content: \"\\00b7\"; padding: 0 .5ex}\n",
       "</style>\n",
       "<ol class=list-inline><li>437</li><li>8</li></ol>\n"
      ],
      "text/latex": [
       "\\begin{enumerate*}\n",
       "\\item 437\n",
       "\\item 8\n",
       "\\end{enumerate*}\n"
      ],
      "text/markdown": [
       "1. 437\n",
       "2. 8\n",
       "\n",
       "\n"
      ],
      "text/plain": [
       "[1] 437   8"
      ]
     },
     "metadata": {},
     "output_type": "display_data"
    }
   ],
   "source": [
    "tv_data_filter %>%\n",
    "  rowwise() %>%\n",
    "  filter(any(map_lgl(tags, ~str_detect(Type, .)))) %>% dim()"
   ]
  },
  {
   "cell_type": "code",
   "execution_count": 7,
   "metadata": {
    "vscode": {
     "languageId": "r"
    }
   },
   "outputs": [
    {
     "name": "stderr",
     "output_type": "stream",
     "text": [
      "Warning message:\n",
      "\"\u001b[1m\u001b[22mExpected 6 pieces. Missing pieces filled with `NA` in 455 rows [1, 2, 3, 4, 5,\n",
      "6, 7, 8, 9, 10, 11, 12, 13, 14, 15, 16, 17, 18, 19, 20, ...].\"\n",
      "Warning message:\n",
      "\"\u001b[1m\u001b[22mExpected 6 pieces. Missing pieces filled with `NA` in 455 rows [1, 2, 3, 4, 5,\n",
      "6, 7, 8, 9, 10, 11, 12, 13, 14, 15, 16, 17, 18, 19, 20, ...].\"\n",
      "Warning message:\n",
      "\"\u001b[1m\u001b[22mExpected 6 pieces. Missing pieces filled with `NA` in 455 rows [1, 2, 3, 4, 5,\n",
      "6, 7, 8, 9, 10, 11, 12, 13, 14, 15, 16, 17, 18, 19, 20, ...].\"\n",
      "Warning message:\n",
      "\"\u001b[1m\u001b[22mExpected 6 pieces. Missing pieces filled with `NA` in 455 rows [1, 2, 3, 4, 5,\n",
      "6, 7, 8, 9, 10, 11, 12, 13, 14, 15, 16, 17, 18, 19, 20, ...].\"\n"
     ]
    }
   ],
   "source": [
    "tv_data_type<-tv_data_filter %>% mutate(Type = str_trim(Type)) %>% separate(Type,c('type1','type2','type3','type4','type5','type6'),sep = ' ') %>% rowwise() %>%\n",
    "  filter(all(c_across(type1:type6) %in% tags | is.na(c_across(type1:type6)))) %>% select(ID,Year,Title,type1:type6)\n",
    "tv_data_value<-tv_data_filter %>% mutate(Type = str_trim(Type)) %>% separate(Type,c('type1','type2','type3','type4','type5','type6'),sep = ' ') %>% rowwise() %>%\n",
    "  filter(all(c_across(type1:type6) %in% tags | is.na(c_across(type1:type6)))) %>% select(ID,Title,Year,Value)\n",
    "tv_data_director<-tv_data_filter %>% mutate(Type = str_trim(Type)) %>% separate(Type,c('type1','type2','type3','type4','type5','type6'),sep = ' ') %>% rowwise() %>%\n",
    "  filter(all(c_across(type1:type6) %in% tags | is.na(c_across(type1:type6)))) %>% select(ID,Title,Year,Director)\n",
    "tv_data_actor<-tv_data_filter %>% mutate(Type = str_trim(Type)) %>% separate(Type,c('type1','type2','type3','type4','type5','type6'),sep = ' ') %>% rowwise() %>%\n",
    "  filter(all(c_across(type1:type6) %in% tags | is.na(c_across(type1:type6)))) %>% select(ID,Title,Year,Actor)"
   ]
  },
  {
   "cell_type": "code",
   "execution_count": 8,
   "metadata": {
    "vscode": {
     "languageId": "r"
    }
   },
   "outputs": [
    {
     "name": "stderr",
     "output_type": "stream",
     "text": [
      "Warning message:\n",
      "\"\u001b[1m\u001b[22mExpected 6 pieces. Missing pieces filled with `NA` in 455 rows [1, 2, 3, 4, 5,\n",
      "6, 7, 8, 9, 10, 11, 12, 13, 14, 15, 16, 17, 18, 19, 20, ...].\"\n"
     ]
    }
   ],
   "source": [
    "tv_data_filter_final<-tv_data_filter %>% mutate(Type = str_trim(Type)) %>% separate(Type,c('type1','type2','type3','type4','type5','type6'),sep = ' ') %>% rowwise() %>%\n",
    "  filter(all(c_across(type1:type6) %in% tags | is.na(c_across(type1:type6))))"
   ]
  },
  {
   "cell_type": "code",
   "execution_count": 9,
   "metadata": {
    "vscode": {
     "languageId": "r"
    }
   },
   "outputs": [],
   "source": [
    "write.csv(tv_data_filter_final, \"D:\\\\000zyf\\\\Learning\\\\python_learn\\\\spider\\\\script\\\\练习\\\\douban_tv_filter\\\\DoubanTv_filter.csv\", row.names = F)"
   ]
  },
  {
   "cell_type": "code",
   "execution_count": 64,
   "metadata": {
    "vscode": {
     "languageId": "r"
    }
   },
   "outputs": [],
   "source": [
    "#绘制热力图\n"
   ]
  },
  {
   "cell_type": "markdown",
   "metadata": {},
   "source": [
    "## 演员电视剧评分"
   ]
  },
  {
   "cell_type": "code",
   "execution_count": 15,
   "metadata": {
    "vscode": {
     "languageId": "r"
    }
   },
   "outputs": [
    {
     "data": {
      "text/html": [
       "<table class=\"dataframe\">\n",
       "<caption>A rowwise_df: 6 × 5</caption>\n",
       "<thead>\n",
       "\t<tr><th scope=col>ID</th><th scope=col>Title</th><th scope=col>Year</th><th scope=col>Value</th><th scope=col>Actor</th></tr>\n",
       "\t<tr><th scope=col>&lt;int&gt;</th><th scope=col>&lt;chr&gt;</th><th scope=col>&lt;int&gt;</th><th scope=col>&lt;dbl&gt;</th><th scope=col>&lt;chr&gt;</th></tr>\n",
       "</thead>\n",
       "<tbody>\n",
       "\t<tr><td>34874646</td><td>繁花              </td><td>2023</td><td>8.6</td><td> 胡歌 马伊琍  </td></tr>\n",
       "\t<tr><td>26862252</td><td>仙剑四            </td><td>2024</td><td>4.2</td><td> 鞠婧祎 陈哲远</td></tr>\n",
       "\t<tr><td>35321446</td><td>大江大河之岁月如歌</td><td>2024</td><td>8.1</td><td> 王凯 杨烁    </td></tr>\n",
       "\t<tr><td>35597502</td><td>祈今朝            </td><td>2024</td><td>4.9</td><td> 许凯 虞书欣  </td></tr>\n",
       "\t<tr><td>34948315</td><td>你也有今天        </td><td>2024</td><td>7.0</td><td> 陈星旭 章若楠</td></tr>\n",
       "\t<tr><td>35588177</td><td>漫长的季节        </td><td>2023</td><td>9.4</td><td> 范伟 秦昊    </td></tr>\n",
       "</tbody>\n",
       "</table>\n"
      ],
      "text/latex": [
       "A rowwise\\_df: 6 × 5\n",
       "\\begin{tabular}{lllll}\n",
       " ID & Title & Year & Value & Actor\\\\\n",
       " <int> & <chr> & <int> & <dbl> & <chr>\\\\\n",
       "\\hline\n",
       "\t 34874646 & 繁花               & 2023 & 8.6 &  胡歌 马伊琍  \\\\\n",
       "\t 26862252 & 仙剑四             & 2024 & 4.2 &  鞠婧祎 陈哲远\\\\\n",
       "\t 35321446 & 大江大河之岁月如歌 & 2024 & 8.1 &  王凯 杨烁    \\\\\n",
       "\t 35597502 & 祈今朝             & 2024 & 4.9 &  许凯 虞书欣  \\\\\n",
       "\t 34948315 & 你也有今天         & 2024 & 7.0 &  陈星旭 章若楠\\\\\n",
       "\t 35588177 & 漫长的季节         & 2023 & 9.4 &  范伟 秦昊    \\\\\n",
       "\\end{tabular}\n"
      ],
      "text/markdown": [
       "\n",
       "A rowwise_df: 6 × 5\n",
       "\n",
       "| ID &lt;int&gt; | Title &lt;chr&gt; | Year &lt;int&gt; | Value &lt;dbl&gt; | Actor &lt;chr&gt; |\n",
       "|---|---|---|---|---|\n",
       "| 34874646 | 繁花               | 2023 | 8.6 |  胡歌 马伊琍   |\n",
       "| 26862252 | 仙剑四             | 2024 | 4.2 |  鞠婧祎 陈哲远 |\n",
       "| 35321446 | 大江大河之岁月如歌 | 2024 | 8.1 |  王凯 杨烁     |\n",
       "| 35597502 | 祈今朝             | 2024 | 4.9 |  许凯 虞书欣   |\n",
       "| 34948315 | 你也有今天         | 2024 | 7.0 |  陈星旭 章若楠 |\n",
       "| 35588177 | 漫长的季节         | 2023 | 9.4 |  范伟 秦昊     |\n",
       "\n"
      ],
      "text/plain": [
       "  ID       Title              Year Value Actor         \n",
       "1 34874646 繁花               2023 8.6    胡歌 马伊琍  \n",
       "2 26862252 仙剑四             2024 4.2    鞠婧祎 陈哲远\n",
       "3 35321446 大江大河之岁月如歌 2024 8.1    王凯 杨烁    \n",
       "4 35597502 祈今朝             2024 4.9    许凯 虞书欣  \n",
       "5 34948315 你也有今天         2024 7.0    陈星旭 章若楠\n",
       "6 35588177 漫长的季节         2023 9.4    范伟 秦昊    "
      ]
     },
     "metadata": {},
     "output_type": "display_data"
    }
   ],
   "source": [
    "tv_data_actor_value<-tv_data_filter_final %>% select(ID,Title,Year,Value,Actor)\n",
    "head(tv_data_actor_value)"
   ]
  },
  {
   "cell_type": "code",
   "execution_count": 60,
   "metadata": {
    "vscode": {
     "languageId": "r"
    }
   },
   "outputs": [
    {
     "name": "stderr",
     "output_type": "stream",
     "text": [
      "Warning message:\n",
      "\"\u001b[1m\u001b[22mExpected 3 pieces. Additional pieces discarded in 1 rows [21].\"\n"
     ]
    },
    {
     "name": "stderr",
     "output_type": "stream",
     "text": [
      "Warning message:\n",
      "\"\u001b[1m\u001b[22mExpected 3 pieces. Additional pieces discarded in 1 rows [21].\"\n"
     ]
    },
    {
     "data": {
      "text/html": [
       "<table class=\"dataframe\">\n",
       "<caption>A tibble: 20 × 2</caption>\n",
       "<thead>\n",
       "\t<tr><th scope=col>Actor</th><th scope=col>mean_value</th></tr>\n",
       "\t<tr><th scope=col>&lt;chr&gt;</th><th scope=col>&lt;dbl&gt;</th></tr>\n",
       "</thead>\n",
       "<tbody>\n",
       "\t<tr><td>黄志忠  </td><td>9.80</td></tr>\n",
       "\t<tr><td>欧阳奋强</td><td>9.70</td></tr>\n",
       "\t<tr><td>迟重瑞  </td><td>9.70</td></tr>\n",
       "\t<tr><td>陈晓旭  </td><td>9.70</td></tr>\n",
       "\t<tr><td>山新    </td><td>9.60</td></tr>\n",
       "\t<tr><td>段奕宏  </td><td>9.60</td></tr>\n",
       "\t<tr><td>王冰    </td><td>9.60</td></tr>\n",
       "\t<tr><td>皇贞季  </td><td>9.60</td></tr>\n",
       "\t<tr><td>鲍国安  </td><td>9.60</td></tr>\n",
       "\t<tr><td>何政军  </td><td>9.50</td></tr>\n",
       "\t<tr><td>唐国强  </td><td>9.50</td></tr>\n",
       "\t<tr><td>王宝强  </td><td>9.50</td></tr>\n",
       "\t<tr><td>陈思诚  </td><td>9.50</td></tr>\n",
       "\t<tr><td>刘佩琦  </td><td>9.40</td></tr>\n",
       "\t<tr><td>文兴宇  </td><td>9.40</td></tr>\n",
       "\t<tr><td>李幼斌  </td><td>9.40</td></tr>\n",
       "\t<tr><td>范伟    </td><td>9.40</td></tr>\n",
       "\t<tr><td>六小龄童</td><td>9.40</td></tr>\n",
       "\t<tr><td>温升豪  </td><td>9.35</td></tr>\n",
       "\t<tr><td>吕中    </td><td>9.35</td></tr>\n",
       "</tbody>\n",
       "</table>\n"
      ],
      "text/latex": [
       "A tibble: 20 × 2\n",
       "\\begin{tabular}{ll}\n",
       " Actor & mean\\_value\\\\\n",
       " <chr> & <dbl>\\\\\n",
       "\\hline\n",
       "\t 黄志忠   & 9.80\\\\\n",
       "\t 欧阳奋强 & 9.70\\\\\n",
       "\t 迟重瑞   & 9.70\\\\\n",
       "\t 陈晓旭   & 9.70\\\\\n",
       "\t 山新     & 9.60\\\\\n",
       "\t 段奕宏   & 9.60\\\\\n",
       "\t 王冰     & 9.60\\\\\n",
       "\t 皇贞季   & 9.60\\\\\n",
       "\t 鲍国安   & 9.60\\\\\n",
       "\t 何政军   & 9.50\\\\\n",
       "\t 唐国强   & 9.50\\\\\n",
       "\t 王宝强   & 9.50\\\\\n",
       "\t 陈思诚   & 9.50\\\\\n",
       "\t 刘佩琦   & 9.40\\\\\n",
       "\t 文兴宇   & 9.40\\\\\n",
       "\t 李幼斌   & 9.40\\\\\n",
       "\t 范伟     & 9.40\\\\\n",
       "\t 六小龄童 & 9.40\\\\\n",
       "\t 温升豪   & 9.35\\\\\n",
       "\t 吕中     & 9.35\\\\\n",
       "\\end{tabular}\n"
      ],
      "text/markdown": [
       "\n",
       "A tibble: 20 × 2\n",
       "\n",
       "| Actor &lt;chr&gt; | mean_value &lt;dbl&gt; |\n",
       "|---|---|\n",
       "| 黄志忠   | 9.80 |\n",
       "| 欧阳奋强 | 9.70 |\n",
       "| 迟重瑞   | 9.70 |\n",
       "| 陈晓旭   | 9.70 |\n",
       "| 山新     | 9.60 |\n",
       "| 段奕宏   | 9.60 |\n",
       "| 王冰     | 9.60 |\n",
       "| 皇贞季   | 9.60 |\n",
       "| 鲍国安   | 9.60 |\n",
       "| 何政军   | 9.50 |\n",
       "| 唐国强   | 9.50 |\n",
       "| 王宝强   | 9.50 |\n",
       "| 陈思诚   | 9.50 |\n",
       "| 刘佩琦   | 9.40 |\n",
       "| 文兴宇   | 9.40 |\n",
       "| 李幼斌   | 9.40 |\n",
       "| 范伟     | 9.40 |\n",
       "| 六小龄童 | 9.40 |\n",
       "| 温升豪   | 9.35 |\n",
       "| 吕中     | 9.35 |\n",
       "\n"
      ],
      "text/plain": [
       "   Actor    mean_value\n",
       "1  黄志忠   9.80      \n",
       "2  欧阳奋强 9.70      \n",
       "3  迟重瑞   9.70      \n",
       "4  陈晓旭   9.70      \n",
       "5  山新     9.60      \n",
       "6  段奕宏   9.60      \n",
       "7  王冰     9.60      \n",
       "8  皇贞季   9.60      \n",
       "9  鲍国安   9.60      \n",
       "10 何政军   9.50      \n",
       "11 唐国强   9.50      \n",
       "12 王宝强   9.50      \n",
       "13 陈思诚   9.50      \n",
       "14 刘佩琦   9.40      \n",
       "15 文兴宇   9.40      \n",
       "16 李幼斌   9.40      \n",
       "17 范伟     9.40      \n",
       "18 六小龄童 9.40      \n",
       "19 温升豪   9.35      \n",
       "20 吕中     9.35      "
      ]
     },
     "metadata": {},
     "output_type": "display_data"
    }
   ],
   "source": [
    "#经典电视剧评分太高，\n",
    "act1<-tv_data_actor_value %>% select(Value,Actor)  %>% separate(Actor, c(\"Actor1\", \"Actor2\",'Actor3'),sep = ' ') %>% select(Value,Actor2) %>% rename(Actor=Actor2)\n",
    "act2<-tv_data_actor_value %>% select(Value,Actor)  %>% separate(Actor, c(\"Actor1\", \"Actor2\",'Actor3'),sep = ' ') %>% select(Value,Actor3) %>% rename(Actor=Actor3)\n",
    "act<-bind_rows(act1,act2)\n",
    "#计算演员的平均分\n",
    "act %>% group_by(Actor) %>% summarise(mean_value=mean(Value,na.rm = T)) %>% arrange(desc(mean_value)) %>% head(20)"
   ]
  },
  {
   "cell_type": "code",
   "execution_count": null,
   "metadata": {
    "vscode": {
     "languageId": "r"
    }
   },
   "outputs": [],
   "source": []
  }
 ],
 "metadata": {
  "kernelspec": {
   "display_name": "R",
   "language": "R",
   "name": "ir"
  },
  "language_info": {
   "codemirror_mode": "r",
   "file_extension": ".r",
   "mimetype": "text/x-r-source",
   "name": "R",
   "pygments_lexer": "r",
   "version": "4.3.1"
  }
 },
 "nbformat": 4,
 "nbformat_minor": 2
}
