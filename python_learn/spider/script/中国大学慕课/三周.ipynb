{
 "cells": [
  {
   "cell_type": "markdown",
   "metadata": {},
   "source": [
    "### zheng则表达式\n",
    "regular expression regex RE\n",
    "语法：\n",
    "\n",
    "正则表达式是由字符和操作符构成的\n",
    "|操作符|说明|实例|\n",
    "|--|--|--|\n",
    "|.|表示任何单个字符|\n",
    "|[   ]|字符集，对单个字符给出取值范围|[abc]表示a、b、c|"
   ]
  },
  {
   "cell_type": "markdown",
   "metadata": {},
   "source": [
    "### 正则表达式的表示类型\n",
    "1. raw string类型（原生字符串类型）\n",
    "   1. re库采用raw string类型表示正则表达式，表示为r'text',raw string是不包括转义符的字符串\n",
    "2. string类型，更加繁琐\n",
    "### re库主要功能函数\n",
    "re.search():在一个字符串中搜索匹配正则表达式的第一个位置，返回match对象\n",
    "\n",
    "re.match():从一个字符串的开始位置起匹配正则表达式，返回match对象\n",
    "\n",
    "re.findall():搜索字符串，以列表类型返回全部能匹配的子串\n",
    "\n",
    "re.split():将一个字符串按照正则表达式匹配结果进行分割，返回列表类型\n",
    "```\n",
    "re.split(pattern,string,maxsplit=0,flags=0)\n",
    "#maxsplit:最大分割数，剩余部分作为最后一个元素输出\n",
    "```\n",
    "re.finditer():搜索字符串，返回一个匹配结果的迭代类型，每个迭代元素是match对象\n",
    "\n",
    "re.sub():在一个字符串中替换所有匹配正则表达式的子串，返回替换后的字符串"
   ]
  },
  {
   "cell_type": "code",
   "execution_count": 1,
   "metadata": {},
   "outputs": [
    {
     "name": "stdout",
     "output_type": "stream",
     "text": [
      "100081\n"
     ]
    }
   ],
   "source": [
    "#re.search(pattern, string, flags=0)\n",
    "#flgs\n",
    "    #re.I 忽略大小写\n",
    "    # re.M 正则表达式中的^操作符能够将给定字符串的每行当作匹配开始\n",
    "    # re.S #使.匹配包括换行在内的所有字符（在默认情况下匹配除换行外的所有字符）\n",
    "import re\n",
    "match=re.search(r'[1-9]\\d{5}','BIT 100081')\n",
    "if match:\n",
    "    print(match.group(0))"
   ]
  },
  {
   "cell_type": "code",
   "execution_count": 3,
   "metadata": {},
   "outputs": [
    {
     "ename": "AttributeError",
     "evalue": "'NoneType' object has no attribute 'group'",
     "output_type": "error",
     "traceback": [
      "\u001b[1;31m---------------------------------------------------------------------------\u001b[0m",
      "\u001b[1;31mAttributeError\u001b[0m                            Traceback (most recent call last)",
      "Cell \u001b[1;32mIn[3], line 6\u001b[0m\n\u001b[0;32m      3\u001b[0m match\u001b[39m=\u001b[39mre\u001b[39m.\u001b[39mmatch(\u001b[39mr\u001b[39m\u001b[39m'\u001b[39m\u001b[39m[1-9]\u001b[39m\u001b[39m\\\u001b[39m\u001b[39md\u001b[39m\u001b[39m{5}\u001b[39;00m\u001b[39m'\u001b[39m,\u001b[39m'\u001b[39m\u001b[39mBIT 100081\u001b[39m\u001b[39m'\u001b[39m)\n\u001b[0;32m      4\u001b[0m \u001b[39m# if match:\u001b[39;00m\n\u001b[0;32m      5\u001b[0m \u001b[39m#     print(match.group(0))\u001b[39;00m\n\u001b[1;32m----> 6\u001b[0m \u001b[39mmatch\u001b[39;49;00m\u001b[39m.\u001b[39;49mgroup(\u001b[39m0\u001b[39m)\n",
      "\u001b[1;31mAttributeError\u001b[0m: 'NoneType' object has no attribute 'group'"
     ]
    }
   ],
   "source": [
    "# re.match(pattern,string,flags=0)\n",
    "\n",
    "match=re.match(r'[1-9]\\d{5}','BIT 100081')\n",
    "# if match:\n",
    "#     print(match.group(0))\n",
    "match.group(0)"
   ]
  },
  {
   "cell_type": "code",
   "execution_count": 4,
   "metadata": {},
   "outputs": [
    {
     "name": "stdout",
     "output_type": "stream",
     "text": [
      "100081\n"
     ]
    }
   ],
   "source": [
    "match=re.match(r'[1-9]\\d{5}','100081 BIT')\n",
    "if match:\n",
    "    print(match.group(0))"
   ]
  }
 ],
 "metadata": {
  "kernelspec": {
   "display_name": "Python 3",
   "language": "python",
   "name": "python3"
  },
  "language_info": {
   "codemirror_mode": {
    "name": "ipython",
    "version": 3
   },
   "file_extension": ".py",
   "mimetype": "text/x-python",
   "name": "python",
   "nbconvert_exporter": "python",
   "pygments_lexer": "ipython3",
   "version": "3.11.4"
  },
  "orig_nbformat": 4
 },
 "nbformat": 4,
 "nbformat_minor": 2
}
