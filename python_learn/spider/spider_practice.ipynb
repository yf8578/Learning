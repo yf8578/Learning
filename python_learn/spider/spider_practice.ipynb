{
 "cells": [
  {
   "cell_type": "markdown",
   "metadata": {},
   "source": [
    "### 中国大学排名\n",
    "http://www.chinaxy.com/2022index/news/news.jsp?information_id=1930 爬取该网站的信息\n",
    "1. 从网络上获取大学排名页面内容\n",
    "2. 提取网页中信息到合适数据结构中\n",
    "3. 利用数据结构展示并输出结果\n",
    "根据以上目的，设计三个结构\n",
    "getHTMLText()函数从网络上获取大学排名网页内同\n",
    "fillUnivList()提取网页中信息到合适的数据结构中\n",
    "printUnivList()利用数据结构展示并输出结果"
   ]
  },
  {
   "cell_type": "code",
   "execution_count": 24,
   "metadata": {},
   "outputs": [
    {
     "name": "stdout",
     "output_type": "stream",
     "text": [
      "200\n",
      "step1\n",
      "全国排名 \t　　　学校名称　　　\t　总分　\t星级排名\n",
      "  1  \t　　　北京大学　　　\t100.00\t8★\n",
      "  2  \t　　　清华大学　　　\t99.84\t8★\n",
      "  3  \t　中国科学院大学　　\t87.00\t8★\n",
      "  3  \t　　上海交通大学　　\t80.25\t8★\n",
      "  4  \t　　　浙江大学　　　\t80.21\t8★\n",
      "  5  \t　　　武汉大学　　　\t77.59\t8★\n",
      "  6  \t　　　南京大学　　　\t77.52\t8★\n",
      "  6  \t　　　复旦大学　　　\t77.52\t8★\n",
      "  8  \t　中国科学技术大学　\t76.78\t8★\n",
      "  9  \t　　华中科技大学　　\t76.38\t7★\n",
      " 10  \t　　中国人民大学　　\t73.75\t8★\n",
      " 10  \t　　　天津大学　　　\t73.75\t7★\n",
      " 10  \t　　北京师范大学　　\t73.73\t7★\n",
      " 12  \t　　西安交通大学　　\t73.69\t7★\n",
      " 13  \t　　　吉林大学　　　\t73.35\t7★\n",
      " 14  \t　　　山东大学　　　\t72.78\t7★\n",
      " 14  \t　　国防科技大学　　\t72.78\t8★\n",
      " 15  \t　　　中山大学　　　\t72.68\t7★\n",
      " 16  \t　　　南开大学　　　\t72.53\t7★\n",
      " 17  \t　哈尔滨工业大学　　\t72.31\t7★\n",
      "Suc20\n"
     ]
    }
   ],
   "source": [
    "import requests\n",
    "from bs4 import BeautifulSoup\n",
    "import bs4\n",
    "\n",
    "def getHTMLText(url):  # 访问网址\n",
    "    try:\n",
    "        r = requests.get(url, timeout=30)\n",
    "        r.raise_for_status()  # 如果状态不是200，引发HTTPError异常\n",
    "        r.encoding = r.apparent_encoding\n",
    "        print(r.status_code)\n",
    "        return r.text\n",
    "    except:\n",
    "        return \"wrong\"\n",
    "\n",
    "def fillUnivList(ulist, html):  # 获取关键信息，添加到列表中\n",
    "    soup = BeautifulSoup(html, \"html.parser\")\n",
    "    # text = soup.tbody.tr.td.p\n",
    "    # print(text)\n",
    "    for tr in soup.find(\"tbody\").children:\n",
    "        # print(tr)\n",
    "    #     print(\"next line\")\n",
    "        # print(tr)\n",
    "        if isinstance(tr, bs4.element.Tag):  # 因为标签中会存在字符串，需要过滤掉非标签类型的其他信息\n",
    "            td = tr(\"td\")\n",
    "            # print(td[1].p.string)\n",
    "            # print(t)\n",
    "            ulist.append([td[0].p.string,td[1].p.string,td[2].p.string,td[3].p.string])\n",
    "\n",
    "def printUnivList(ulist, num):\n",
    "    # print(\"{:^10}\\t{:^6}\\t{:^10}\".format(\"排名\", \"学校名称\", \"总分\"))\n",
    "    for i in range(num):\n",
    "        u = ulist[i]\n",
    "        # print(u)\n",
    "        # print(\"{:^10}\\t{:^6}\\t{:^10}\\t{:^6}\".format(u[0], u[1], u[2], u[3]))#这样子中文对齐不好看，中文字符不够宽时，系统默认采用西文字符进行填充\n",
    "        #中文字符的空格填充chr(12288)\n",
    "        tplt=\"{0:^5}\\t{1:{4}^10}\\t{2:{4}^4}\\t{3:{4}^2}\"\n",
    "        print(tplt.format(u[0], u[1], u[2], u[3], chr(12288)))\n",
    "    print(\"Suc\" + str(num-1))\n",
    "\n",
    "\n",
    "def main():\n",
    "    unifo = []\n",
    "    url = r\"http://www.chinaxy.com/2022index/news/news.jsp?information_id=1930\"\n",
    "    html = getHTMLText(url)\n",
    "    print(\"step1\")\n",
    "    # print(html)\n",
    "    fillUnivList(unifo, html)\n",
    "    printUnivList(unifo, 21)  # get 20 universities\n",
    "\n",
    "if __name__ == '__main__':\n",
    "    t = main()"
   ]
  }
 ],
 "metadata": {
  "kernelspec": {
   "display_name": "pachong",
   "language": "python",
   "name": "python3"
  },
  "language_info": {
   "codemirror_mode": {
    "name": "ipython",
    "version": 3
   },
   "file_extension": ".py",
   "mimetype": "text/x-python",
   "name": "python",
   "nbconvert_exporter": "python",
   "pygments_lexer": "ipython3",
   "version": "3.11.4"
  },
  "orig_nbformat": 4
 },
 "nbformat": 4,
 "nbformat_minor": 2
}
