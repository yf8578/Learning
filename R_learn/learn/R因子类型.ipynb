{
 "cells": [
  {
   "cell_type": "markdown",
   "metadata": {},
   "source": [
    "# R因子类型"
   ]
  },
  {
   "cell_type": "code",
   "execution_count": 6,
   "metadata": {
    "vscode": {
     "languageId": "r"
    }
   },
   "outputs": [
    {
     "data": {
      "text/html": [
       "<style>\n",
       ".list-inline {list-style: none; margin:0; padding: 0}\n",
       ".list-inline>li {display: inline-block}\n",
       ".list-inline>li:not(:last-child)::after {content: \"\\00b7\"; padding: 0 .5ex}\n",
       "</style>\n",
       "<ol class=list-inline><li>'男'</li><li>'女'</li><li>'男'</li><li>'男'</li><li>'女'</li></ol>\n"
      ],
      "text/latex": [
       "\\begin{enumerate*}\n",
       "\\item '男'\n",
       "\\item '女'\n",
       "\\item '男'\n",
       "\\item '男'\n",
       "\\item '女'\n",
       "\\end{enumerate*}\n"
      ],
      "text/markdown": [
       "1. '男'\n",
       "2. '女'\n",
       "3. '男'\n",
       "4. '男'\n",
       "5. '女'\n",
       "\n",
       "\n"
      ],
      "text/plain": [
       "[1] \"男\" \"女\" \"男\" \"男\" \"女\""
      ]
     },
     "metadata": {},
     "output_type": "display_data"
    },
    {
     "data": {
      "text/html": [
       "<style>\n",
       ".list-inline {list-style: none; margin:0; padding: 0}\n",
       ".list-inline>li {display: inline-block}\n",
       ".list-inline>li:not(:last-child)::after {content: \"\\00b7\"; padding: 0 .5ex}\n",
       "</style>\n",
       "<ol class=list-inline><li>男</li><li>女</li><li>男</li><li>男</li><li>女</li></ol>\n",
       "\n",
       "<details>\n",
       "\t<summary style=display:list-item;cursor:pointer>\n",
       "\t\t<strong>Levels</strong>:\n",
       "\t</summary>\n",
       "\t<style>\n",
       "\t.list-inline {list-style: none; margin:0; padding: 0}\n",
       "\t.list-inline>li {display: inline-block}\n",
       "\t.list-inline>li:not(:last-child)::after {content: \"\\00b7\"; padding: 0 .5ex}\n",
       "\t</style>\n",
       "\t<ol class=list-inline><li>'男'</li><li>'女'</li></ol>\n",
       "</details>"
      ],
      "text/latex": [
       "\\begin{enumerate*}\n",
       "\\item 男\n",
       "\\item 女\n",
       "\\item 男\n",
       "\\item 男\n",
       "\\item 女\n",
       "\\end{enumerate*}\n",
       "\n",
       "\\emph{Levels}: \\begin{enumerate*}\n",
       "\\item '男'\n",
       "\\item '女'\n",
       "\\end{enumerate*}\n"
      ],
      "text/markdown": [
       "1. 男\n",
       "2. 女\n",
       "3. 男\n",
       "4. 男\n",
       "5. 女\n",
       "\n",
       "\n",
       "\n",
       "**Levels**: 1. '男'\n",
       "2. '女'\n",
       "\n",
       "\n"
      ],
      "text/plain": [
       "[1] 男 女 男 男 女\n",
       "Levels: 男 女"
      ]
     },
     "metadata": {},
     "output_type": "display_data"
    },
    {
     "data": {
      "text/html": [
       "<dl>\n",
       "\t<dt>$levels</dt>\n",
       "\t\t<dd><style>\n",
       ".list-inline {list-style: none; margin:0; padding: 0}\n",
       ".list-inline>li {display: inline-block}\n",
       ".list-inline>li:not(:last-child)::after {content: \"\\00b7\"; padding: 0 .5ex}\n",
       "</style>\n",
       "<ol class=list-inline><li>'男'</li><li>'女'</li></ol>\n",
       "</dd>\n",
       "\t<dt>$class</dt>\n",
       "\t\t<dd>'factor'</dd>\n",
       "</dl>\n"
      ],
      "text/latex": [
       "\\begin{description}\n",
       "\\item[\\$levels] \\begin{enumerate*}\n",
       "\\item '男'\n",
       "\\item '女'\n",
       "\\end{enumerate*}\n",
       "\n",
       "\\item[\\$class] 'factor'\n",
       "\\end{description}\n"
      ],
      "text/markdown": [
       "$levels\n",
       ":   1. '男'\n",
       "2. '女'\n",
       "\n",
       "\n",
       "\n",
       "$class\n",
       ":   'factor'\n",
       "\n",
       "\n"
      ],
      "text/plain": [
       "$levels\n",
       "[1] \"男\" \"女\"\n",
       "\n",
       "$class\n",
       "[1] \"factor\"\n"
      ]
     },
     "metadata": {},
     "output_type": "display_data"
    },
    {
     "data": {
      "text/html": [
       "<style>\n",
       ".list-inline {list-style: none; margin:0; padding: 0}\n",
       ".list-inline>li {display: inline-block}\n",
       ".list-inline>li:not(:last-child)::after {content: \"\\00b7\"; padding: 0 .5ex}\n",
       "</style>\n",
       "<ol class=list-inline><li>'男'</li><li>'女'</li></ol>\n"
      ],
      "text/latex": [
       "\\begin{enumerate*}\n",
       "\\item '男'\n",
       "\\item '女'\n",
       "\\end{enumerate*}\n"
      ],
      "text/markdown": [
       "1. '男'\n",
       "2. '女'\n",
       "\n",
       "\n"
      ],
      "text/plain": [
       "[1] \"男\" \"女\""
      ]
     },
     "metadata": {},
     "output_type": "display_data"
    }
   ],
   "source": [
    "#因子代表数据中分类变量，性别，职业，省份等，有序因子代表有序量度，如打分结果，疾病严重程度等\n",
    "x <- c(\"男\", \"女\", \"男\", \"男\",  \"女\")\n",
    "x\n",
    "sex <- factor(x)\n",
    "sex\n",
    "attributes(sex)\n",
    "levels(sex)"
   ]
  },
  {
   "cell_type": "markdown",
   "metadata": {},
   "source": [
    "事实上， read.csv()函数的默认操作会把输入文件的字符型列自动转换成因子， 这对于性别、职业、地名这样的列是合适的， 但是对于姓名、日期、详细地址这样的列则不合适。 所以，在read.csv()调用中经常加选项stringsAsFactors=FALSE选项禁止这样的自动转换，还可以用colClasses选项逐个指定每列的类型。 建议改用<b>readr包的read_csv()函数</b>， 这个函数读入CSV时不自动转换因子， 生成data.frame的替代类型tibble。"
   ]
  },
  {
   "cell_type": "code",
   "execution_count": 8,
   "metadata": {
    "vscode": {
     "languageId": "r"
    }
   },
   "outputs": [
    {
     "data": {
      "text/html": [
       "<style>\n",
       ".list-inline {list-style: none; margin:0; padding: 0}\n",
       ".list-inline>li {display: inline-block}\n",
       ".list-inline>li:not(:last-child)::after {content: \"\\00b7\"; padding: 0 .5ex}\n",
       "</style>\n",
       "<ol class=list-inline><li>1</li><li>2</li><li>1</li><li>1</li><li>2</li></ol>\n"
      ],
      "text/latex": [
       "\\begin{enumerate*}\n",
       "\\item 1\n",
       "\\item 2\n",
       "\\item 1\n",
       "\\item 1\n",
       "\\item 2\n",
       "\\end{enumerate*}\n"
      ],
      "text/markdown": [
       "1. 1\n",
       "2. 2\n",
       "3. 1\n",
       "4. 1\n",
       "5. 2\n",
       "\n",
       "\n"
      ],
      "text/plain": [
       "[1] 1 2 1 1 2"
      ]
     },
     "metadata": {},
     "output_type": "display_data"
    },
    {
     "data": {
      "text/html": [
       "<style>\n",
       ".list-inline {list-style: none; margin:0; padding: 0}\n",
       ".list-inline>li {display: inline-block}\n",
       ".list-inline>li:not(:last-child)::after {content: \"\\00b7\"; padding: 0 .5ex}\n",
       "</style>\n",
       "<ol class=list-inline><li>男</li><li>女</li><li>男</li><li>男</li><li>女</li></ol>\n",
       "\n",
       "<details>\n",
       "\t<summary style=display:list-item;cursor:pointer>\n",
       "\t\t<strong>Levels</strong>:\n",
       "\t</summary>\n",
       "\t<style>\n",
       "\t.list-inline {list-style: none; margin:0; padding: 0}\n",
       "\t.list-inline>li {display: inline-block}\n",
       "\t.list-inline>li:not(:last-child)::after {content: \"\\00b7\"; padding: 0 .5ex}\n",
       "\t</style>\n",
       "\t<ol class=list-inline><li>'男'</li><li>'女'</li></ol>\n",
       "</details>"
      ],
      "text/latex": [
       "\\begin{enumerate*}\n",
       "\\item 男\n",
       "\\item 女\n",
       "\\item 男\n",
       "\\item 男\n",
       "\\item 女\n",
       "\\end{enumerate*}\n",
       "\n",
       "\\emph{Levels}: \\begin{enumerate*}\n",
       "\\item '男'\n",
       "\\item '女'\n",
       "\\end{enumerate*}\n"
      ],
      "text/markdown": [
       "1. 男\n",
       "2. 女\n",
       "3. 男\n",
       "4. 男\n",
       "5. 女\n",
       "\n",
       "\n",
       "\n",
       "**Levels**: 1. '男'\n",
       "2. '女'\n",
       "\n",
       "\n"
      ],
      "text/plain": [
       "[1] 男 女 男 男 女\n",
       "Levels: 男 女"
      ]
     },
     "metadata": {},
     "output_type": "display_data"
    },
    {
     "data": {
      "text/html": [
       "<style>\n",
       ".list-inline {list-style: none; margin:0; padding: 0}\n",
       ".list-inline>li {display: inline-block}\n",
       ".list-inline>li:not(:last-child)::after {content: \"\\00b7\"; padding: 0 .5ex}\n",
       "</style>\n",
       "<ol class=list-inline><li>'男'</li><li>'女'</li><li>'男'</li><li>'男'</li><li>'女'</li></ol>\n"
      ],
      "text/latex": [
       "\\begin{enumerate*}\n",
       "\\item '男'\n",
       "\\item '女'\n",
       "\\item '男'\n",
       "\\item '男'\n",
       "\\item '女'\n",
       "\\end{enumerate*}\n"
      ],
      "text/markdown": [
       "1. '男'\n",
       "2. '女'\n",
       "3. '男'\n",
       "4. '男'\n",
       "5. '女'\n",
       "\n",
       "\n"
      ],
      "text/plain": [
       "[1] \"男\" \"女\" \"男\" \"男\" \"女\""
      ]
     },
     "metadata": {},
     "output_type": "display_data"
    }
   ],
   "source": [
    "# 用as.numeric()可以把因子转换为纯粹的整数值，如\n",
    "as.numeric(sex)\n",
    "#可见，因子实际保存为整数值，所以对因子进行一些字符型操作可能导致错误，使用as.character()可以把因子转换为字符型\n",
    "sex\n",
    "as.character(sex)"
   ]
  },
  {
   "cell_type": "code",
   "execution_count": 12,
   "metadata": {
    "vscode": {
     "languageId": "r"
    }
   },
   "outputs": [
    {
     "data": {
      "text/html": [
       "<strong>女:</strong> 2"
      ],
      "text/latex": [
       "\\textbf{女:} 2"
      ],
      "text/markdown": [
       "**女:** 2"
      ],
      "text/plain": [
       "女 \n",
       " 2 "
      ]
     },
     "metadata": {},
     "output_type": "display_data"
    }
   ],
   "source": [
    "table(sex)[2]"
   ]
  }
 ],
 "metadata": {
  "kernelspec": {
   "display_name": "R",
   "language": "R",
   "name": "ir"
  },
  "language_info": {
   "codemirror_mode": "r",
   "file_extension": ".r",
   "mimetype": "text/x-r-source",
   "name": "R",
   "pygments_lexer": "r",
   "version": "4.3.1"
  }
 },
 "nbformat": 4,
 "nbformat_minor": 2
}
