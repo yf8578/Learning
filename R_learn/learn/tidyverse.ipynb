{
 "cells": [
  {
   "cell_type": "code",
   "execution_count": 4,
   "metadata": {
    "vscode": {
     "languageId": "r"
    }
   },
   "outputs": [],
   "source": [
    "library(tidyverse)"
   ]
  },
  {
   "cell_type": "code",
   "execution_count": 28,
   "metadata": {
    "vscode": {
     "languageId": "r"
    }
   },
   "outputs": [
    {
     "name": "stderr",
     "output_type": "stream",
     "text": [
      "\u001b[1mRows: \u001b[22m\u001b[34m19\u001b[39m \u001b[1mColumns: \u001b[22m\u001b[34m5\u001b[39m\n"
     ]
    },
    {
     "name": "stderr",
     "output_type": "stream",
     "text": [
      "\u001b[36m──\u001b[39m \u001b[1mColumn specification\u001b[22m \u001b[36m────────────────────────────────────────────────────────\u001b[39m\n",
      "\u001b[1mDelimiter:\u001b[22m \",\"\n",
      "\u001b[31mchr\u001b[39m (2): name, sex\n",
      "\u001b[32mdbl\u001b[39m (3): age, height, weight\n",
      "\n",
      "\u001b[36mℹ\u001b[39m Use `spec()` to retrieve the full column specification for this data.\n",
      "\u001b[36mℹ\u001b[39m Specify the column types or set `show_col_types = FALSE` to quiet this message.\n"
     ]
    },
    {
     "data": {
      "text/html": [
       "<table class=\"dataframe\">\n",
       "<caption>A spec_tbl_df: 19 × 5</caption>\n",
       "<thead>\n",
       "\t<tr><th scope=col>name</th><th scope=col>sex</th><th scope=col>age</th><th scope=col>height</th><th scope=col>weight</th></tr>\n",
       "\t<tr><th scope=col>&lt;chr&gt;</th><th scope=col>&lt;chr&gt;</th><th scope=col>&lt;dbl&gt;</th><th scope=col>&lt;dbl&gt;</th><th scope=col>&lt;dbl&gt;</th></tr>\n",
       "</thead>\n",
       "<tbody>\n",
       "\t<tr><td>Alice  </td><td>F</td><td>13</td><td>56.5</td><td> 84.0</td></tr>\n",
       "\t<tr><td>Becka  </td><td>F</td><td>13</td><td>65.3</td><td> 98.0</td></tr>\n",
       "\t<tr><td>Gail   </td><td>F</td><td>14</td><td>64.3</td><td> 90.0</td></tr>\n",
       "\t<tr><td>Karen  </td><td>F</td><td>12</td><td>56.3</td><td> 77.0</td></tr>\n",
       "\t<tr><td>Kathy  </td><td>F</td><td>12</td><td>59.8</td><td> 84.5</td></tr>\n",
       "\t<tr><td>Mary   </td><td>F</td><td>15</td><td>66.5</td><td>112.0</td></tr>\n",
       "\t<tr><td>Sandy  </td><td>F</td><td>11</td><td>51.3</td><td> 50.5</td></tr>\n",
       "\t<tr><td>Sharon </td><td>F</td><td>15</td><td>62.5</td><td>112.5</td></tr>\n",
       "\t<tr><td>Tammy  </td><td>F</td><td>14</td><td>62.8</td><td>102.5</td></tr>\n",
       "\t<tr><td>Alfred </td><td>M</td><td>14</td><td>69.0</td><td>112.5</td></tr>\n",
       "\t<tr><td>Duke   </td><td>M</td><td>14</td><td>63.5</td><td>102.5</td></tr>\n",
       "\t<tr><td>Guido  </td><td>M</td><td>15</td><td>67.0</td><td>133.0</td></tr>\n",
       "\t<tr><td>James  </td><td>M</td><td>12</td><td>57.3</td><td> 83.0</td></tr>\n",
       "\t<tr><td>Jeffrey</td><td>M</td><td>13</td><td>62.5</td><td> 84.0</td></tr>\n",
       "\t<tr><td>John   </td><td>M</td><td>12</td><td>59.0</td><td> 99.5</td></tr>\n",
       "\t<tr><td>Philip </td><td>M</td><td>16</td><td>72.0</td><td>150.0</td></tr>\n",
       "\t<tr><td>Robert </td><td>M</td><td>12</td><td>64.8</td><td>128.0</td></tr>\n",
       "\t<tr><td>Thomas </td><td>M</td><td>11</td><td>57.5</td><td> 85.0</td></tr>\n",
       "\t<tr><td>William</td><td>M</td><td>15</td><td>66.5</td><td>112.0</td></tr>\n",
       "</tbody>\n",
       "</table>\n"
      ],
      "text/latex": [
       "A spec\\_tbl\\_df: 19 × 5\n",
       "\\begin{tabular}{lllll}\n",
       " name & sex & age & height & weight\\\\\n",
       " <chr> & <chr> & <dbl> & <dbl> & <dbl>\\\\\n",
       "\\hline\n",
       "\t Alice   & F & 13 & 56.5 &  84.0\\\\\n",
       "\t Becka   & F & 13 & 65.3 &  98.0\\\\\n",
       "\t Gail    & F & 14 & 64.3 &  90.0\\\\\n",
       "\t Karen   & F & 12 & 56.3 &  77.0\\\\\n",
       "\t Kathy   & F & 12 & 59.8 &  84.5\\\\\n",
       "\t Mary    & F & 15 & 66.5 & 112.0\\\\\n",
       "\t Sandy   & F & 11 & 51.3 &  50.5\\\\\n",
       "\t Sharon  & F & 15 & 62.5 & 112.5\\\\\n",
       "\t Tammy   & F & 14 & 62.8 & 102.5\\\\\n",
       "\t Alfred  & M & 14 & 69.0 & 112.5\\\\\n",
       "\t Duke    & M & 14 & 63.5 & 102.5\\\\\n",
       "\t Guido   & M & 15 & 67.0 & 133.0\\\\\n",
       "\t James   & M & 12 & 57.3 &  83.0\\\\\n",
       "\t Jeffrey & M & 13 & 62.5 &  84.0\\\\\n",
       "\t John    & M & 12 & 59.0 &  99.5\\\\\n",
       "\t Philip  & M & 16 & 72.0 & 150.0\\\\\n",
       "\t Robert  & M & 12 & 64.8 & 128.0\\\\\n",
       "\t Thomas  & M & 11 & 57.5 &  85.0\\\\\n",
       "\t William & M & 15 & 66.5 & 112.0\\\\\n",
       "\\end{tabular}\n"
      ],
      "text/markdown": [
       "\n",
       "A spec_tbl_df: 19 × 5\n",
       "\n",
       "| name &lt;chr&gt; | sex &lt;chr&gt; | age &lt;dbl&gt; | height &lt;dbl&gt; | weight &lt;dbl&gt; |\n",
       "|---|---|---|---|---|\n",
       "| Alice   | F | 13 | 56.5 |  84.0 |\n",
       "| Becka   | F | 13 | 65.3 |  98.0 |\n",
       "| Gail    | F | 14 | 64.3 |  90.0 |\n",
       "| Karen   | F | 12 | 56.3 |  77.0 |\n",
       "| Kathy   | F | 12 | 59.8 |  84.5 |\n",
       "| Mary    | F | 15 | 66.5 | 112.0 |\n",
       "| Sandy   | F | 11 | 51.3 |  50.5 |\n",
       "| Sharon  | F | 15 | 62.5 | 112.5 |\n",
       "| Tammy   | F | 14 | 62.8 | 102.5 |\n",
       "| Alfred  | M | 14 | 69.0 | 112.5 |\n",
       "| Duke    | M | 14 | 63.5 | 102.5 |\n",
       "| Guido   | M | 15 | 67.0 | 133.0 |\n",
       "| James   | M | 12 | 57.3 |  83.0 |\n",
       "| Jeffrey | M | 13 | 62.5 |  84.0 |\n",
       "| John    | M | 12 | 59.0 |  99.5 |\n",
       "| Philip  | M | 16 | 72.0 | 150.0 |\n",
       "| Robert  | M | 12 | 64.8 | 128.0 |\n",
       "| Thomas  | M | 11 | 57.5 |  85.0 |\n",
       "| William | M | 15 | 66.5 | 112.0 |\n",
       "\n"
      ],
      "text/plain": [
       "   name    sex age height weight\n",
       "1  Alice   F   13  56.5    84.0 \n",
       "2  Becka   F   13  65.3    98.0 \n",
       "3  Gail    F   14  64.3    90.0 \n",
       "4  Karen   F   12  56.3    77.0 \n",
       "5  Kathy   F   12  59.8    84.5 \n",
       "6  Mary    F   15  66.5   112.0 \n",
       "7  Sandy   F   11  51.3    50.5 \n",
       "8  Sharon  F   15  62.5   112.5 \n",
       "9  Tammy   F   14  62.8   102.5 \n",
       "10 Alfred  M   14  69.0   112.5 \n",
       "11 Duke    M   14  63.5   102.5 \n",
       "12 Guido   M   15  67.0   133.0 \n",
       "13 James   M   12  57.3    83.0 \n",
       "14 Jeffrey M   13  62.5    84.0 \n",
       "15 John    M   12  59.0    99.5 \n",
       "16 Philip  M   16  72.0   150.0 \n",
       "17 Robert  M   12  64.8   128.0 \n",
       "18 Thomas  M   11  57.5    85.0 \n",
       "19 William M   15  66.5   112.0 "
      ]
     },
     "metadata": {},
     "output_type": "display_data"
    }
   ],
   "source": [
    "d.class<-read_csv('data/class.csv')\n",
    "d.class"
   ]
  },
  {
   "cell_type": "code",
   "execution_count": 5,
   "metadata": {
    "vscode": {
     "languageId": "r"
    }
   },
   "outputs": [
    {
     "name": "stderr",
     "output_type": "stream",
     "text": [
      "\u001b[1mRows: \u001b[22m\u001b[34m3\u001b[39m \u001b[1mColumns: \u001b[22m\u001b[34m2\u001b[39m\n",
      "\u001b[36m──\u001b[39m \u001b[1mColumn specification\u001b[22m \u001b[36m────────────────────────────────────────────────────────\u001b[39m\n",
      "\u001b[1mDelimiter:\u001b[22m \",\"\n",
      "\u001b[31mchr\u001b[39m (1): succ/total\n",
      "\u001b[32mdbl\u001b[39m (1): testid\n",
      "\n",
      "\u001b[36mℹ\u001b[39m Use `spec()` to retrieve the full column specification for this data.\n",
      "\u001b[36mℹ\u001b[39m Specify the column types or set `show_col_types = FALSE` to quiet this message.\n"
     ]
    }
   ],
   "source": [
    "d.sep <- read_csv(\n",
    "\"testid, succ/total\n",
    "1, 1/10\n",
    "2, 3/5\n",
    "3, 2/8\n",
    "\")"
   ]
  },
  {
   "cell_type": "code",
   "execution_count": 8,
   "metadata": {
    "vscode": {
     "languageId": "r"
    }
   },
   "outputs": [
    {
     "data": {
      "text/html": [
       "<table class=\"dataframe\">\n",
       "<caption>A tibble: 3 × 3</caption>\n",
       "<thead>\n",
       "\t<tr><th scope=col>testid</th><th scope=col>succ</th><th scope=col>total</th></tr>\n",
       "\t<tr><th scope=col>&lt;dbl&gt;</th><th scope=col>&lt;int&gt;</th><th scope=col>&lt;int&gt;</th></tr>\n",
       "</thead>\n",
       "<tbody>\n",
       "\t<tr><td>1</td><td>1</td><td>10</td></tr>\n",
       "\t<tr><td>2</td><td>3</td><td> 5</td></tr>\n",
       "\t<tr><td>3</td><td>2</td><td> 8</td></tr>\n",
       "</tbody>\n",
       "</table>\n"
      ],
      "text/latex": [
       "A tibble: 3 × 3\n",
       "\\begin{tabular}{lll}\n",
       " testid & succ & total\\\\\n",
       " <dbl> & <int> & <int>\\\\\n",
       "\\hline\n",
       "\t 1 & 1 & 10\\\\\n",
       "\t 2 & 3 &  5\\\\\n",
       "\t 3 & 2 &  8\\\\\n",
       "\\end{tabular}\n"
      ],
      "text/markdown": [
       "\n",
       "A tibble: 3 × 3\n",
       "\n",
       "| testid &lt;dbl&gt; | succ &lt;int&gt; | total &lt;int&gt; |\n",
       "|---|---|---|\n",
       "| 1 | 1 | 10 |\n",
       "| 2 | 3 |  5 |\n",
       "| 3 | 2 |  8 |\n",
       "\n"
      ],
      "text/plain": [
       "  testid succ total\n",
       "1 1      1    10   \n",
       "2 2      3     5   \n",
       "3 3      2     8   "
      ]
     },
     "metadata": {},
     "output_type": "display_data"
    },
    {
     "data": {
      "text/html": [
       "<table class=\"dataframe\">\n",
       "<caption>A spec_tbl_df: 3 × 2</caption>\n",
       "<thead>\n",
       "\t<tr><th scope=col>testid</th><th scope=col>succ/total</th></tr>\n",
       "\t<tr><th scope=col>&lt;dbl&gt;</th><th scope=col>&lt;chr&gt;</th></tr>\n",
       "</thead>\n",
       "<tbody>\n",
       "\t<tr><td>1</td><td>1/10</td></tr>\n",
       "\t<tr><td>2</td><td>3/5 </td></tr>\n",
       "\t<tr><td>3</td><td>2/8 </td></tr>\n",
       "</tbody>\n",
       "</table>\n"
      ],
      "text/latex": [
       "A spec\\_tbl\\_df: 3 × 2\n",
       "\\begin{tabular}{ll}\n",
       " testid & succ/total\\\\\n",
       " <dbl> & <chr>\\\\\n",
       "\\hline\n",
       "\t 1 & 1/10\\\\\n",
       "\t 2 & 3/5 \\\\\n",
       "\t 3 & 2/8 \\\\\n",
       "\\end{tabular}\n"
      ],
      "text/markdown": [
       "\n",
       "A spec_tbl_df: 3 × 2\n",
       "\n",
       "| testid &lt;dbl&gt; | succ/total &lt;chr&gt; |\n",
       "|---|---|\n",
       "| 1 | 1/10 |\n",
       "| 2 | 3/5  |\n",
       "| 3 | 2/8  |\n",
       "\n"
      ],
      "text/plain": [
       "  testid succ/total\n",
       "1 1      1/10      \n",
       "2 2      3/5       \n",
       "3 3      2/8       "
      ]
     },
     "metadata": {},
     "output_type": "display_data"
    }
   ],
   "source": [
    "d.sep %>% separate(`succ/total`, c(\"succ\", \"total\"), sep = \"/\", convert = TRUE)\n",
    "d.sep"
   ]
  },
  {
   "cell_type": "code",
   "execution_count": 11,
   "metadata": {
    "vscode": {
     "languageId": "r"
    }
   },
   "outputs": [
    {
     "name": "stderr",
     "output_type": "stream",
     "text": [
      "\u001b[1mRows: \u001b[22m\u001b[34m4\u001b[39m \u001b[1mColumns: \u001b[22m\u001b[34m2\u001b[39m\n",
      "\u001b[36m──\u001b[39m \u001b[1mColumn specification\u001b[22m \u001b[36m────────────────────────────────────────────────────────\u001b[39m\n",
      "\u001b[1mDelimiter:\u001b[22m \",\"\n",
      "\u001b[31mchr\u001b[39m (1): var\n",
      "\u001b[32mdbl\u001b[39m (1): avg\n",
      "\n",
      "\u001b[36mℹ\u001b[39m Use `spec()` to retrieve the full column specification for this data.\n",
      "\u001b[36mℹ\u001b[39m Specify the column types or set `show_col_types = FALSE` to quiet this message.\n"
     ]
    },
    {
     "data": {
      "text/html": [
       "<table class=\"dataframe\">\n",
       "<caption>A spec_tbl_df: 4 × 2</caption>\n",
       "<thead>\n",
       "\t<tr><th scope=col>var</th><th scope=col>avg</th></tr>\n",
       "\t<tr><th scope=col>&lt;chr&gt;</th><th scope=col>&lt;dbl&gt;</th></tr>\n",
       "</thead>\n",
       "<tbody>\n",
       "\t<tr><td>male:systolicbp   </td><td>118</td></tr>\n",
       "\t<tr><td>male:diastolicbp  </td><td> 85</td></tr>\n",
       "\t<tr><td>female:systolicbp </td><td>115</td></tr>\n",
       "\t<tr><td>female:diastolicbp</td><td> 83</td></tr>\n",
       "</tbody>\n",
       "</table>\n"
      ],
      "text/latex": [
       "A spec\\_tbl\\_df: 4 × 2\n",
       "\\begin{tabular}{ll}\n",
       " var & avg\\\\\n",
       " <chr> & <dbl>\\\\\n",
       "\\hline\n",
       "\t male:systolicbp    & 118\\\\\n",
       "\t male:diastolicbp   &  85\\\\\n",
       "\t female:systolicbp  & 115\\\\\n",
       "\t female:diastolicbp &  83\\\\\n",
       "\\end{tabular}\n"
      ],
      "text/markdown": [
       "\n",
       "A spec_tbl_df: 4 × 2\n",
       "\n",
       "| var &lt;chr&gt; | avg &lt;dbl&gt; |\n",
       "|---|---|\n",
       "| male:systolicbp    | 118 |\n",
       "| male:diastolicbp   |  85 |\n",
       "| female:systolicbp  | 115 |\n",
       "| female:diastolicbp |  83 |\n",
       "\n"
      ],
      "text/plain": [
       "  var                avg\n",
       "1 male:systolicbp    118\n",
       "2 male:diastolicbp    85\n",
       "3 female:systolicbp  115\n",
       "4 female:diastolicbp  83"
      ]
     },
     "metadata": {},
     "output_type": "display_data"
    }
   ],
   "source": [
    "dbpa<-read_csv(\"var,avg\n",
    "male:systolicbp,118\n",
    "male:diastolicbp,85\n",
    "female:systolicbp,115\n",
    "female:diastolicbp,83\")\n",
    "dbpa"
   ]
  },
  {
   "cell_type": "code",
   "execution_count": 16,
   "metadata": {
    "vscode": {
     "languageId": "r"
    }
   },
   "outputs": [
    {
     "data": {
      "text/html": [
       "<table class=\"dataframe\">\n",
       "<caption>A tibble: 4 × 3</caption>\n",
       "<thead>\n",
       "\t<tr><th scope=col>sex</th><th scope=col>var</th><th scope=col>avg</th></tr>\n",
       "\t<tr><th scope=col>&lt;chr&gt;</th><th scope=col>&lt;chr&gt;</th><th scope=col>&lt;dbl&gt;</th></tr>\n",
       "</thead>\n",
       "<tbody>\n",
       "\t<tr><td>male  </td><td>systolicbp </td><td>118</td></tr>\n",
       "\t<tr><td>male  </td><td>diastolicbp</td><td> 85</td></tr>\n",
       "\t<tr><td>female</td><td>systolicbp </td><td>115</td></tr>\n",
       "\t<tr><td>female</td><td>diastolicbp</td><td> 83</td></tr>\n",
       "</tbody>\n",
       "</table>\n"
      ],
      "text/latex": [
       "A tibble: 4 × 3\n",
       "\\begin{tabular}{lll}\n",
       " sex & var & avg\\\\\n",
       " <chr> & <chr> & <dbl>\\\\\n",
       "\\hline\n",
       "\t male   & systolicbp  & 118\\\\\n",
       "\t male   & diastolicbp &  85\\\\\n",
       "\t female & systolicbp  & 115\\\\\n",
       "\t female & diastolicbp &  83\\\\\n",
       "\\end{tabular}\n"
      ],
      "text/markdown": [
       "\n",
       "A tibble: 4 × 3\n",
       "\n",
       "| sex &lt;chr&gt; | var &lt;chr&gt; | avg &lt;dbl&gt; |\n",
       "|---|---|---|\n",
       "| male   | systolicbp  | 118 |\n",
       "| male   | diastolicbp |  85 |\n",
       "| female | systolicbp  | 115 |\n",
       "| female | diastolicbp |  83 |\n",
       "\n"
      ],
      "text/plain": [
       "  sex    var         avg\n",
       "1 male   systolicbp  118\n",
       "2 male   diastolicbp  85\n",
       "3 female systolicbp  115\n",
       "4 female diastolicbp  83"
      ]
     },
     "metadata": {},
     "output_type": "display_data"
    },
    {
     "data": {
      "text/html": [
       "<table class=\"dataframe\">\n",
       "<caption>A tibble: 2 × 3</caption>\n",
       "<thead>\n",
       "\t<tr><th scope=col>sex</th><th scope=col>systolicbp</th><th scope=col>diastolicbp</th></tr>\n",
       "\t<tr><th scope=col>&lt;chr&gt;</th><th scope=col>&lt;dbl&gt;</th><th scope=col>&lt;dbl&gt;</th></tr>\n",
       "</thead>\n",
       "<tbody>\n",
       "\t<tr><td>male  </td><td>118</td><td>85</td></tr>\n",
       "\t<tr><td>female</td><td>115</td><td>83</td></tr>\n",
       "</tbody>\n",
       "</table>\n"
      ],
      "text/latex": [
       "A tibble: 2 × 3\n",
       "\\begin{tabular}{lll}\n",
       " sex & systolicbp & diastolicbp\\\\\n",
       " <chr> & <dbl> & <dbl>\\\\\n",
       "\\hline\n",
       "\t male   & 118 & 85\\\\\n",
       "\t female & 115 & 83\\\\\n",
       "\\end{tabular}\n"
      ],
      "text/markdown": [
       "\n",
       "A tibble: 2 × 3\n",
       "\n",
       "| sex &lt;chr&gt; | systolicbp &lt;dbl&gt; | diastolicbp &lt;dbl&gt; |\n",
       "|---|---|---|\n",
       "| male   | 118 | 85 |\n",
       "| female | 115 | 83 |\n",
       "\n"
      ],
      "text/plain": [
       "  sex    systolicbp diastolicbp\n",
       "1 male   118        85         \n",
       "2 female 115        83         "
      ]
     },
     "metadata": {},
     "output_type": "display_data"
    }
   ],
   "source": [
    "dbpa2 <-dbpa %>% separate(var,into = c('sex','var'),sep=':')\n",
    "dbpa2\n",
    "dbpa2 %>% pivot_wider(names_from = var,values_from = avg)"
   ]
  },
  {
   "cell_type": "code",
   "execution_count": 19,
   "metadata": {
    "vscode": {
     "languageId": "r"
    }
   },
   "outputs": [
    {
     "data": {
      "text/html": [
       "<table class=\"dataframe\">\n",
       "<caption>A tibble: 4 × 2</caption>\n",
       "<thead>\n",
       "\t<tr><th scope=col>design</th><th scope=col>response</th></tr>\n",
       "\t<tr><th scope=col>&lt;chr&gt;</th><th scope=col>&lt;dbl&gt;</th></tr>\n",
       "</thead>\n",
       "<tbody>\n",
       "\t<tr><td>AA</td><td>120</td></tr>\n",
       "\t<tr><td>AB</td><td>110</td></tr>\n",
       "\t<tr><td>BA</td><td>105</td></tr>\n",
       "\t<tr><td>BB</td><td> 95</td></tr>\n",
       "</tbody>\n",
       "</table>\n"
      ],
      "text/latex": [
       "A tibble: 4 × 2\n",
       "\\begin{tabular}{ll}\n",
       " design & response\\\\\n",
       " <chr> & <dbl>\\\\\n",
       "\\hline\n",
       "\t AA & 120\\\\\n",
       "\t AB & 110\\\\\n",
       "\t BA & 105\\\\\n",
       "\t BB &  95\\\\\n",
       "\\end{tabular}\n"
      ],
      "text/markdown": [
       "\n",
       "A tibble: 4 × 2\n",
       "\n",
       "| design &lt;chr&gt; | response &lt;dbl&gt; |\n",
       "|---|---|\n",
       "| AA | 120 |\n",
       "| AB | 110 |\n",
       "| BA | 105 |\n",
       "| BB |  95 |\n",
       "\n"
      ],
      "text/plain": [
       "  design response\n",
       "1 AA     120     \n",
       "2 AB     110     \n",
       "3 BA     105     \n",
       "4 BB      95     "
      ]
     },
     "metadata": {},
     "output_type": "display_data"
    }
   ],
   "source": [
    "## extract()函数使用\n",
    "dexp <- tibble(\n",
    "  design = c(\"AA\", \"AB\", \"BA\", \"BB\"),\n",
    "  response = c(120, 110, 105, 95))\n",
    "dexp"
   ]
  },
  {
   "cell_type": "code",
   "execution_count": 25,
   "metadata": {
    "vscode": {
     "languageId": "r"
    }
   },
   "outputs": [
    {
     "data": {
      "text/html": [
       "<table class=\"dataframe\">\n",
       "<caption>A tibble: 4 × 3</caption>\n",
       "<thead>\n",
       "\t<tr><th scope=col>fac1</th><th scope=col>fac2</th><th scope=col>response</th></tr>\n",
       "\t<tr><th scope=col>&lt;chr&gt;</th><th scope=col>&lt;chr&gt;</th><th scope=col>&lt;dbl&gt;</th></tr>\n",
       "</thead>\n",
       "<tbody>\n",
       "\t<tr><td>A</td><td>A</td><td>120</td></tr>\n",
       "\t<tr><td>A</td><td>B</td><td>110</td></tr>\n",
       "\t<tr><td>B</td><td>A</td><td>105</td></tr>\n",
       "\t<tr><td>B</td><td>B</td><td> 95</td></tr>\n",
       "</tbody>\n",
       "</table>\n"
      ],
      "text/latex": [
       "A tibble: 4 × 3\n",
       "\\begin{tabular}{lll}\n",
       " fac1 & fac2 & response\\\\\n",
       " <chr> & <chr> & <dbl>\\\\\n",
       "\\hline\n",
       "\t A & A & 120\\\\\n",
       "\t A & B & 110\\\\\n",
       "\t B & A & 105\\\\\n",
       "\t B & B &  95\\\\\n",
       "\\end{tabular}\n"
      ],
      "text/markdown": [
       "\n",
       "A tibble: 4 × 3\n",
       "\n",
       "| fac1 &lt;chr&gt; | fac2 &lt;chr&gt; | response &lt;dbl&gt; |\n",
       "|---|---|---|\n",
       "| A | A | 120 |\n",
       "| A | B | 110 |\n",
       "| B | A | 105 |\n",
       "| B | B |  95 |\n",
       "\n"
      ],
      "text/plain": [
       "  fac1 fac2 response\n",
       "1 A    A    120     \n",
       "2 A    B    110     \n",
       "3 B    A    105     \n",
       "4 B    B     95     "
      ]
     },
     "metadata": {},
     "output_type": "display_data"
    },
    {
     "data": {
      "text/html": [
       "<table class=\"dataframe\">\n",
       "<caption>A tibble: 4 × 3</caption>\n",
       "<thead>\n",
       "\t<tr><th scope=col>fac1</th><th scope=col>fac2</th><th scope=col>response</th></tr>\n",
       "\t<tr><th scope=col>&lt;chr&gt;</th><th scope=col>&lt;chr&gt;</th><th scope=col>&lt;dbl&gt;</th></tr>\n",
       "</thead>\n",
       "<tbody>\n",
       "\t<tr><td>A</td><td>A</td><td>120</td></tr>\n",
       "\t<tr><td>A</td><td>B</td><td>110</td></tr>\n",
       "\t<tr><td>B</td><td>A</td><td>105</td></tr>\n",
       "\t<tr><td>B</td><td>B</td><td> 95</td></tr>\n",
       "</tbody>\n",
       "</table>\n"
      ],
      "text/latex": [
       "A tibble: 4 × 3\n",
       "\\begin{tabular}{lll}\n",
       " fac1 & fac2 & response\\\\\n",
       " <chr> & <chr> & <dbl>\\\\\n",
       "\\hline\n",
       "\t A & A & 120\\\\\n",
       "\t A & B & 110\\\\\n",
       "\t B & A & 105\\\\\n",
       "\t B & B &  95\\\\\n",
       "\\end{tabular}\n"
      ],
      "text/markdown": [
       "\n",
       "A tibble: 4 × 3\n",
       "\n",
       "| fac1 &lt;chr&gt; | fac2 &lt;chr&gt; | response &lt;dbl&gt; |\n",
       "|---|---|---|\n",
       "| A | A | 120 |\n",
       "| A | B | 110 |\n",
       "| B | A | 105 |\n",
       "| B | B |  95 |\n",
       "\n"
      ],
      "text/plain": [
       "  fac1 fac2 response\n",
       "1 A    A    120     \n",
       "2 A    B    110     \n",
       "3 B    A    105     \n",
       "4 B    B     95     "
      ]
     },
     "metadata": {},
     "output_type": "display_data"
    }
   ],
   "source": [
    "dexp %>% extract(design,into=c('fac1','fac2'),regex = '(.)(.)')\n",
    "dexp %>% separate(design,into=c('fac1','fac2'),sep = 1)"
   ]
  },
  {
   "cell_type": "code",
   "execution_count": 33,
   "metadata": {
    "vscode": {
     "languageId": "r"
    }
   },
   "outputs": [
    {
     "data": {
      "text/html": [
       "<table class=\"dataframe\">\n",
       "<caption>A tibble: 10 × 3</caption>\n",
       "<thead>\n",
       "\t<tr><th scope=col>name</th><th scope=col>sex</th><th scope=col>age</th></tr>\n",
       "\t<tr><th scope=col>&lt;chr&gt;</th><th scope=col>&lt;chr&gt;</th><th scope=col>&lt;dbl&gt;</th></tr>\n",
       "</thead>\n",
       "<tbody>\n",
       "\t<tr><td>Alfred </td><td>M</td><td>14</td></tr>\n",
       "\t<tr><td>Duke   </td><td>M</td><td>14</td></tr>\n",
       "\t<tr><td>Guido  </td><td>M</td><td>15</td></tr>\n",
       "\t<tr><td>James  </td><td>M</td><td>12</td></tr>\n",
       "\t<tr><td>Jeffrey</td><td>M</td><td>13</td></tr>\n",
       "\t<tr><td>John   </td><td>M</td><td>12</td></tr>\n",
       "\t<tr><td>Philip </td><td>M</td><td>16</td></tr>\n",
       "\t<tr><td>Robert </td><td>M</td><td>12</td></tr>\n",
       "\t<tr><td>Thomas </td><td>M</td><td>11</td></tr>\n",
       "\t<tr><td>William</td><td>M</td><td>15</td></tr>\n",
       "</tbody>\n",
       "</table>\n"
      ],
      "text/latex": [
       "A tibble: 10 × 3\n",
       "\\begin{tabular}{lll}\n",
       " name & sex & age\\\\\n",
       " <chr> & <chr> & <dbl>\\\\\n",
       "\\hline\n",
       "\t Alfred  & M & 14\\\\\n",
       "\t Duke    & M & 14\\\\\n",
       "\t Guido   & M & 15\\\\\n",
       "\t James   & M & 12\\\\\n",
       "\t Jeffrey & M & 13\\\\\n",
       "\t John    & M & 12\\\\\n",
       "\t Philip  & M & 16\\\\\n",
       "\t Robert  & M & 12\\\\\n",
       "\t Thomas  & M & 11\\\\\n",
       "\t William & M & 15\\\\\n",
       "\\end{tabular}\n"
      ],
      "text/markdown": [
       "\n",
       "A tibble: 10 × 3\n",
       "\n",
       "| name &lt;chr&gt; | sex &lt;chr&gt; | age &lt;dbl&gt; |\n",
       "|---|---|---|\n",
       "| Alfred  | M | 14 |\n",
       "| Duke    | M | 14 |\n",
       "| Guido   | M | 15 |\n",
       "| James   | M | 12 |\n",
       "| Jeffrey | M | 13 |\n",
       "| John    | M | 12 |\n",
       "| Philip  | M | 16 |\n",
       "| Robert  | M | 12 |\n",
       "| Thomas  | M | 11 |\n",
       "| William | M | 15 |\n",
       "\n"
      ],
      "text/plain": [
       "   name    sex age\n",
       "1  Alfred  M   14 \n",
       "2  Duke    M   14 \n",
       "3  Guido   M   15 \n",
       "4  James   M   12 \n",
       "5  Jeffrey M   13 \n",
       "6  John    M   12 \n",
       "7  Philip  M   16 \n",
       "8  Robert  M   12 \n",
       "9  Thomas  M   11 \n",
       "10 William M   15 "
      ]
     },
     "metadata": {},
     "output_type": "display_data"
    },
    {
     "data": {
      "text/html": [
       "<table class=\"dataframe\">\n",
       "<caption>A tibble: 9 × 3</caption>\n",
       "<thead>\n",
       "\t<tr><th scope=col>name</th><th scope=col>sex</th><th scope=col>age</th></tr>\n",
       "\t<tr><th scope=col>&lt;chr&gt;</th><th scope=col>&lt;chr&gt;</th><th scope=col>&lt;dbl&gt;</th></tr>\n",
       "</thead>\n",
       "<tbody>\n",
       "\t<tr><td>Alice </td><td>F</td><td>13</td></tr>\n",
       "\t<tr><td>Becka </td><td>F</td><td>13</td></tr>\n",
       "\t<tr><td>Gail  </td><td>F</td><td>14</td></tr>\n",
       "\t<tr><td>Karen </td><td>F</td><td>12</td></tr>\n",
       "\t<tr><td>Kathy </td><td>F</td><td>12</td></tr>\n",
       "\t<tr><td>Mary  </td><td>F</td><td>15</td></tr>\n",
       "\t<tr><td>Sandy </td><td>F</td><td>11</td></tr>\n",
       "\t<tr><td>Sharon</td><td>F</td><td>15</td></tr>\n",
       "\t<tr><td>Tammy </td><td>F</td><td>14</td></tr>\n",
       "</tbody>\n",
       "</table>\n"
      ],
      "text/latex": [
       "A tibble: 9 × 3\n",
       "\\begin{tabular}{lll}\n",
       " name & sex & age\\\\\n",
       " <chr> & <chr> & <dbl>\\\\\n",
       "\\hline\n",
       "\t Alice  & F & 13\\\\\n",
       "\t Becka  & F & 13\\\\\n",
       "\t Gail   & F & 14\\\\\n",
       "\t Karen  & F & 12\\\\\n",
       "\t Kathy  & F & 12\\\\\n",
       "\t Mary   & F & 15\\\\\n",
       "\t Sandy  & F & 11\\\\\n",
       "\t Sharon & F & 15\\\\\n",
       "\t Tammy  & F & 14\\\\\n",
       "\\end{tabular}\n"
      ],
      "text/markdown": [
       "\n",
       "A tibble: 9 × 3\n",
       "\n",
       "| name &lt;chr&gt; | sex &lt;chr&gt; | age &lt;dbl&gt; |\n",
       "|---|---|---|\n",
       "| Alice  | F | 13 |\n",
       "| Becka  | F | 13 |\n",
       "| Gail   | F | 14 |\n",
       "| Karen  | F | 12 |\n",
       "| Kathy  | F | 12 |\n",
       "| Mary   | F | 15 |\n",
       "| Sandy  | F | 11 |\n",
       "| Sharon | F | 15 |\n",
       "| Tammy  | F | 14 |\n",
       "\n"
      ],
      "text/plain": [
       "  name   sex age\n",
       "1 Alice  F   13 \n",
       "2 Becka  F   13 \n",
       "3 Gail   F   14 \n",
       "4 Karen  F   12 \n",
       "5 Kathy  F   12 \n",
       "6 Mary   F   15 \n",
       "7 Sandy  F   11 \n",
       "8 Sharon F   15 \n",
       "9 Tammy  F   14 "
      ]
     },
     "metadata": {},
     "output_type": "display_data"
    }
   ],
   "source": [
    "#数据框纵向合并bind_rows()\n",
    "d3.class<-d.class %>% select(name,sex,age) %>% filter(sex=='M')\n",
    "d4.class<-d.class %>% select(name,sex,age) %>% filter(sex=='F')\n",
    "d3.class\n",
    "d4.class"
   ]
  },
  {
   "cell_type": "code",
   "execution_count": 39,
   "metadata": {
    "vscode": {
     "languageId": "r"
    }
   },
   "outputs": [
    {
     "data": {
      "text/html": [
       "<table class=\"dataframe\">\n",
       "<caption>A tibble: 19 × 3</caption>\n",
       "<thead>\n",
       "\t<tr><th scope=col>name</th><th scope=col>sex</th><th scope=col>age</th></tr>\n",
       "\t<tr><th scope=col>&lt;chr&gt;</th><th scope=col>&lt;chr&gt;</th><th scope=col>&lt;dbl&gt;</th></tr>\n",
       "</thead>\n",
       "<tbody>\n",
       "\t<tr><td>Philip </td><td>M</td><td>16</td></tr>\n",
       "\t<tr><td>Guido  </td><td>M</td><td>15</td></tr>\n",
       "\t<tr><td>William</td><td>M</td><td>15</td></tr>\n",
       "\t<tr><td>Alfred </td><td>M</td><td>14</td></tr>\n",
       "\t<tr><td>Duke   </td><td>M</td><td>14</td></tr>\n",
       "\t<tr><td>Jeffrey</td><td>M</td><td>13</td></tr>\n",
       "\t<tr><td>James  </td><td>M</td><td>12</td></tr>\n",
       "\t<tr><td>John   </td><td>M</td><td>12</td></tr>\n",
       "\t<tr><td>Robert </td><td>M</td><td>12</td></tr>\n",
       "\t<tr><td>Thomas </td><td>M</td><td>11</td></tr>\n",
       "\t<tr><td>Mary   </td><td>F</td><td>15</td></tr>\n",
       "\t<tr><td>Sharon </td><td>F</td><td>15</td></tr>\n",
       "\t<tr><td>Gail   </td><td>F</td><td>14</td></tr>\n",
       "\t<tr><td>Tammy  </td><td>F</td><td>14</td></tr>\n",
       "\t<tr><td>Alice  </td><td>F</td><td>13</td></tr>\n",
       "\t<tr><td>Becka  </td><td>F</td><td>13</td></tr>\n",
       "\t<tr><td>Karen  </td><td>F</td><td>12</td></tr>\n",
       "\t<tr><td>Kathy  </td><td>F</td><td>12</td></tr>\n",
       "\t<tr><td>Sandy  </td><td>F</td><td>11</td></tr>\n",
       "</tbody>\n",
       "</table>\n"
      ],
      "text/latex": [
       "A tibble: 19 × 3\n",
       "\\begin{tabular}{lll}\n",
       " name & sex & age\\\\\n",
       " <chr> & <chr> & <dbl>\\\\\n",
       "\\hline\n",
       "\t Philip  & M & 16\\\\\n",
       "\t Guido   & M & 15\\\\\n",
       "\t William & M & 15\\\\\n",
       "\t Alfred  & M & 14\\\\\n",
       "\t Duke    & M & 14\\\\\n",
       "\t Jeffrey & M & 13\\\\\n",
       "\t James   & M & 12\\\\\n",
       "\t John    & M & 12\\\\\n",
       "\t Robert  & M & 12\\\\\n",
       "\t Thomas  & M & 11\\\\\n",
       "\t Mary    & F & 15\\\\\n",
       "\t Sharon  & F & 15\\\\\n",
       "\t Gail    & F & 14\\\\\n",
       "\t Tammy   & F & 14\\\\\n",
       "\t Alice   & F & 13\\\\\n",
       "\t Becka   & F & 13\\\\\n",
       "\t Karen   & F & 12\\\\\n",
       "\t Kathy   & F & 12\\\\\n",
       "\t Sandy   & F & 11\\\\\n",
       "\\end{tabular}\n"
      ],
      "text/markdown": [
       "\n",
       "A tibble: 19 × 3\n",
       "\n",
       "| name &lt;chr&gt; | sex &lt;chr&gt; | age &lt;dbl&gt; |\n",
       "|---|---|---|\n",
       "| Philip  | M | 16 |\n",
       "| Guido   | M | 15 |\n",
       "| William | M | 15 |\n",
       "| Alfred  | M | 14 |\n",
       "| Duke    | M | 14 |\n",
       "| Jeffrey | M | 13 |\n",
       "| James   | M | 12 |\n",
       "| John    | M | 12 |\n",
       "| Robert  | M | 12 |\n",
       "| Thomas  | M | 11 |\n",
       "| Mary    | F | 15 |\n",
       "| Sharon  | F | 15 |\n",
       "| Gail    | F | 14 |\n",
       "| Tammy   | F | 14 |\n",
       "| Alice   | F | 13 |\n",
       "| Becka   | F | 13 |\n",
       "| Karen   | F | 12 |\n",
       "| Kathy   | F | 12 |\n",
       "| Sandy   | F | 11 |\n",
       "\n"
      ],
      "text/plain": [
       "   name    sex age\n",
       "1  Philip  M   16 \n",
       "2  Guido   M   15 \n",
       "3  William M   15 \n",
       "4  Alfred  M   14 \n",
       "5  Duke    M   14 \n",
       "6  Jeffrey M   13 \n",
       "7  James   M   12 \n",
       "8  John    M   12 \n",
       "9  Robert  M   12 \n",
       "10 Thomas  M   11 \n",
       "11 Mary    F   15 \n",
       "12 Sharon  F   15 \n",
       "13 Gail    F   14 \n",
       "14 Tammy   F   14 \n",
       "15 Alice   F   13 \n",
       "16 Becka   F   13 \n",
       "17 Karen   F   12 \n",
       "18 Kathy   F   12 \n",
       "19 Sandy   F   11 "
      ]
     },
     "metadata": {},
     "output_type": "display_data"
    }
   ],
   "source": [
    "d.class %>% arrange(desc(sex),desc(age)) %>% select(name,sex,age)"
   ]
  },
  {
   "cell_type": "code",
   "execution_count": 34,
   "metadata": {
    "vscode": {
     "languageId": "r"
    }
   },
   "outputs": [
    {
     "data": {
      "text/html": [
       "<table class=\"dataframe\">\n",
       "<caption>A tibble: 19 × 3</caption>\n",
       "<thead>\n",
       "\t<tr><th scope=col>name</th><th scope=col>sex</th><th scope=col>age</th></tr>\n",
       "\t<tr><th scope=col>&lt;chr&gt;</th><th scope=col>&lt;chr&gt;</th><th scope=col>&lt;dbl&gt;</th></tr>\n",
       "</thead>\n",
       "<tbody>\n",
       "\t<tr><td>Alfred </td><td>M</td><td>14</td></tr>\n",
       "\t<tr><td>Duke   </td><td>M</td><td>14</td></tr>\n",
       "\t<tr><td>Guido  </td><td>M</td><td>15</td></tr>\n",
       "\t<tr><td>James  </td><td>M</td><td>12</td></tr>\n",
       "\t<tr><td>Jeffrey</td><td>M</td><td>13</td></tr>\n",
       "\t<tr><td>John   </td><td>M</td><td>12</td></tr>\n",
       "\t<tr><td>Philip </td><td>M</td><td>16</td></tr>\n",
       "\t<tr><td>Robert </td><td>M</td><td>12</td></tr>\n",
       "\t<tr><td>Thomas </td><td>M</td><td>11</td></tr>\n",
       "\t<tr><td>William</td><td>M</td><td>15</td></tr>\n",
       "\t<tr><td>Alice  </td><td>F</td><td>13</td></tr>\n",
       "\t<tr><td>Becka  </td><td>F</td><td>13</td></tr>\n",
       "\t<tr><td>Gail   </td><td>F</td><td>14</td></tr>\n",
       "\t<tr><td>Karen  </td><td>F</td><td>12</td></tr>\n",
       "\t<tr><td>Kathy  </td><td>F</td><td>12</td></tr>\n",
       "\t<tr><td>Mary   </td><td>F</td><td>15</td></tr>\n",
       "\t<tr><td>Sandy  </td><td>F</td><td>11</td></tr>\n",
       "\t<tr><td>Sharon </td><td>F</td><td>15</td></tr>\n",
       "\t<tr><td>Tammy  </td><td>F</td><td>14</td></tr>\n",
       "</tbody>\n",
       "</table>\n"
      ],
      "text/latex": [
       "A tibble: 19 × 3\n",
       "\\begin{tabular}{lll}\n",
       " name & sex & age\\\\\n",
       " <chr> & <chr> & <dbl>\\\\\n",
       "\\hline\n",
       "\t Alfred  & M & 14\\\\\n",
       "\t Duke    & M & 14\\\\\n",
       "\t Guido   & M & 15\\\\\n",
       "\t James   & M & 12\\\\\n",
       "\t Jeffrey & M & 13\\\\\n",
       "\t John    & M & 12\\\\\n",
       "\t Philip  & M & 16\\\\\n",
       "\t Robert  & M & 12\\\\\n",
       "\t Thomas  & M & 11\\\\\n",
       "\t William & M & 15\\\\\n",
       "\t Alice   & F & 13\\\\\n",
       "\t Becka   & F & 13\\\\\n",
       "\t Gail    & F & 14\\\\\n",
       "\t Karen   & F & 12\\\\\n",
       "\t Kathy   & F & 12\\\\\n",
       "\t Mary    & F & 15\\\\\n",
       "\t Sandy   & F & 11\\\\\n",
       "\t Sharon  & F & 15\\\\\n",
       "\t Tammy   & F & 14\\\\\n",
       "\\end{tabular}\n"
      ],
      "text/markdown": [
       "\n",
       "A tibble: 19 × 3\n",
       "\n",
       "| name &lt;chr&gt; | sex &lt;chr&gt; | age &lt;dbl&gt; |\n",
       "|---|---|---|\n",
       "| Alfred  | M | 14 |\n",
       "| Duke    | M | 14 |\n",
       "| Guido   | M | 15 |\n",
       "| James   | M | 12 |\n",
       "| Jeffrey | M | 13 |\n",
       "| John    | M | 12 |\n",
       "| Philip  | M | 16 |\n",
       "| Robert  | M | 12 |\n",
       "| Thomas  | M | 11 |\n",
       "| William | M | 15 |\n",
       "| Alice   | F | 13 |\n",
       "| Becka   | F | 13 |\n",
       "| Gail    | F | 14 |\n",
       "| Karen   | F | 12 |\n",
       "| Kathy   | F | 12 |\n",
       "| Mary    | F | 15 |\n",
       "| Sandy   | F | 11 |\n",
       "| Sharon  | F | 15 |\n",
       "| Tammy   | F | 14 |\n",
       "\n"
      ],
      "text/plain": [
       "   name    sex age\n",
       "1  Alfred  M   14 \n",
       "2  Duke    M   14 \n",
       "3  Guido   M   15 \n",
       "4  James   M   12 \n",
       "5  Jeffrey M   13 \n",
       "6  John    M   12 \n",
       "7  Philip  M   16 \n",
       "8  Robert  M   12 \n",
       "9  Thomas  M   11 \n",
       "10 William M   15 \n",
       "11 Alice   F   13 \n",
       "12 Becka   F   13 \n",
       "13 Gail    F   14 \n",
       "14 Karen   F   12 \n",
       "15 Kathy   F   12 \n",
       "16 Mary    F   15 \n",
       "17 Sandy   F   11 \n",
       "18 Sharon  F   15 \n",
       "19 Tammy   F   14 "
      ]
     },
     "metadata": {},
     "output_type": "display_data"
    },
    {
     "data": {
      "text/html": [
       "<table class=\"dataframe\">\n",
       "<caption>A tibble: 10 × 3</caption>\n",
       "<thead>\n",
       "\t<tr><th scope=col>name</th><th scope=col>sex</th><th scope=col>age</th></tr>\n",
       "\t<tr><th scope=col>&lt;chr&gt;</th><th scope=col>&lt;chr&gt;</th><th scope=col>&lt;dbl&gt;</th></tr>\n",
       "</thead>\n",
       "<tbody>\n",
       "\t<tr><td>Alfred </td><td>M</td><td>14</td></tr>\n",
       "\t<tr><td>Duke   </td><td>M</td><td>14</td></tr>\n",
       "\t<tr><td>Guido  </td><td>M</td><td>15</td></tr>\n",
       "\t<tr><td>James  </td><td>M</td><td>12</td></tr>\n",
       "\t<tr><td>Jeffrey</td><td>M</td><td>13</td></tr>\n",
       "\t<tr><td>John   </td><td>M</td><td>12</td></tr>\n",
       "\t<tr><td>Philip </td><td>M</td><td>16</td></tr>\n",
       "\t<tr><td>Robert </td><td>M</td><td>12</td></tr>\n",
       "\t<tr><td>Thomas </td><td>M</td><td>11</td></tr>\n",
       "\t<tr><td>William</td><td>M</td><td>15</td></tr>\n",
       "</tbody>\n",
       "</table>\n"
      ],
      "text/latex": [
       "A tibble: 10 × 3\n",
       "\\begin{tabular}{lll}\n",
       " name & sex & age\\\\\n",
       " <chr> & <chr> & <dbl>\\\\\n",
       "\\hline\n",
       "\t Alfred  & M & 14\\\\\n",
       "\t Duke    & M & 14\\\\\n",
       "\t Guido   & M & 15\\\\\n",
       "\t James   & M & 12\\\\\n",
       "\t Jeffrey & M & 13\\\\\n",
       "\t John    & M & 12\\\\\n",
       "\t Philip  & M & 16\\\\\n",
       "\t Robert  & M & 12\\\\\n",
       "\t Thomas  & M & 11\\\\\n",
       "\t William & M & 15\\\\\n",
       "\\end{tabular}\n"
      ],
      "text/markdown": [
       "\n",
       "A tibble: 10 × 3\n",
       "\n",
       "| name &lt;chr&gt; | sex &lt;chr&gt; | age &lt;dbl&gt; |\n",
       "|---|---|---|\n",
       "| Alfred  | M | 14 |\n",
       "| Duke    | M | 14 |\n",
       "| Guido   | M | 15 |\n",
       "| James   | M | 12 |\n",
       "| Jeffrey | M | 13 |\n",
       "| John    | M | 12 |\n",
       "| Philip  | M | 16 |\n",
       "| Robert  | M | 12 |\n",
       "| Thomas  | M | 11 |\n",
       "| William | M | 15 |\n",
       "\n"
      ],
      "text/plain": [
       "   name    sex age\n",
       "1  Alfred  M   14 \n",
       "2  Duke    M   14 \n",
       "3  Guido   M   15 \n",
       "4  James   M   12 \n",
       "5  Jeffrey M   13 \n",
       "6  John    M   12 \n",
       "7  Philip  M   16 \n",
       "8  Robert  M   12 \n",
       "9  Thomas  M   11 \n",
       "10 William M   15 "
      ]
     },
     "metadata": {},
     "output_type": "display_data"
    }
   ],
   "source": [
    "d3.class %>% bind_rows(d4.class)\n",
    "d3.class"
   ]
  },
  {
   "cell_type": "code",
   "execution_count": 41,
   "metadata": {
    "vscode": {
     "languageId": "r"
    }
   },
   "outputs": [
    {
     "data": {
      "text/html": [
       "<table class=\"dataframe\">\n",
       "<caption>A tibble: 19 × 3</caption>\n",
       "<thead>\n",
       "\t<tr><th scope=col>age</th><th scope=col>name</th><th scope=col>sex</th></tr>\n",
       "\t<tr><th scope=col>&lt;dbl&gt;</th><th scope=col>&lt;chr&gt;</th><th scope=col>&lt;chr&gt;</th></tr>\n",
       "</thead>\n",
       "<tbody>\n",
       "\t<tr><td>14</td><td>Alfred </td><td>M</td></tr>\n",
       "\t<tr><td>14</td><td>Duke   </td><td>M</td></tr>\n",
       "\t<tr><td>15</td><td>Guido  </td><td>M</td></tr>\n",
       "\t<tr><td>12</td><td>James  </td><td>M</td></tr>\n",
       "\t<tr><td>13</td><td>Jeffrey</td><td>M</td></tr>\n",
       "\t<tr><td>12</td><td>John   </td><td>M</td></tr>\n",
       "\t<tr><td>16</td><td>Philip </td><td>M</td></tr>\n",
       "\t<tr><td>12</td><td>Robert </td><td>M</td></tr>\n",
       "\t<tr><td>11</td><td>Thomas </td><td>M</td></tr>\n",
       "\t<tr><td>15</td><td>William</td><td>M</td></tr>\n",
       "\t<tr><td>13</td><td>Alice  </td><td>F</td></tr>\n",
       "\t<tr><td>13</td><td>Becka  </td><td>F</td></tr>\n",
       "\t<tr><td>14</td><td>Gail   </td><td>F</td></tr>\n",
       "\t<tr><td>12</td><td>Karen  </td><td>F</td></tr>\n",
       "\t<tr><td>12</td><td>Kathy  </td><td>F</td></tr>\n",
       "\t<tr><td>15</td><td>Mary   </td><td>F</td></tr>\n",
       "\t<tr><td>11</td><td>Sandy  </td><td>F</td></tr>\n",
       "\t<tr><td>15</td><td>Sharon </td><td>F</td></tr>\n",
       "\t<tr><td>14</td><td>Tammy  </td><td>F</td></tr>\n",
       "</tbody>\n",
       "</table>\n"
      ],
      "text/latex": [
       "A tibble: 19 × 3\n",
       "\\begin{tabular}{lll}\n",
       " age & name & sex\\\\\n",
       " <dbl> & <chr> & <chr>\\\\\n",
       "\\hline\n",
       "\t 14 & Alfred  & M\\\\\n",
       "\t 14 & Duke    & M\\\\\n",
       "\t 15 & Guido   & M\\\\\n",
       "\t 12 & James   & M\\\\\n",
       "\t 13 & Jeffrey & M\\\\\n",
       "\t 12 & John    & M\\\\\n",
       "\t 16 & Philip  & M\\\\\n",
       "\t 12 & Robert  & M\\\\\n",
       "\t 11 & Thomas  & M\\\\\n",
       "\t 15 & William & M\\\\\n",
       "\t 13 & Alice   & F\\\\\n",
       "\t 13 & Becka   & F\\\\\n",
       "\t 14 & Gail    & F\\\\\n",
       "\t 12 & Karen   & F\\\\\n",
       "\t 12 & Kathy   & F\\\\\n",
       "\t 15 & Mary    & F\\\\\n",
       "\t 11 & Sandy   & F\\\\\n",
       "\t 15 & Sharon  & F\\\\\n",
       "\t 14 & Tammy   & F\\\\\n",
       "\\end{tabular}\n"
      ],
      "text/markdown": [
       "\n",
       "A tibble: 19 × 3\n",
       "\n",
       "| age &lt;dbl&gt; | name &lt;chr&gt; | sex &lt;chr&gt; |\n",
       "|---|---|---|\n",
       "| 14 | Alfred  | M |\n",
       "| 14 | Duke    | M |\n",
       "| 15 | Guido   | M |\n",
       "| 12 | James   | M |\n",
       "| 13 | Jeffrey | M |\n",
       "| 12 | John    | M |\n",
       "| 16 | Philip  | M |\n",
       "| 12 | Robert  | M |\n",
       "| 11 | Thomas  | M |\n",
       "| 15 | William | M |\n",
       "| 13 | Alice   | F |\n",
       "| 13 | Becka   | F |\n",
       "| 14 | Gail    | F |\n",
       "| 12 | Karen   | F |\n",
       "| 12 | Kathy   | F |\n",
       "| 15 | Mary    | F |\n",
       "| 11 | Sandy   | F |\n",
       "| 15 | Sharon  | F |\n",
       "| 14 | Tammy   | F |\n",
       "\n"
      ],
      "text/plain": [
       "   age name    sex\n",
       "1  14  Alfred  M  \n",
       "2  14  Duke    M  \n",
       "3  15  Guido   M  \n",
       "4  12  James   M  \n",
       "5  13  Jeffrey M  \n",
       "6  12  John    M  \n",
       "7  16  Philip  M  \n",
       "8  12  Robert  M  \n",
       "9  11  Thomas  M  \n",
       "10 15  William M  \n",
       "11 13  Alice   F  \n",
       "12 13  Becka   F  \n",
       "13 14  Gail    F  \n",
       "14 12  Karen   F  \n",
       "15 12  Kathy   F  \n",
       "16 15  Mary    F  \n",
       "17 11  Sandy   F  \n",
       "18 15  Sharon  F  \n",
       "19 14  Tammy   F  "
      ]
     },
     "metadata": {},
     "output_type": "display_data"
    }
   ],
   "source": [
    "d3.class |>\n",
    "  select(age, name, sex) |>\n",
    "  bind_rows(d4.class)"
   ]
  },
  {
   "cell_type": "code",
   "execution_count": 43,
   "metadata": {
    "vscode": {
     "languageId": "r"
    }
   },
   "outputs": [
    {
     "data": {
      "text/html": [
       "0"
      ],
      "text/latex": [
       "0"
      ],
      "text/markdown": [
       "0"
      ],
      "text/plain": [
       "[1] 0"
      ]
     },
     "metadata": {},
     "output_type": "display_data"
    }
   ],
   "source": [
    "#横向合并\n",
    "d.class |>\n",
    "  count(name) |>\n",
    "  filter(n>1) |>\n",
    "  nrow()\n",
    "#没有发现重复出现的name，说明d.class中的name可以作为主键"
   ]
  },
  {
   "cell_type": "code",
   "execution_count": 45,
   "metadata": {
    "vscode": {
     "languageId": "r"
    }
   },
   "outputs": [
    {
     "data": {
      "text/html": [
       "<table class=\"dataframe\">\n",
       "<caption>A tibble: 6 × 2</caption>\n",
       "<thead>\n",
       "\t<tr><th scope=col>name</th><th scope=col>sex</th></tr>\n",
       "\t<tr><th scope=col>&lt;chr&gt;</th><th scope=col>&lt;chr&gt;</th></tr>\n",
       "</thead>\n",
       "<tbody>\n",
       "\t<tr><td>Karen </td><td>F</td></tr>\n",
       "\t<tr><td>Kathy </td><td>F</td></tr>\n",
       "\t<tr><td>James </td><td>M</td></tr>\n",
       "\t<tr><td>John  </td><td>M</td></tr>\n",
       "\t<tr><td>Robert</td><td>M</td></tr>\n",
       "\t<tr><td>Thomas</td><td>M</td></tr>\n",
       "</tbody>\n",
       "</table>\n"
      ],
      "text/latex": [
       "A tibble: 6 × 2\n",
       "\\begin{tabular}{ll}\n",
       " name & sex\\\\\n",
       " <chr> & <chr>\\\\\n",
       "\\hline\n",
       "\t Karen  & F\\\\\n",
       "\t Kathy  & F\\\\\n",
       "\t James  & M\\\\\n",
       "\t John   & M\\\\\n",
       "\t Robert & M\\\\\n",
       "\t Thomas & M\\\\\n",
       "\\end{tabular}\n"
      ],
      "text/markdown": [
       "\n",
       "A tibble: 6 × 2\n",
       "\n",
       "| name &lt;chr&gt; | sex &lt;chr&gt; |\n",
       "|---|---|\n",
       "| Karen  | F |\n",
       "| Kathy  | F |\n",
       "| James  | M |\n",
       "| John   | M |\n",
       "| Robert | M |\n",
       "| Thomas | M |\n",
       "\n"
      ],
      "text/plain": [
       "  name   sex\n",
       "1 Karen  F  \n",
       "2 Kathy  F  \n",
       "3 James  M  \n",
       "4 John   M  \n",
       "5 Robert M  \n",
       "6 Thomas M  "
      ]
     },
     "metadata": {},
     "output_type": "display_data"
    },
    {
     "data": {
      "text/html": [
       "<table class=\"dataframe\">\n",
       "<caption>A tibble: 7 × 4</caption>\n",
       "<thead>\n",
       "\t<tr><th scope=col>name</th><th scope=col>age</th><th scope=col>height</th><th scope=col>weight</th></tr>\n",
       "\t<tr><th scope=col>&lt;chr&gt;</th><th scope=col>&lt;dbl&gt;</th><th scope=col>&lt;dbl&gt;</th><th scope=col>&lt;dbl&gt;</th></tr>\n",
       "</thead>\n",
       "<tbody>\n",
       "\t<tr><td>Karen </td><td>12</td><td>56.3</td><td> 77.0</td></tr>\n",
       "\t<tr><td>Kathy </td><td>12</td><td>59.8</td><td> 84.5</td></tr>\n",
       "\t<tr><td>Sandy </td><td>11</td><td>51.3</td><td> 50.5</td></tr>\n",
       "\t<tr><td>James </td><td>12</td><td>57.3</td><td> 83.0</td></tr>\n",
       "\t<tr><td>John  </td><td>12</td><td>59.0</td><td> 99.5</td></tr>\n",
       "\t<tr><td>Robert</td><td>12</td><td>64.8</td><td>128.0</td></tr>\n",
       "\t<tr><td>Thomas</td><td>11</td><td>57.5</td><td> 85.0</td></tr>\n",
       "</tbody>\n",
       "</table>\n"
      ],
      "text/latex": [
       "A tibble: 7 × 4\n",
       "\\begin{tabular}{llll}\n",
       " name & age & height & weight\\\\\n",
       " <chr> & <dbl> & <dbl> & <dbl>\\\\\n",
       "\\hline\n",
       "\t Karen  & 12 & 56.3 &  77.0\\\\\n",
       "\t Kathy  & 12 & 59.8 &  84.5\\\\\n",
       "\t Sandy  & 11 & 51.3 &  50.5\\\\\n",
       "\t James  & 12 & 57.3 &  83.0\\\\\n",
       "\t John   & 12 & 59.0 &  99.5\\\\\n",
       "\t Robert & 12 & 64.8 & 128.0\\\\\n",
       "\t Thomas & 11 & 57.5 &  85.0\\\\\n",
       "\\end{tabular}\n"
      ],
      "text/markdown": [
       "\n",
       "A tibble: 7 × 4\n",
       "\n",
       "| name &lt;chr&gt; | age &lt;dbl&gt; | height &lt;dbl&gt; | weight &lt;dbl&gt; |\n",
       "|---|---|---|---|\n",
       "| Karen  | 12 | 56.3 |  77.0 |\n",
       "| Kathy  | 12 | 59.8 |  84.5 |\n",
       "| Sandy  | 11 | 51.3 |  50.5 |\n",
       "| James  | 12 | 57.3 |  83.0 |\n",
       "| John   | 12 | 59.0 |  99.5 |\n",
       "| Robert | 12 | 64.8 | 128.0 |\n",
       "| Thomas | 11 | 57.5 |  85.0 |\n",
       "\n"
      ],
      "text/plain": [
       "  name   age height weight\n",
       "1 Karen  12  56.3    77.0 \n",
       "2 Kathy  12  59.8    84.5 \n",
       "3 Sandy  11  51.3    50.5 \n",
       "4 James  12  57.3    83.0 \n",
       "5 John   12  59.0    99.5 \n",
       "6 Robert 12  64.8   128.0 \n",
       "7 Thomas 11  57.5    85.0 "
      ]
     },
     "metadata": {},
     "output_type": "display_data"
    }
   ],
   "source": [
    "d1.class <- d.class |>\n",
    "  filter(age <= 12) |>\n",
    "  select(name, sex) |>\n",
    "  filter(!(name %in%  \"Sandy\"))\n",
    "d2.class <- d.class |>\n",
    "  filter(age <= 12) |>\n",
    "  select(name, age, height, weight)\n",
    "d1.class\n",
    "d2.class"
   ]
  },
  {
   "cell_type": "code",
   "execution_count": 49,
   "metadata": {
    "vscode": {
     "languageId": "r"
    }
   },
   "outputs": [
    {
     "data": {
      "text/html": [
       "<table class=\"dataframe\">\n",
       "<caption>A tibble: 6 × 5</caption>\n",
       "<thead>\n",
       "\t<tr><th scope=col>name</th><th scope=col>sex</th><th scope=col>age</th><th scope=col>height</th><th scope=col>weight</th></tr>\n",
       "\t<tr><th scope=col>&lt;chr&gt;</th><th scope=col>&lt;chr&gt;</th><th scope=col>&lt;dbl&gt;</th><th scope=col>&lt;dbl&gt;</th><th scope=col>&lt;dbl&gt;</th></tr>\n",
       "</thead>\n",
       "<tbody>\n",
       "\t<tr><td>Karen </td><td>F</td><td>12</td><td>56.3</td><td> 77.0</td></tr>\n",
       "\t<tr><td>Kathy </td><td>F</td><td>12</td><td>59.8</td><td> 84.5</td></tr>\n",
       "\t<tr><td>James </td><td>M</td><td>12</td><td>57.3</td><td> 83.0</td></tr>\n",
       "\t<tr><td>John  </td><td>M</td><td>12</td><td>59.0</td><td> 99.5</td></tr>\n",
       "\t<tr><td>Robert</td><td>M</td><td>12</td><td>64.8</td><td>128.0</td></tr>\n",
       "\t<tr><td>Thomas</td><td>M</td><td>11</td><td>57.5</td><td> 85.0</td></tr>\n",
       "</tbody>\n",
       "</table>\n"
      ],
      "text/latex": [
       "A tibble: 6 × 5\n",
       "\\begin{tabular}{lllll}\n",
       " name & sex & age & height & weight\\\\\n",
       " <chr> & <chr> & <dbl> & <dbl> & <dbl>\\\\\n",
       "\\hline\n",
       "\t Karen  & F & 12 & 56.3 &  77.0\\\\\n",
       "\t Kathy  & F & 12 & 59.8 &  84.5\\\\\n",
       "\t James  & M & 12 & 57.3 &  83.0\\\\\n",
       "\t John   & M & 12 & 59.0 &  99.5\\\\\n",
       "\t Robert & M & 12 & 64.8 & 128.0\\\\\n",
       "\t Thomas & M & 11 & 57.5 &  85.0\\\\\n",
       "\\end{tabular}\n"
      ],
      "text/markdown": [
       "\n",
       "A tibble: 6 × 5\n",
       "\n",
       "| name &lt;chr&gt; | sex &lt;chr&gt; | age &lt;dbl&gt; | height &lt;dbl&gt; | weight &lt;dbl&gt; |\n",
       "|---|---|---|---|---|\n",
       "| Karen  | F | 12 | 56.3 |  77.0 |\n",
       "| Kathy  | F | 12 | 59.8 |  84.5 |\n",
       "| James  | M | 12 | 57.3 |  83.0 |\n",
       "| John   | M | 12 | 59.0 |  99.5 |\n",
       "| Robert | M | 12 | 64.8 | 128.0 |\n",
       "| Thomas | M | 11 | 57.5 |  85.0 |\n",
       "\n"
      ],
      "text/plain": [
       "  name   sex age height weight\n",
       "1 Karen  F   12  56.3    77.0 \n",
       "2 Kathy  F   12  59.8    84.5 \n",
       "3 James  M   12  57.3    83.0 \n",
       "4 John   M   12  59.0    99.5 \n",
       "5 Robert M   12  64.8   128.0 \n",
       "6 Thomas M   11  57.5    85.0 "
      ]
     },
     "metadata": {},
     "output_type": "display_data"
    }
   ],
   "source": [
    "d1.class |>\n",
    "  inner_join(d2.class,by = 'name',unmatched = 'drop')"
   ]
  },
  {
   "cell_type": "code",
   "execution_count": 56,
   "metadata": {
    "vscode": {
     "languageId": "r"
    }
   },
   "outputs": [],
   "source": [
    "d.stu <- tibble(\n",
    "  sid=c(1,2,3,4,5,6),\n",
    "  cid=c(1,2,1,2,1,2),\n",
    "  sname=c(\"John\", \"Mary\", \"James\", \"Kitty\", \"Jasmine\", \"Kim\"),\n",
    "  sex=c(\"M\", \"F\", \"M\", \"F\", \"F\", \"M\"))\n",
    "\n",
    "  d.cl <- tibble(\n",
    "  cid=c(1,2,3),\n",
    "  tname=c(\"Philip\", \"Joane\",'aaa'),\n",
    "  grade=c(\"2017\", \"2016\",'2035')\n",
    ")"
   ]
  },
  {
   "cell_type": "code",
   "execution_count": 57,
   "metadata": {
    "vscode": {
     "languageId": "r"
    }
   },
   "outputs": [
    {
     "data": {
      "text/html": [
       "<table class=\"dataframe\">\n",
       "<caption>A tibble: 7 × 6</caption>\n",
       "<thead>\n",
       "\t<tr><th scope=col>sid</th><th scope=col>cid</th><th scope=col>sname</th><th scope=col>sex</th><th scope=col>tname</th><th scope=col>grade</th></tr>\n",
       "\t<tr><th scope=col>&lt;dbl&gt;</th><th scope=col>&lt;dbl&gt;</th><th scope=col>&lt;chr&gt;</th><th scope=col>&lt;chr&gt;</th><th scope=col>&lt;chr&gt;</th><th scope=col>&lt;chr&gt;</th></tr>\n",
       "</thead>\n",
       "<tbody>\n",
       "\t<tr><td> 1</td><td>1</td><td>John   </td><td>M </td><td>Philip</td><td>2017</td></tr>\n",
       "\t<tr><td> 2</td><td>2</td><td>Mary   </td><td>F </td><td>Joane </td><td>2016</td></tr>\n",
       "\t<tr><td> 3</td><td>1</td><td>James  </td><td>M </td><td>Philip</td><td>2017</td></tr>\n",
       "\t<tr><td> 4</td><td>2</td><td>Kitty  </td><td>F </td><td>Joane </td><td>2016</td></tr>\n",
       "\t<tr><td> 5</td><td>1</td><td>Jasmine</td><td>F </td><td>Philip</td><td>2017</td></tr>\n",
       "\t<tr><td> 6</td><td>2</td><td>Kim    </td><td>M </td><td>Joane </td><td>2016</td></tr>\n",
       "\t<tr><td>NA</td><td>3</td><td>NA     </td><td>NA</td><td>aaa   </td><td>2035</td></tr>\n",
       "</tbody>\n",
       "</table>\n"
      ],
      "text/latex": [
       "A tibble: 7 × 6\n",
       "\\begin{tabular}{llllll}\n",
       " sid & cid & sname & sex & tname & grade\\\\\n",
       " <dbl> & <dbl> & <chr> & <chr> & <chr> & <chr>\\\\\n",
       "\\hline\n",
       "\t  1 & 1 & John    & M  & Philip & 2017\\\\\n",
       "\t  2 & 2 & Mary    & F  & Joane  & 2016\\\\\n",
       "\t  3 & 1 & James   & M  & Philip & 2017\\\\\n",
       "\t  4 & 2 & Kitty   & F  & Joane  & 2016\\\\\n",
       "\t  5 & 1 & Jasmine & F  & Philip & 2017\\\\\n",
       "\t  6 & 2 & Kim     & M  & Joane  & 2016\\\\\n",
       "\t NA & 3 & NA      & NA & aaa    & 2035\\\\\n",
       "\\end{tabular}\n"
      ],
      "text/markdown": [
       "\n",
       "A tibble: 7 × 6\n",
       "\n",
       "| sid &lt;dbl&gt; | cid &lt;dbl&gt; | sname &lt;chr&gt; | sex &lt;chr&gt; | tname &lt;chr&gt; | grade &lt;chr&gt; |\n",
       "|---|---|---|---|---|---|\n",
       "|  1 | 1 | John    | M  | Philip | 2017 |\n",
       "|  2 | 2 | Mary    | F  | Joane  | 2016 |\n",
       "|  3 | 1 | James   | M  | Philip | 2017 |\n",
       "|  4 | 2 | Kitty   | F  | Joane  | 2016 |\n",
       "|  5 | 1 | Jasmine | F  | Philip | 2017 |\n",
       "|  6 | 2 | Kim     | M  | Joane  | 2016 |\n",
       "| NA | 3 | NA      | NA | aaa    | 2035 |\n",
       "\n"
      ],
      "text/plain": [
       "  sid cid sname   sex tname  grade\n",
       "1  1  1   John    M   Philip 2017 \n",
       "2  2  2   Mary    F   Joane  2016 \n",
       "3  3  1   James   M   Philip 2017 \n",
       "4  4  2   Kitty   F   Joane  2016 \n",
       "5  5  1   Jasmine F   Philip 2017 \n",
       "6  6  2   Kim     M   Joane  2016 \n",
       "7 NA  3   NA      NA  aaa    2035 "
      ]
     },
     "metadata": {},
     "output_type": "display_data"
    }
   ],
   "source": [
    "d.stu |>\n",
    "  full_join(d.cl, join_by(cid))"
   ]
  },
  {
   "cell_type": "code",
   "execution_count": 58,
   "metadata": {
    "vscode": {
     "languageId": "r"
    }
   },
   "outputs": [
    {
     "data": {
      "text/html": [
       "<table class=\"dataframe\">\n",
       "<caption>A matrix: 19 × 2 of type dbl</caption>\n",
       "<thead>\n",
       "\t<tr><th scope=col>height</th><th scope=col>weight</th></tr>\n",
       "</thead>\n",
       "<tbody>\n",
       "\t<tr><td>-1.13843504</td><td>-0.70371312</td></tr>\n",
       "\t<tr><td> 0.57794313</td><td>-0.08897522</td></tr>\n",
       "\t<tr><td> 0.38290015</td><td>-0.44025402</td></tr>\n",
       "\t<tr><td>-1.17744363</td><td>-1.01108207</td></tr>\n",
       "\t<tr><td>-0.49479323</td><td>-0.68175819</td></tr>\n",
       "\t<tr><td> 0.81199469</td><td> 0.52576268</td></tr>\n",
       "\t<tr><td>-2.15265850</td><td>-2.17469309</td></tr>\n",
       "\t<tr><td> 0.03182280</td><td> 0.54771760</td></tr>\n",
       "\t<tr><td> 0.09033569</td><td> 0.10861910</td></tr>\n",
       "\t<tr><td> 1.29960213</td><td> 0.54771760</td></tr>\n",
       "\t<tr><td> 0.22686577</td><td> 0.10861910</td></tr>\n",
       "\t<tr><td> 0.90951618</td><td> 1.44786952</td></tr>\n",
       "\t<tr><td>-0.98240066</td><td>-0.74762297</td></tr>\n",
       "\t<tr><td> 0.03182280</td><td>-0.70371312</td></tr>\n",
       "\t<tr><td>-0.65082761</td><td>-0.02311045</td></tr>\n",
       "\t<tr><td> 1.88473105</td><td> 2.19433697</td></tr>\n",
       "\t<tr><td> 0.48042164</td><td> 1.22832027</td></tr>\n",
       "\t<tr><td>-0.94339207</td><td>-0.65980327</td></tr>\n",
       "\t<tr><td> 0.81199469</td><td> 0.52576268</td></tr>\n",
       "</tbody>\n",
       "</table>\n"
      ],
      "text/latex": [
       "A matrix: 19 × 2 of type dbl\n",
       "\\begin{tabular}{ll}\n",
       " height & weight\\\\\n",
       "\\hline\n",
       "\t -1.13843504 & -0.70371312\\\\\n",
       "\t  0.57794313 & -0.08897522\\\\\n",
       "\t  0.38290015 & -0.44025402\\\\\n",
       "\t -1.17744363 & -1.01108207\\\\\n",
       "\t -0.49479323 & -0.68175819\\\\\n",
       "\t  0.81199469 &  0.52576268\\\\\n",
       "\t -2.15265850 & -2.17469309\\\\\n",
       "\t  0.03182280 &  0.54771760\\\\\n",
       "\t  0.09033569 &  0.10861910\\\\\n",
       "\t  1.29960213 &  0.54771760\\\\\n",
       "\t  0.22686577 &  0.10861910\\\\\n",
       "\t  0.90951618 &  1.44786952\\\\\n",
       "\t -0.98240066 & -0.74762297\\\\\n",
       "\t  0.03182280 & -0.70371312\\\\\n",
       "\t -0.65082761 & -0.02311045\\\\\n",
       "\t  1.88473105 &  2.19433697\\\\\n",
       "\t  0.48042164 &  1.22832027\\\\\n",
       "\t -0.94339207 & -0.65980327\\\\\n",
       "\t  0.81199469 &  0.52576268\\\\\n",
       "\\end{tabular}\n"
      ],
      "text/markdown": [
       "\n",
       "A matrix: 19 × 2 of type dbl\n",
       "\n",
       "| height | weight |\n",
       "|---|---|\n",
       "| -1.13843504 | -0.70371312 |\n",
       "|  0.57794313 | -0.08897522 |\n",
       "|  0.38290015 | -0.44025402 |\n",
       "| -1.17744363 | -1.01108207 |\n",
       "| -0.49479323 | -0.68175819 |\n",
       "|  0.81199469 |  0.52576268 |\n",
       "| -2.15265850 | -2.17469309 |\n",
       "|  0.03182280 |  0.54771760 |\n",
       "|  0.09033569 |  0.10861910 |\n",
       "|  1.29960213 |  0.54771760 |\n",
       "|  0.22686577 |  0.10861910 |\n",
       "|  0.90951618 |  1.44786952 |\n",
       "| -0.98240066 | -0.74762297 |\n",
       "|  0.03182280 | -0.70371312 |\n",
       "| -0.65082761 | -0.02311045 |\n",
       "|  1.88473105 |  2.19433697 |\n",
       "|  0.48042164 |  1.22832027 |\n",
       "| -0.94339207 | -0.65980327 |\n",
       "|  0.81199469 |  0.52576268 |\n",
       "\n"
      ],
      "text/plain": [
       "      height      weight     \n",
       " [1,] -1.13843504 -0.70371312\n",
       " [2,]  0.57794313 -0.08897522\n",
       " [3,]  0.38290015 -0.44025402\n",
       " [4,] -1.17744363 -1.01108207\n",
       " [5,] -0.49479323 -0.68175819\n",
       " [6,]  0.81199469  0.52576268\n",
       " [7,] -2.15265850 -2.17469309\n",
       " [8,]  0.03182280  0.54771760\n",
       " [9,]  0.09033569  0.10861910\n",
       "[10,]  1.29960213  0.54771760\n",
       "[11,]  0.22686577  0.10861910\n",
       "[12,]  0.90951618  1.44786952\n",
       "[13,] -0.98240066 -0.74762297\n",
       "[14,]  0.03182280 -0.70371312\n",
       "[15,] -0.65082761 -0.02311045\n",
       "[16,]  1.88473105  2.19433697\n",
       "[17,]  0.48042164  1.22832027\n",
       "[18,] -0.94339207 -0.65980327\n",
       "[19,]  0.81199469  0.52576268"
      ]
     },
     "metadata": {},
     "output_type": "display_data"
    }
   ],
   "source": [
    "d.class |> \n",
    "  select(height, weight) |>\n",
    "  scale()"
   ]
  }
 ],
 "metadata": {
  "kernelspec": {
   "display_name": "R",
   "language": "R",
   "name": "ir"
  },
  "language_info": {
   "codemirror_mode": "r",
   "file_extension": ".r",
   "mimetype": "text/x-r-source",
   "name": "R",
   "pygments_lexer": "r",
   "version": "4.3.2"
  }
 },
 "nbformat": 4,
 "nbformat_minor": 2
}
